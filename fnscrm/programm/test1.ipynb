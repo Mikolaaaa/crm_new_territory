{
 "cells": [
  {
   "cell_type": "code",
   "execution_count": 38,
   "metadata": {},
   "outputs": [],
   "source": [
    "import pandas as pd\n",
    "import numpy as np\n",
    "import my_app_telegram_prog\n",
    "import sqlite3\n",
    "import datetime\n",
    "from difflib import SequenceMatcher\n",
    "import openpyxl\n",
    "from openpyxl import load_workbook"
   ]
  },
  {
   "cell_type": "code",
   "execution_count": 39,
   "metadata": {},
   "outputs": [],
   "source": [
    "addr_base = r'C:\\Server\\data\\htdocs\\fnscrm\\db.sqlite3'"
   ]
  },
  {
   "cell_type": "code",
   "execution_count": 2,
   "metadata": {},
   "outputs": [],
   "source": [
    "s = \"\"\"\n",
    "asf dsg \n",
    "https://t.me/c/1540598374/312?thread=196\n",
    "фыа к\n",
    " кцук\n",
    "\"\"\""
   ]
  },
  {
   "cell_type": "code",
   "execution_count": 9,
   "metadata": {},
   "outputs": [
    {
     "data": {
      "text/plain": [
       "-1"
      ]
     },
     "execution_count": 9,
     "metadata": {},
     "output_type": "execute_result"
    }
   ],
   "source": [
    "s.find('Ё')"
   ]
  },
  {
   "cell_type": "code",
   "execution_count": 7,
   "metadata": {},
   "outputs": [
    {
     "data": {
      "text/plain": [
       "'https://t.me/c/1540598374/312?thread=196'"
      ]
     },
     "execution_count": 7,
     "metadata": {},
     "output_type": "execute_result"
    }
   ],
   "source": [
    "s = s[s.find('https'):]\n",
    "s[:s.find('\\n')]"
   ]
  },
  {
   "cell_type": "code",
   "execution_count": 10,
   "metadata": {},
   "outputs": [],
   "source": [
    "link_message = 'asf dg dfg dfh fgh gfh'"
   ]
  },
  {
   "cell_type": "code",
   "execution_count": 20,
   "metadata": {},
   "outputs": [],
   "source": [
    "text_message_score = '\\nПожалуйста, оцените качество ответа специалиста.\\nhttps://t.me/c/1835998920/497?thread=11263\\nОтправьте текстом оценку, где:\\n1 - Полностью удовлетворен 😊\\n2 - Частично удовлетворен 😐\\n3 - Не удовлетворен ☹️'"
   ]
  },
  {
   "cell_type": "code",
   "execution_count": 21,
   "metadata": {},
   "outputs": [
    {
     "name": "stdout",
     "output_type": "stream",
     "text": [
      "\n",
      "Пожалуйста, оцените качество ответа специалиста.\n",
      "https://t.me/c/1835998920/497?thread=11263\n",
      "Отправьте текстом оценку, где:\n",
      "1 - Полностью удовлетворен 😊\n",
      "2 - Частично удовлетворен 😐\n",
      "3 - Не удовлетворен ☹️\n"
     ]
    }
   ],
   "source": [
    "print(text_message_score)"
   ]
  },
  {
   "cell_type": "code",
   "execution_count": 1,
   "metadata": {},
   "outputs": [],
   "source": [
    "import sqlite3"
   ]
  },
  {
   "cell_type": "code",
   "execution_count": 7,
   "metadata": {},
   "outputs": [
    {
     "name": "stdout",
     "output_type": "stream",
     "text": [
      "База данных создана и успешно подключена к SQLite\n",
      "Версия базы данных SQLite:  [('3.35.5',)]\n",
      "Соединение с SQLite закрыто\n"
     ]
    }
   ],
   "source": [
    "for i in range(1):\n",
    "    try:\n",
    "        sqlite_connection = sqlite3.connect(addr_base)\n",
    "        cursor = sqlite_connection.cursor()\n",
    "        print(\"База данных создана и успешно подключена к SQLite\")\n",
    "\n",
    "        sqlite_select_query = \"select sqlite_version();\"\n",
    "        cursor.execute(sqlite_select_query)\n",
    "        record = cursor.fetchall()\n",
    "        print(\"Версия базы данных SQLite: \", record)\n",
    "        cursor.close()\n",
    "\n",
    "    except sqlite3.Error as error:\n",
    "        print(\"Ошибка при подключении к sqlite\", error)\n",
    "    finally:\n",
    "        if (sqlite_connection):\n",
    "            sqlite_connection.close()\n",
    "            print(\"Соединение с SQLite закрыто\")"
   ]
  },
  {
   "cell_type": "code",
   "execution_count": 2,
   "metadata": {},
   "outputs": [],
   "source": [
    "import pandas as pd\n",
    "import numpy as np\n",
    "import datetime"
   ]
  },
  {
   "cell_type": "code",
   "execution_count": 6,
   "metadata": {},
   "outputs": [
    {
     "data": {
      "text/plain": [
       "(86, 8)"
      ]
     },
     "execution_count": 6,
     "metadata": {},
     "output_type": "execute_result"
    }
   ],
   "source": [
    "df = pd.read_excel('stat3.xlsx')\n",
    "df.shape"
   ]
  },
  {
   "cell_type": "code",
   "execution_count": 112,
   "metadata": {},
   "outputs": [
    {
     "data": {
      "text/plain": [
       "(4934, 9)"
      ]
     },
     "execution_count": 112,
     "metadata": {},
     "output_type": "execute_result"
    }
   ],
   "source": [
    "# index_drop = df[df['Дата и время поступления вопроса'].str.contains('\\n')==True].index\n",
    "# df = df.drop(index_drop).reset_index(drop=True)\n",
    "# index_drop1 = df[df['Дата и время публикации ответа'].str.contains('\\n')==True].index\n",
    "# df = df.drop(index_drop1).reset_index(drop=True)\n",
    "index_drop2 = df[df['Перенаправленный']==1.0].index\n",
    "df = df.drop(index_drop2).reset_index(drop=True)\n",
    "# index_drop3 = [411,]\n",
    "# df = df.drop(index_drop3).reset_index(drop=True)\n",
    "df.shape"
   ]
  },
  {
   "cell_type": "code",
   "execution_count": 7,
   "metadata": {},
   "outputs": [
    {
     "data": {
      "text/plain": [
       "86"
      ]
     },
     "execution_count": 7,
     "metadata": {},
     "output_type": "execute_result"
    }
   ],
   "source": [
    "list_date = []\n",
    "for i in df.index:\n",
    "    date = df.loc[i, 'Дата и время поступления вопроса']\n",
    "    if type(date) != datetime.datetime or type(date) == str:\n",
    "        \n",
    "        try:\n",
    "            str_data = df.loc[i, 'Дата и время поступления вопроса'].split('\\n')[0]\n",
    "            str_data = str_data.replace(' ', '').replace(':', '.').replace('ю', '.').replace(',', '.').replace('203', '2023').replace('..', '.').replace('20232', '2023').replace('(', '.').replace(')', '.').replace('0.42023', '04.2023').replace('202304', '2023.04')\n",
    "            if str_data[-1] == '.':\n",
    "                str_data = str_data[:-1]\n",
    "        \n",
    "            date = pd.to_datetime(str_data, format='%d.%m.%Y.%H.%M')\n",
    "        except:\n",
    "            date = datetime.datetime.now()\n",
    "        \n",
    "    list_date.append(date)\n",
    "            \n",
    "df['Дата и время поступления вопроса'] = list_date\n",
    "len(list_date)        "
   ]
  },
  {
   "cell_type": "code",
   "execution_count": 8,
   "metadata": {},
   "outputs": [
    {
     "data": {
      "text/plain": [
       "86"
      ]
     },
     "execution_count": 8,
     "metadata": {},
     "output_type": "execute_result"
    }
   ],
   "source": [
    "list_date = []\n",
    "for i in df.index:\n",
    "    date = df.loc[i, 'Дата и время публикации ответа']\n",
    "    if type(date) != datetime.datetime or type(date) == str:\n",
    "        \n",
    "        try:\n",
    "            str_data = df.loc[i, 'Дата и время публикации ответа'].split('\\n')[0]\n",
    "            str_data = str_data.replace(' ', '').replace(':', '.').replace('ю', '.').replace(',', '.').replace('203', '2023').replace('..', '.').replace('20232', '2023').replace('(', '.').replace(')', '.').replace('0.42023', '04.2023').replace('202304', '2023.04')\n",
    "            if str_data[-1] == '.':\n",
    "                str_data = str_data[:-1]\n",
    "        \n",
    "            date = pd.to_datetime(str_data, format='%d.%m.%Y.%H.%M')\n",
    "        except:\n",
    "            if date is np.nan and df.loc[i, 'Ответ'] != '' and not df.loc[i, 'Ответ'] is np.nan:\n",
    "                date = datetime.datetime.now()\n",
    "    \n",
    "    list_date.append(date)\n",
    "           \n",
    "df['Дата и время публикации ответа'] = list_date\n",
    "len(list_date)        "
   ]
  },
  {
   "cell_type": "code",
   "execution_count": 9,
   "metadata": {},
   "outputs": [
    {
     "data": {
      "text/html": [
       "<div>\n",
       "<style scoped>\n",
       "    .dataframe tbody tr th:only-of-type {\n",
       "        vertical-align: middle;\n",
       "    }\n",
       "\n",
       "    .dataframe tbody tr th {\n",
       "        vertical-align: top;\n",
       "    }\n",
       "\n",
       "    .dataframe thead th {\n",
       "        text-align: right;\n",
       "    }\n",
       "</style>\n",
       "<table border=\"1\" class=\"dataframe\">\n",
       "  <thead>\n",
       "    <tr style=\"text-align: right;\">\n",
       "      <th></th>\n",
       "      <th>№ Темы</th>\n",
       "      <th>№ п/п</th>\n",
       "      <th>Вопрос</th>\n",
       "      <th>Дата и время поступления вопроса</th>\n",
       "      <th>Ответ</th>\n",
       "      <th>Дата и время публикации ответа</th>\n",
       "      <th>Количество лайков</th>\n",
       "      <th>Количество дизлайков</th>\n",
       "    </tr>\n",
       "  </thead>\n",
       "  <tbody>\n",
       "    <tr>\n",
       "      <th>0</th>\n",
       "      <td>2</td>\n",
       "      <td>NaN</td>\n",
       "      <td>Добрый день! НО 1836 НП ИНН 183202128700 01.04...</td>\n",
       "      <td>2023-05-12 10:35:00</td>\n",
       "      <td>Пишите заявку на СТП ФКУ.</td>\n",
       "      <td>2023-05-12 13:26:00</td>\n",
       "      <td>NaN</td>\n",
       "      <td>NaN</td>\n",
       "    </tr>\n",
       "    <tr>\n",
       "      <th>1</th>\n",
       "      <td>2</td>\n",
       "      <td>NaN</td>\n",
       "      <td>Добрый день! Код НО 5100. Платежные документы ...</td>\n",
       "      <td>2023-05-12 11:13:00</td>\n",
       "      <td>По данному ИНН ФЛ снят с учета, платежное пору...</td>\n",
       "      <td>2023-05-12 13:03:00</td>\n",
       "      <td>NaN</td>\n",
       "      <td>NaN</td>\n",
       "    </tr>\n",
       "    <tr>\n",
       "      <th>2</th>\n",
       "      <td>2</td>\n",
       "      <td>NaN</td>\n",
       "      <td>Добрый день! НО 2300 в ведомости невыясненных ...</td>\n",
       "      <td>2023-05-12 11:40:00</td>\n",
       "      <td>Проанализируйте ситуацию.\\nПроведите полный ан...</td>\n",
       "      <td>2023-05-12 13:32:00</td>\n",
       "      <td>NaN</td>\n",
       "      <td>NaN</td>\n",
       "    </tr>\n",
       "    <tr>\n",
       "      <th>3</th>\n",
       "      <td>2</td>\n",
       "      <td>NaN</td>\n",
       "      <td>Здравствуйте. НО 7430 делали возврат налогопла...</td>\n",
       "      <td>2023-05-12 13:59:00</td>\n",
       "      <td>Ответ дан в телефонном режиме.</td>\n",
       "      <td>2023-05-12 15:38:00</td>\n",
       "      <td>NaN</td>\n",
       "      <td>NaN</td>\n",
       "    </tr>\n",
       "    <tr>\n",
       "      <th>4</th>\n",
       "      <td>2</td>\n",
       "      <td>NaN</td>\n",
       "      <td>Здравствуйте, платёжные документы от 22.06.201...</td>\n",
       "      <td>2023-05-12 15:51:00</td>\n",
       "      <td>Ответ дан в телефонном режиме.</td>\n",
       "      <td>2023-05-12 16:05:00</td>\n",
       "      <td>NaN</td>\n",
       "      <td>NaN</td>\n",
       "    </tr>\n",
       "  </tbody>\n",
       "</table>\n",
       "</div>"
      ],
      "text/plain": [
       "   № Темы № п/п                                             Вопрос  \\\n",
       "0       2   NaN  Добрый день! НО 1836 НП ИНН 183202128700 01.04...   \n",
       "1       2   NaN  Добрый день! Код НО 5100. Платежные документы ...   \n",
       "2       2   NaN  Добрый день! НО 2300 в ведомости невыясненных ...   \n",
       "3       2   NaN  Здравствуйте. НО 7430 делали возврат налогопла...   \n",
       "4       2   NaN  Здравствуйте, платёжные документы от 22.06.201...   \n",
       "\n",
       "  Дата и время поступления вопроса  \\\n",
       "0              2023-05-12 10:35:00   \n",
       "1              2023-05-12 11:13:00   \n",
       "2              2023-05-12 11:40:00   \n",
       "3              2023-05-12 13:59:00   \n",
       "4              2023-05-12 15:51:00   \n",
       "\n",
       "                                               Ответ  \\\n",
       "0                          Пишите заявку на СТП ФКУ.   \n",
       "1  По данному ИНН ФЛ снят с учета, платежное пору...   \n",
       "2  Проанализируйте ситуацию.\\nПроведите полный ан...   \n",
       "3                     Ответ дан в телефонном режиме.   \n",
       "4                     Ответ дан в телефонном режиме.   \n",
       "\n",
       "  Дата и время публикации ответа  Количество лайков  Количество дизлайков  \n",
       "0            2023-05-12 13:26:00                NaN                   NaN  \n",
       "1            2023-05-12 13:03:00                NaN                   NaN  \n",
       "2            2023-05-12 13:32:00                NaN                   NaN  \n",
       "3            2023-05-12 15:38:00                NaN                   NaN  \n",
       "4            2023-05-12 16:05:00                NaN                   NaN  "
      ]
     },
     "execution_count": 9,
     "metadata": {},
     "output_type": "execute_result"
    }
   ],
   "source": [
    "df.head(5)"
   ]
  },
  {
   "cell_type": "code",
   "execution_count": null,
   "metadata": {},
   "outputs": [],
   "source": []
  },
  {
   "cell_type": "code",
   "execution_count": 145,
   "metadata": {},
   "outputs": [],
   "source": [
    "sqlite_select_query = \"\"\"\n",
    "SELECT * FROM crm_questionanswerlog\n",
    "\"\"\""
   ]
  },
  {
   "cell_type": "code",
   "execution_count": 17,
   "metadata": {},
   "outputs": [
    {
     "data": {
      "text/plain": [
       "'\\nINSERT INTO crm_questionanswerlog VALUES(?,?,?,?,?,?,?,?,?,?,?,?,?,?,?,?,?,?,?,?,?,?)\\n'"
      ]
     },
     "execution_count": 17,
     "metadata": {},
     "output_type": "execute_result"
    }
   ],
   "source": [
    "sqlite_insert_query = f\"\"\"\n",
    "INSERT INTO crm_questionanswerlog VALUES({','.join(['?']*22)})\n",
    "\"\"\"\n",
    "sqlite_insert_query"
   ]
  },
  {
   "cell_type": "code",
   "execution_count": null,
   "metadata": {},
   "outputs": [],
   "source": []
  },
  {
   "cell_type": "code",
   "execution_count": null,
   "metadata": {},
   "outputs": [],
   "source": [
    "try:\n",
    "    sqlite_connection = sqlite3.connect(r'C:\\Work\\Projects\\fns crm\\db.sqlite3')\n",
    "    cursor = sqlite_connection.cursor()\n",
    "    print(\"База данных создана и успешно подключена к SQLite\")\n",
    "\n",
    "    # sqlite_select_query = \"select sqlite_version();\"\n",
    "    cursor.execute(sqlite_select_query)\n",
    "    record = cursor.fetchall()\n",
    "    # print(\"Версия базы данных SQLite: \", record)\n",
    "    for row in record:\n",
    "        print(row)\n",
    "    cursor.close()\n",
    "\n",
    "except sqlite3.Error as error:\n",
    "    print(\"Ошибка при подключении к sqlite\", error)\n",
    "finally:\n",
    "    if (sqlite_connection):\n",
    "        sqlite_connection.close()\n",
    "        print(\"Соединение с SQLite закрыто\")"
   ]
  },
  {
   "cell_type": "code",
   "execution_count": 13,
   "metadata": {},
   "outputs": [
    {
     "data": {
      "text/plain": [
       "Index(['№ Темы', '№ п/п', 'Вопрос', 'Дата и время поступления вопроса',\n",
       "       'Ответ', 'Дата и время публикации ответа', 'Количество лайков',\n",
       "       'Количество дизлайков', 'Перенаправленный', 'Промежуточный'],\n",
       "      dtype='object')"
      ]
     },
     "execution_count": 13,
     "metadata": {},
     "output_type": "execute_result"
    }
   ],
   "source": [
    "df.columns"
   ]
  },
  {
   "cell_type": "code",
   "execution_count": 66,
   "metadata": {},
   "outputs": [],
   "source": [
    "themes = [i for i in range(1, 22)]\n",
    "themes = themes[::-1]"
   ]
  },
  {
   "cell_type": "code",
   "execution_count": 78,
   "metadata": {},
   "outputs": [
    {
     "name": "stdout",
     "output_type": "stream",
     "text": [
      "База данных создана и успешно подключена к SQLite\n",
      "Соединение с SQLite закрыто\n"
     ]
    }
   ],
   "source": [
    "try:\n",
    "    sqlite_connection = sqlite3.connect(r'C:\\Work\\Projects\\fns crm\\db.sqlite3')\n",
    "    cursor = sqlite_connection.cursor()\n",
    "    print(\"База данных создана и успешно подключена к SQLite\")\n",
    "\n",
    "    for i in df.index:\n",
    "        query = [None, ] * 22\n",
    "        query[0] = None\n",
    "        query[1] = 1\n",
    "        query[2] = df.loc[i, 'Вопрос']\n",
    "        if not pd.isnull(df.loc[i, 'Дата и время публикации ответа']):\n",
    "            query[3] = str(df.loc[i, 'Дата и время публикации ответа'])\n",
    "        query[4] = str(df.loc[i, 'Дата и время поступления вопроса'])\n",
    "        if not pd.isnull(df.loc[i, 'Ответ']) and df.loc[i, 'Ответ'] != '':\n",
    "            query[6] = df.loc[i, 'Ответ']\n",
    "        query[7] = 0\n",
    "        query[8] = themes[df.loc[i, '№ Темы']-1] #Категория\n",
    "        query[12] = 0\n",
    "        if not pd.isnull(df.loc[i, 'Количество дизлайков']):\n",
    "            query[13] = df.loc[i, 'Количество дизлайков'] #ДизЛайк\n",
    "        else:\n",
    "            query[13] = 0\n",
    "        if not pd.isnull(df.loc[i, 'Количество лайков']):\n",
    "            query[14] = df.loc[i, 'Количество лайков'] #Лайк\n",
    "        else:\n",
    "            query[14] = 0\n",
    "        if pd.isnull(df.loc[i, 'Промежуточный']) and (not pd.isnull(df.loc[i, 'Ответ']) and df.loc[i, 'Ответ'] != ''):\n",
    "            query[17] = 1\n",
    "        else:\n",
    "            query[17] = 0\n",
    "        query[18] = 0\n",
    "        query[20] = 1\n",
    "        cursor.executemany(sqlite_insert_query, [tuple(query)])\n",
    "        sqlite_connection.commit()\n",
    "        # record = cursor.fetchall()\n",
    "        # print(\"Версия базы данных SQLite: \", record)\n",
    "        # for row in record:\n",
    "        #     print(row)\n",
    "    cursor.close()\n",
    "\n",
    "except sqlite3.Error as error:\n",
    "    print(\"Ошибка при подключении к sqlite\", error)\n",
    "finally:\n",
    "    if (sqlite_connection):\n",
    "        sqlite_connection.close()\n",
    "        print(\"Соединение с SQLite закрыто\")"
   ]
  },
  {
   "cell_type": "code",
   "execution_count": 80,
   "metadata": {},
   "outputs": [
    {
     "data": {
      "text/plain": [
       "1276.0"
      ]
     },
     "execution_count": 80,
     "metadata": {},
     "output_type": "execute_result"
    }
   ],
   "source": [
    "df['Количество лайков'].sum()"
   ]
  },
  {
   "cell_type": "code",
   "execution_count": 77,
   "metadata": {},
   "outputs": [
    {
     "data": {
      "text/html": [
       "<div>\n",
       "<style scoped>\n",
       "    .dataframe tbody tr th:only-of-type {\n",
       "        vertical-align: middle;\n",
       "    }\n",
       "\n",
       "    .dataframe tbody tr th {\n",
       "        vertical-align: top;\n",
       "    }\n",
       "\n",
       "    .dataframe thead th {\n",
       "        text-align: right;\n",
       "    }\n",
       "</style>\n",
       "<table border=\"1\" class=\"dataframe\">\n",
       "  <thead>\n",
       "    <tr style=\"text-align: right;\">\n",
       "      <th></th>\n",
       "      <th>№ Темы</th>\n",
       "      <th>№ п/п</th>\n",
       "      <th>Вопрос</th>\n",
       "      <th>Дата и время поступления вопроса</th>\n",
       "      <th>Ответ</th>\n",
       "      <th>Дата и время публикации ответа</th>\n",
       "      <th>Количество лайков</th>\n",
       "      <th>Количество дизлайков</th>\n",
       "      <th>Перенаправленный</th>\n",
       "      <th>Промежуточный</th>\n",
       "    </tr>\n",
       "  </thead>\n",
       "  <tbody>\n",
       "    <tr>\n",
       "      <th>13</th>\n",
       "      <td>1</td>\n",
       "      <td>14</td>\n",
       "      <td>4254 Шагиахметова Юлия Юрьевна тел 14-18.\\nЗдр...</td>\n",
       "      <td>2023-05-10 09:46:00.000000</td>\n",
       "      <td>NaN</td>\n",
       "      <td>NaN</td>\n",
       "      <td>NaN</td>\n",
       "      <td>NaN</td>\n",
       "      <td>NaN</td>\n",
       "      <td>NaN</td>\n",
       "    </tr>\n",
       "    <tr>\n",
       "      <th>371</th>\n",
       "      <td>2</td>\n",
       "      <td>362</td>\n",
       "      <td>Добрый день! НП обращается в НО с подтверждающ...</td>\n",
       "      <td>2023-04-19 12:37:00.000000</td>\n",
       "      <td>NaN</td>\n",
       "      <td>NaN</td>\n",
       "      <td>NaN</td>\n",
       "      <td>NaN</td>\n",
       "      <td>NaN</td>\n",
       "      <td>NaN</td>\n",
       "    </tr>\n",
       "    <tr>\n",
       "      <th>377</th>\n",
       "      <td>2</td>\n",
       "      <td>368</td>\n",
       "      <td>1683 Исмагилова А. Н.\\nИз ВН №1 был уточнено п...</td>\n",
       "      <td>2023-04-20 15:37:00.000000</td>\n",
       "      <td>NaN</td>\n",
       "      <td>NaN</td>\n",
       "      <td>NaN</td>\n",
       "      <td>NaN</td>\n",
       "      <td>NaN</td>\n",
       "      <td>NaN</td>\n",
       "    </tr>\n",
       "    <tr>\n",
       "      <th>379</th>\n",
       "      <td>2</td>\n",
       "      <td>370</td>\n",
       "      <td>5836 Абузярова А. Ж. Подскажите пожалуйста, Ка...</td>\n",
       "      <td>2023-04-20 16:54:00.000000</td>\n",
       "      <td>NaN</td>\n",
       "      <td>NaN</td>\n",
       "      <td>NaN</td>\n",
       "      <td>NaN</td>\n",
       "      <td>NaN</td>\n",
       "      <td>NaN</td>\n",
       "    </tr>\n",
       "    <tr>\n",
       "      <th>380</th>\n",
       "      <td>2</td>\n",
       "      <td>371</td>\n",
       "      <td>Здравствуйте! НО 5836.Абузярова Асия Жигановна...</td>\n",
       "      <td>2023-04-21 11:20:00.000000</td>\n",
       "      <td>NaN</td>\n",
       "      <td>NaN</td>\n",
       "      <td>NaN</td>\n",
       "      <td>NaN</td>\n",
       "      <td>NaN</td>\n",
       "      <td>NaN</td>\n",
       "    </tr>\n",
       "    <tr>\n",
       "      <th>381</th>\n",
       "      <td>2</td>\n",
       "      <td>372</td>\n",
       "      <td>Здравствуйте. Подскажите, пожалуйста, где тепе...</td>\n",
       "      <td>2023-04-21 12:52:00.000000</td>\n",
       "      <td>NaN</td>\n",
       "      <td>NaN</td>\n",
       "      <td>NaN</td>\n",
       "      <td>NaN</td>\n",
       "      <td>NaN</td>\n",
       "      <td>NaN</td>\n",
       "    </tr>\n",
       "    <tr>\n",
       "      <th>391</th>\n",
       "      <td>2</td>\n",
       "      <td>382</td>\n",
       "      <td>Здравствуйте! ИНН \\n100701500847. Оплата НДФЛ ...</td>\n",
       "      <td>2023-04-25 09:48:00.000000</td>\n",
       "      <td>NaN</td>\n",
       "      <td>NaN</td>\n",
       "      <td>NaN</td>\n",
       "      <td>NaN</td>\n",
       "      <td>NaN</td>\n",
       "      <td>NaN</td>\n",
       "    </tr>\n",
       "    <tr>\n",
       "      <th>405</th>\n",
       "      <td>2</td>\n",
       "      <td>396</td>\n",
       "      <td>Посоветуйте, что делать в сложившейся ситуации...</td>\n",
       "      <td>2023-04-26 16:07:00.000000</td>\n",
       "      <td>NaN</td>\n",
       "      <td>NaN</td>\n",
       "      <td>NaN</td>\n",
       "      <td>NaN</td>\n",
       "      <td>NaN</td>\n",
       "      <td>NaN</td>\n",
       "    </tr>\n",
       "    <tr>\n",
       "      <th>406</th>\n",
       "      <td>2</td>\n",
       "      <td>397</td>\n",
       "      <td>0700-Ахобекова Бэлла. Здравствуйте,  помогите ...</td>\n",
       "      <td>2023-04-26 16:16:00.000000</td>\n",
       "      <td>NaN</td>\n",
       "      <td>NaN</td>\n",
       "      <td>NaN</td>\n",
       "      <td>NaN</td>\n",
       "      <td>NaN</td>\n",
       "      <td>NaN</td>\n",
       "    </tr>\n",
       "    <tr>\n",
       "      <th>409</th>\n",
       "      <td>2</td>\n",
       "      <td>400</td>\n",
       "      <td>НО 2364 Муравьева Ольга Ивановна. Помогите пож...</td>\n",
       "      <td>2023-04-27 11:00:00.000000</td>\n",
       "      <td>NaN</td>\n",
       "      <td>NaN</td>\n",
       "      <td>NaN</td>\n",
       "      <td>NaN</td>\n",
       "      <td>NaN</td>\n",
       "      <td>NaN</td>\n",
       "    </tr>\n",
       "    <tr>\n",
       "      <th>422</th>\n",
       "      <td>2</td>\n",
       "      <td>413</td>\n",
       "      <td>НО 1105 ИНН 1105022035, УСН. Уплатил распоряже...</td>\n",
       "      <td>2023-04-28 13:06:00.000000</td>\n",
       "      <td>NaN</td>\n",
       "      <td>NaN</td>\n",
       "      <td>NaN</td>\n",
       "      <td>NaN</td>\n",
       "      <td>NaN</td>\n",
       "      <td>NaN</td>\n",
       "    </tr>\n",
       "    <tr>\n",
       "      <th>428</th>\n",
       "      <td>2</td>\n",
       "      <td>419</td>\n",
       "      <td>4254 Шагиахметова Юлия Юрьевна 14-18. Здравств...</td>\n",
       "      <td>2023-05-02 11:30:00.000000</td>\n",
       "      <td>NaN</td>\n",
       "      <td>NaN</td>\n",
       "      <td>NaN</td>\n",
       "      <td>NaN</td>\n",
       "      <td>NaN</td>\n",
       "      <td>NaN</td>\n",
       "    </tr>\n",
       "    <tr>\n",
       "      <th>432</th>\n",
       "      <td>2</td>\n",
       "      <td>423</td>\n",
       "      <td>Добрый день. НО 0200 Кидрячева Гульфия.\\nПлате...</td>\n",
       "      <td>2023-05-03 08:49:00.000000</td>\n",
       "      <td>NaN</td>\n",
       "      <td>NaN</td>\n",
       "      <td>NaN</td>\n",
       "      <td>NaN</td>\n",
       "      <td>NaN</td>\n",
       "      <td>NaN</td>\n",
       "    </tr>\n",
       "    <tr>\n",
       "      <th>433</th>\n",
       "      <td>2</td>\n",
       "      <td>424</td>\n",
       "      <td>Добрый день.\\nУдалите , пожалуйста, ОКТМО 4670...</td>\n",
       "      <td>2023-05-03 09:12:00.000000</td>\n",
       "      <td>NaN</td>\n",
       "      <td>NaN</td>\n",
       "      <td>NaN</td>\n",
       "      <td>NaN</td>\n",
       "      <td>NaN</td>\n",
       "      <td>NaN</td>\n",
       "    </tr>\n",
       "    <tr>\n",
       "      <th>434</th>\n",
       "      <td>2</td>\n",
       "      <td>425</td>\n",
       "      <td>Добрый день! Подскажите,  адвокаты уплачивают ...</td>\n",
       "      <td>2023-05-03 09:59:00.000000</td>\n",
       "      <td>NaN</td>\n",
       "      <td>NaN</td>\n",
       "      <td>NaN</td>\n",
       "      <td>NaN</td>\n",
       "      <td>NaN</td>\n",
       "      <td>NaN</td>\n",
       "    </tr>\n",
       "    <tr>\n",
       "      <th>437</th>\n",
       "      <td>2</td>\n",
       "      <td>428</td>\n",
       "      <td>Добрый день! Возможно вопрос не по адресу, но ...</td>\n",
       "      <td>2023-05-03 11:10:00.000000</td>\n",
       "      <td>NaN</td>\n",
       "      <td>NaN</td>\n",
       "      <td>NaN</td>\n",
       "      <td>NaN</td>\n",
       "      <td>NaN</td>\n",
       "      <td>NaN</td>\n",
       "    </tr>\n",
       "    <tr>\n",
       "      <th>445</th>\n",
       "      <td>2</td>\n",
       "      <td>436</td>\n",
       "      <td>7500.\\nЗдравствуйте.\\n9967 Ведомость НП раздел...</td>\n",
       "      <td>2023-05-05 07:59:00.000000</td>\n",
       "      <td>NaN</td>\n",
       "      <td>NaN</td>\n",
       "      <td>NaN</td>\n",
       "      <td>NaN</td>\n",
       "      <td>NaN</td>\n",
       "      <td>NaN</td>\n",
       "    </tr>\n",
       "    <tr>\n",
       "      <th>446</th>\n",
       "      <td>2</td>\n",
       "      <td>437</td>\n",
       "      <td>Здравствуйте, НО 5836. Отправляли заявки на РО...</td>\n",
       "      <td>2023-05-05 10:00:00.000000</td>\n",
       "      <td>NaN</td>\n",
       "      <td>NaN</td>\n",
       "      <td>NaN</td>\n",
       "      <td>NaN</td>\n",
       "      <td>NaN</td>\n",
       "      <td>NaN</td>\n",
       "    </tr>\n",
       "    <tr>\n",
       "      <th>453</th>\n",
       "      <td>2</td>\n",
       "      <td>444</td>\n",
       "      <td>Здравствуйте, уточните пожалуйста платеж в 3-й...</td>\n",
       "      <td>2023-05-10 11:01:00.000000</td>\n",
       "      <td>NaN</td>\n",
       "      <td>NaN</td>\n",
       "      <td>NaN</td>\n",
       "      <td>NaN</td>\n",
       "      <td>NaN</td>\n",
       "      <td>NaN</td>\n",
       "    </tr>\n",
       "    <tr>\n",
       "      <th>454</th>\n",
       "      <td>2</td>\n",
       "      <td>445</td>\n",
       "      <td>Добрый день. КОД НО 1101 ИНН 5047080554 . Упла...</td>\n",
       "      <td>2023-05-10 11:05:00.000000</td>\n",
       "      <td>NaN</td>\n",
       "      <td>NaN</td>\n",
       "      <td>NaN</td>\n",
       "      <td>NaN</td>\n",
       "      <td>NaN</td>\n",
       "      <td>NaN</td>\n",
       "    </tr>\n",
       "    <tr>\n",
       "      <th>455</th>\n",
       "      <td>2</td>\n",
       "      <td>446</td>\n",
       "      <td>Добрый день. 1800. ИНН 180301780887 сумма 442 ...</td>\n",
       "      <td>2023-05-10 11:06:00.000000</td>\n",
       "      <td>NaN</td>\n",
       "      <td>NaN</td>\n",
       "      <td>NaN</td>\n",
       "      <td>NaN</td>\n",
       "      <td>NaN</td>\n",
       "      <td>NaN</td>\n",
       "    </tr>\n",
       "    <tr>\n",
       "      <th>456</th>\n",
       "      <td>2</td>\n",
       "      <td>447</td>\n",
       "      <td>1683 Исмагилова А. Н.\\nВ Вед. Невыясненных №1п...</td>\n",
       "      <td>2023-05-10 12:20:00.000000</td>\n",
       "      <td>NaN</td>\n",
       "      <td>NaN</td>\n",
       "      <td>NaN</td>\n",
       "      <td>NaN</td>\n",
       "      <td>NaN</td>\n",
       "      <td>NaN</td>\n",
       "    </tr>\n",
       "    <tr>\n",
       "      <th>805</th>\n",
       "      <td>3</td>\n",
       "      <td>365</td>\n",
       "      <td>Добрый день! В журнале с/на ЕНП отражены \\n не...</td>\n",
       "      <td>2023-04-20 16:25:00.000000</td>\n",
       "      <td>NaN</td>\n",
       "      <td>NaN</td>\n",
       "      <td>NaN</td>\n",
       "      <td>NaN</td>\n",
       "      <td>NaN</td>\n",
       "      <td>NaN</td>\n",
       "    </tr>\n",
       "    <tr>\n",
       "      <th>831</th>\n",
       "      <td>3</td>\n",
       "      <td>394</td>\n",
       "      <td>Добрый день. НО 7838. Если не сюда, прошу реко...</td>\n",
       "      <td>2023-05-03 13:29:00.000000</td>\n",
       "      <td>NaN</td>\n",
       "      <td>NaN</td>\n",
       "      <td>NaN</td>\n",
       "      <td>NaN</td>\n",
       "      <td>NaN</td>\n",
       "      <td>NaN</td>\n",
       "    </tr>\n",
       "    <tr>\n",
       "      <th>833</th>\n",
       "      <td>3</td>\n",
       "      <td>396</td>\n",
       "      <td>Добрый вечер. НО 5836.Абузярова А. Ж.. НП ИНН ...</td>\n",
       "      <td>2023-05-03 17:42:00.000000</td>\n",
       "      <td>NaN</td>\n",
       "      <td>NaN</td>\n",
       "      <td>NaN</td>\n",
       "      <td>NaN</td>\n",
       "      <td>NaN</td>\n",
       "      <td>NaN</td>\n",
       "    </tr>\n",
       "    <tr>\n",
       "      <th>834</th>\n",
       "      <td>3</td>\n",
       "      <td>398</td>\n",
       "      <td>0269 Здравствуйте, бюджетная организация ошибо...</td>\n",
       "      <td>2023-05-04 09:56:00.000000</td>\n",
       "      <td>NaN</td>\n",
       "      <td>NaN</td>\n",
       "      <td>NaN</td>\n",
       "      <td>NaN</td>\n",
       "      <td>NaN</td>\n",
       "      <td>NaN</td>\n",
       "    </tr>\n",
       "    <tr>\n",
       "      <th>835</th>\n",
       "      <td>3</td>\n",
       "      <td>399</td>\n",
       "      <td>Код НО 2654. В отношении н/п Сапронов Виталий ...</td>\n",
       "      <td>2023-05-04 12:25:00.000000</td>\n",
       "      <td>NaN</td>\n",
       "      <td>NaN</td>\n",
       "      <td>NaN</td>\n",
       "      <td>NaN</td>\n",
       "      <td>NaN</td>\n",
       "      <td>NaN</td>\n",
       "    </tr>\n",
       "    <tr>\n",
       "      <th>836</th>\n",
       "      <td>3</td>\n",
       "      <td>400</td>\n",
       "      <td>Добрый день,подскажите,возник вопрос.\\nНалогоп...</td>\n",
       "      <td>2023-05-04 15:22:00.000000</td>\n",
       "      <td>NaN</td>\n",
       "      <td>NaN</td>\n",
       "      <td>NaN</td>\n",
       "      <td>NaN</td>\n",
       "      <td>NaN</td>\n",
       "      <td>NaN</td>\n",
       "    </tr>\n",
       "    <tr>\n",
       "      <th>837</th>\n",
       "      <td>3</td>\n",
       "      <td>401</td>\n",
       "      <td>Ифнс 6326 Сосновская Дарья Валериевна. \\nДобры...</td>\n",
       "      <td>2023-05-05 11:45:00.000000</td>\n",
       "      <td>NaN</td>\n",
       "      <td>NaN</td>\n",
       "      <td>NaN</td>\n",
       "      <td>NaN</td>\n",
       "      <td>NaN</td>\n",
       "      <td>NaN</td>\n",
       "    </tr>\n",
       "    <tr>\n",
       "      <th>838</th>\n",
       "      <td>3</td>\n",
       "      <td>402</td>\n",
       "      <td>Добрый день! Подскажите режим отмена решений о...</td>\n",
       "      <td>2023-05-05 12:37:00.000000</td>\n",
       "      <td>NaN</td>\n",
       "      <td>NaN</td>\n",
       "      <td>NaN</td>\n",
       "      <td>NaN</td>\n",
       "      <td>NaN</td>\n",
       "      <td>NaN</td>\n",
       "    </tr>\n",
       "    <tr>\n",
       "      <th>839</th>\n",
       "      <td>3</td>\n",
       "      <td>403</td>\n",
       "      <td>Добрый день, к нам массово обращаются плательщ...</td>\n",
       "      <td>2023-05-10 11:07:00.000000</td>\n",
       "      <td>NaN</td>\n",
       "      <td>NaN</td>\n",
       "      <td>NaN</td>\n",
       "      <td>NaN</td>\n",
       "      <td>NaN</td>\n",
       "      <td>NaN</td>\n",
       "    </tr>\n",
       "    <tr>\n",
       "      <th>1173</th>\n",
       "      <td>4</td>\n",
       "      <td>356</td>\n",
       "      <td>Доброе утро! Спасибо! Получается, что сотрудни...</td>\n",
       "      <td>2023-05-05 08:48:00.000000</td>\n",
       "      <td>NaN</td>\n",
       "      <td>NaN</td>\n",
       "      <td>NaN</td>\n",
       "      <td>NaN</td>\n",
       "      <td>NaN</td>\n",
       "      <td>NaN</td>\n",
       "    </tr>\n",
       "    <tr>\n",
       "      <th>1174</th>\n",
       "      <td>4</td>\n",
       "      <td>357</td>\n",
       "      <td>Код НО 6432 плательщик ИНН 6432233437 обратилс...</td>\n",
       "      <td>2023-05-10 11:18:00.000000</td>\n",
       "      <td>NaN</td>\n",
       "      <td>NaN</td>\n",
       "      <td>NaN</td>\n",
       "      <td>NaN</td>\n",
       "      <td>NaN</td>\n",
       "      <td>NaN</td>\n",
       "    </tr>\n",
       "    <tr>\n",
       "      <th>1175</th>\n",
       "      <td>4</td>\n",
       "      <td>358</td>\n",
       "      <td>5100 по плательщику 510701063714 числится пере...</td>\n",
       "      <td>2023-05-10 11:58:00.000000</td>\n",
       "      <td>NaN</td>\n",
       "      <td>NaN</td>\n",
       "      <td>NaN</td>\n",
       "      <td>NaN</td>\n",
       "      <td>NaN</td>\n",
       "      <td>NaN</td>\n",
       "    </tr>\n",
       "    <tr>\n",
       "      <th>1176</th>\n",
       "      <td>4</td>\n",
       "      <td>359</td>\n",
       "      <td>НО 6230 Здравствуйте, подскажите пожалуйста, к...</td>\n",
       "      <td>2023-05-10 12:30:00.000000</td>\n",
       "      <td>NaN</td>\n",
       "      <td>NaN</td>\n",
       "      <td>NaN</td>\n",
       "      <td>NaN</td>\n",
       "      <td>NaN</td>\n",
       "      <td>NaN</td>\n",
       "    </tr>\n",
       "    <tr>\n",
       "      <th>1177</th>\n",
       "      <td>4</td>\n",
       "      <td>360</td>\n",
       "      <td>Здравствуйте! Подскажи пожалуйста,как произвес...</td>\n",
       "      <td>2023-05-10 12:47:00.000000</td>\n",
       "      <td>NaN</td>\n",
       "      <td>NaN</td>\n",
       "      <td>NaN</td>\n",
       "      <td>NaN</td>\n",
       "      <td>NaN</td>\n",
       "      <td>NaN</td>\n",
       "    </tr>\n",
       "    <tr>\n",
       "      <th>2077</th>\n",
       "      <td>5</td>\n",
       "      <td>924</td>\n",
       "      <td>Здравствуйте! Подскажи пожалуйста,как вернуть ...</td>\n",
       "      <td>2023-05-04 16:12:00.000000</td>\n",
       "      <td>NaN</td>\n",
       "      <td>NaN</td>\n",
       "      <td>NaN</td>\n",
       "      <td>NaN</td>\n",
       "      <td>NaN</td>\n",
       "      <td>NaN</td>\n",
       "    </tr>\n",
       "    <tr>\n",
       "      <th>2089</th>\n",
       "      <td>5</td>\n",
       "      <td>938</td>\n",
       "      <td>НП 784204723333 представил заявление на возвра...</td>\n",
       "      <td>2023-05-10 09:44:00.000000</td>\n",
       "      <td>NaN</td>\n",
       "      <td>NaN</td>\n",
       "      <td>NaN</td>\n",
       "      <td>NaN</td>\n",
       "      <td>NaN</td>\n",
       "      <td>NaN</td>\n",
       "    </tr>\n",
       "    <tr>\n",
       "      <th>2090</th>\n",
       "      <td>5</td>\n",
       "      <td>939</td>\n",
       "      <td>5100 ИНН 511301145315, НП направил заявление н...</td>\n",
       "      <td>2023-05-10 09:52:00.000000</td>\n",
       "      <td>NaN</td>\n",
       "      <td>NaN</td>\n",
       "      <td>NaN</td>\n",
       "      <td>NaN</td>\n",
       "      <td>NaN</td>\n",
       "      <td>NaN</td>\n",
       "    </tr>\n",
       "    <tr>\n",
       "      <th>2091</th>\n",
       "      <td>5</td>\n",
       "      <td>940</td>\n",
       "      <td>По рекомендации в ЦУН внесены изменения ОКТМО ...</td>\n",
       "      <td>2023-05-10 09:55:00.000000</td>\n",
       "      <td>NaN</td>\n",
       "      <td>NaN</td>\n",
       "      <td>NaN</td>\n",
       "      <td>NaN</td>\n",
       "      <td>NaN</td>\n",
       "      <td>NaN</td>\n",
       "    </tr>\n",
       "    <tr>\n",
       "      <th>2092</th>\n",
       "      <td>5</td>\n",
       "      <td>941</td>\n",
       "      <td>5477.Здравствуйте.Подскажите, пожалуйста, на к...</td>\n",
       "      <td>2023-05-10 10:13:00.000000</td>\n",
       "      <td>NaN</td>\n",
       "      <td>NaN</td>\n",
       "      <td>NaN</td>\n",
       "      <td>NaN</td>\n",
       "      <td>NaN</td>\n",
       "      <td>NaN</td>\n",
       "    </tr>\n",
       "    <tr>\n",
       "      <th>2093</th>\n",
       "      <td>5</td>\n",
       "      <td>942</td>\n",
       "      <td>Здравствуйте! ВОПРОС ОТ 5300. По БЮДЖЕТНЫМ ОРГ...</td>\n",
       "      <td>2023-05-10 11:14:00.000000</td>\n",
       "      <td>NaN</td>\n",
       "      <td>NaN</td>\n",
       "      <td>NaN</td>\n",
       "      <td>NaN</td>\n",
       "      <td>NaN</td>\n",
       "      <td>NaN</td>\n",
       "    </tr>\n",
       "    <tr>\n",
       "      <th>2096</th>\n",
       "      <td>5</td>\n",
       "      <td>945</td>\n",
       "      <td>Добрый день, вопрос по Октмо(массовая проблема...</td>\n",
       "      <td>2023-05-10 12:27:00.000000</td>\n",
       "      <td>NaN</td>\n",
       "      <td>NaN</td>\n",
       "      <td>NaN</td>\n",
       "      <td>NaN</td>\n",
       "      <td>NaN</td>\n",
       "      <td>NaN</td>\n",
       "    </tr>\n",
       "    <tr>\n",
       "      <th>2253</th>\n",
       "      <td>6</td>\n",
       "      <td>193</td>\n",
       "      <td>Добрый. Суммы по годовой декларации по налогу ...</td>\n",
       "      <td>2023-05-03 14:37:00.000000</td>\n",
       "      <td>NaN</td>\n",
       "      <td>NaN</td>\n",
       "      <td>NaN</td>\n",
       "      <td>NaN</td>\n",
       "      <td>NaN</td>\n",
       "      <td>NaN</td>\n",
       "    </tr>\n",
       "    <tr>\n",
       "      <th>2254</th>\n",
       "      <td>6</td>\n",
       "      <td>195</td>\n",
       "      <td>В 20 теме мне прокомментировали почему так про...</td>\n",
       "      <td>2023-05-06 00:12:00.000000</td>\n",
       "      <td>NaN</td>\n",
       "      <td>NaN</td>\n",
       "      <td>NaN</td>\n",
       "      <td>NaN</td>\n",
       "      <td>NaN</td>\n",
       "      <td>NaN</td>\n",
       "    </tr>\n",
       "    <tr>\n",
       "      <th>2255</th>\n",
       "      <td>6</td>\n",
       "      <td>196</td>\n",
       "      <td>По восстановлению переплаты свыше 3 лет в журн...</td>\n",
       "      <td>2023-05-10 06:49:00.000000</td>\n",
       "      <td>NaN</td>\n",
       "      <td>NaN</td>\n",
       "      <td>NaN</td>\n",
       "      <td>NaN</td>\n",
       "      <td>NaN</td>\n",
       "      <td>NaN</td>\n",
       "    </tr>\n",
       "    <tr>\n",
       "      <th>2458</th>\n",
       "      <td>7</td>\n",
       "      <td>265</td>\n",
       "      <td>НО 7706. Платонова Т.В.\\nЗдравствуйте.\\n\\nПо д...</td>\n",
       "      <td>2023-04-18 16:38:00.000000</td>\n",
       "      <td>NaN</td>\n",
       "      <td>NaN</td>\n",
       "      <td>NaN</td>\n",
       "      <td>NaN</td>\n",
       "      <td>NaN</td>\n",
       "      <td>NaN</td>\n",
       "    </tr>\n",
       "    <tr>\n",
       "      <th>2473</th>\n",
       "      <td>7</td>\n",
       "      <td>284</td>\n",
       "      <td>7702 Добрый день! Организация Росгосцирк ИНН 7...</td>\n",
       "      <td>2023-04-26 17:53:00.000000</td>\n",
       "      <td>NaN</td>\n",
       "      <td>NaN</td>\n",
       "      <td>NaN</td>\n",
       "      <td>NaN</td>\n",
       "      <td>NaN</td>\n",
       "      <td>NaN</td>\n",
       "    </tr>\n",
       "    <tr>\n",
       "      <th>2658</th>\n",
       "      <td>8</td>\n",
       "      <td>200</td>\n",
       "      <td>Добрый день. КОД НО 1101 ИНН 5047080554 . Упла...</td>\n",
       "      <td>2023-05-10 11:04:00.000000</td>\n",
       "      <td>NaN</td>\n",
       "      <td>NaN</td>\n",
       "      <td>NaN</td>\n",
       "      <td>NaN</td>\n",
       "      <td>NaN</td>\n",
       "      <td>NaN</td>\n",
       "    </tr>\n",
       "    <tr>\n",
       "      <th>2873</th>\n",
       "      <td>11</td>\n",
       "      <td>6</td>\n",
       "      <td>И массово смотреть задолженность по списку НП ?</td>\n",
       "      <td>2023-05-10 23:47:41.039895</td>\n",
       "      <td>NaN</td>\n",
       "      <td>NaN</td>\n",
       "      <td>NaN</td>\n",
       "      <td>NaN</td>\n",
       "      <td>NaN</td>\n",
       "      <td>NaN</td>\n",
       "    </tr>\n",
       "    <tr>\n",
       "      <th>2883</th>\n",
       "      <td>11</td>\n",
       "      <td>16</td>\n",
       "      <td>Когда заработает фунционал расформирования зая...</td>\n",
       "      <td>2023-02-09 02:09:00.000000</td>\n",
       "      <td>NaN</td>\n",
       "      <td>NaN</td>\n",
       "      <td>NaN</td>\n",
       "      <td>NaN</td>\n",
       "      <td>NaN</td>\n",
       "      <td>NaN</td>\n",
       "    </tr>\n",
       "    <tr>\n",
       "      <th>2886</th>\n",
       "      <td>11</td>\n",
       "      <td>19</td>\n",
       "      <td>и Второе: если у НП есть и ЛК2 и ЛКИП, в какой...</td>\n",
       "      <td>2023-02-09 03:03:00.000000</td>\n",
       "      <td>NaN</td>\n",
       "      <td>NaN</td>\n",
       "      <td>NaN</td>\n",
       "      <td>NaN</td>\n",
       "      <td>NaN</td>\n",
       "      <td>NaN</td>\n",
       "    </tr>\n",
       "    <tr>\n",
       "      <th>3167</th>\n",
       "      <td>11</td>\n",
       "      <td>311</td>\n",
       "      <td>Здравствуйте, налогоплательщик обратился по во...</td>\n",
       "      <td>2023-05-05 15:52:00.000000</td>\n",
       "      <td>NaN</td>\n",
       "      <td>NaN</td>\n",
       "      <td>NaN</td>\n",
       "      <td>NaN</td>\n",
       "      <td>NaN</td>\n",
       "      <td>NaN</td>\n",
       "    </tr>\n",
       "    <tr>\n",
       "      <th>3168</th>\n",
       "      <td>11</td>\n",
       "      <td>312</td>\n",
       "      <td>Здравствуйте. Ранее вы писали, что можно вводи...</td>\n",
       "      <td>2023-05-10 11:25:00.000000</td>\n",
       "      <td>NaN</td>\n",
       "      <td>NaN</td>\n",
       "      <td>NaN</td>\n",
       "      <td>NaN</td>\n",
       "      <td>NaN</td>\n",
       "      <td>NaN</td>\n",
       "    </tr>\n",
       "    <tr>\n",
       "      <th>3318</th>\n",
       "      <td>15</td>\n",
       "      <td>40</td>\n",
       "      <td>Добрый день! 7000. С 21.04 отсутствует возможн...</td>\n",
       "      <td>2023-04-24 06:52:00.000000</td>\n",
       "      <td>NaN</td>\n",
       "      <td>NaN</td>\n",
       "      <td>NaN</td>\n",
       "      <td>NaN</td>\n",
       "      <td>NaN</td>\n",
       "      <td>NaN</td>\n",
       "    </tr>\n",
       "    <tr>\n",
       "      <th>3468</th>\n",
       "      <td>16</td>\n",
       "      <td>151</td>\n",
       "      <td>Добрый день. Должник ИНН 2923004142 код НО 290...</td>\n",
       "      <td>2023-05-10 09:04:00.000000</td>\n",
       "      <td>NaN</td>\n",
       "      <td>NaN</td>\n",
       "      <td>NaN</td>\n",
       "      <td>NaN</td>\n",
       "      <td>NaN</td>\n",
       "      <td>NaN</td>\n",
       "    </tr>\n",
       "    <tr>\n",
       "      <th>3643</th>\n",
       "      <td>18</td>\n",
       "      <td>144</td>\n",
       "      <td>Добрый день! Иванова Е.А. НО 1400 ИНН 14350000...</td>\n",
       "      <td>2023-05-10 03:49:00.000000</td>\n",
       "      <td>NaN</td>\n",
       "      <td>NaN</td>\n",
       "      <td>NaN</td>\n",
       "      <td>NaN</td>\n",
       "      <td>NaN</td>\n",
       "      <td>NaN</td>\n",
       "    </tr>\n",
       "    <tr>\n",
       "      <th>3678</th>\n",
       "      <td>19</td>\n",
       "      <td>40</td>\n",
       "      <td>Добрый день! 07 регион. Подскажите пожалуйста,...</td>\n",
       "      <td>2023-05-02 17:20:00.000000</td>\n",
       "      <td>NaN</td>\n",
       "      <td>NaN</td>\n",
       "      <td>NaN</td>\n",
       "      <td>NaN</td>\n",
       "      <td>NaN</td>\n",
       "      <td>NaN</td>\n",
       "    </tr>\n",
       "    <tr>\n",
       "      <th>4824</th>\n",
       "      <td>21</td>\n",
       "      <td>938</td>\n",
       "      <td>НО 1101 ИНН 5047080554, уплата распоряжением в...</td>\n",
       "      <td>2023-05-03 11:54:00.000000</td>\n",
       "      <td>NaN</td>\n",
       "      <td>NaN</td>\n",
       "      <td>NaN</td>\n",
       "      <td>NaN</td>\n",
       "      <td>NaN</td>\n",
       "      <td>NaN</td>\n",
       "    </tr>\n",
       "    <tr>\n",
       "      <th>4855</th>\n",
       "      <td>21</td>\n",
       "      <td>969</td>\n",
       "      <td>Здравствуйте! Ткр-9 ещё не снят?</td>\n",
       "      <td>2023-05-10 11:59:00.000000</td>\n",
       "      <td>NaN</td>\n",
       "      <td>NaN</td>\n",
       "      <td>NaN</td>\n",
       "      <td>NaN</td>\n",
       "      <td>NaN</td>\n",
       "      <td>NaN</td>\n",
       "    </tr>\n",
       "  </tbody>\n",
       "</table>\n",
       "</div>"
      ],
      "text/plain": [
       "      № Темы  № п/п                                             Вопрос  \\\n",
       "13         1     14  4254 Шагиахметова Юлия Юрьевна тел 14-18.\\nЗдр...   \n",
       "371        2    362  Добрый день! НП обращается в НО с подтверждающ...   \n",
       "377        2    368  1683 Исмагилова А. Н.\\nИз ВН №1 был уточнено п...   \n",
       "379        2    370  5836 Абузярова А. Ж. Подскажите пожалуйста, Ка...   \n",
       "380        2    371  Здравствуйте! НО 5836.Абузярова Асия Жигановна...   \n",
       "381        2    372  Здравствуйте. Подскажите, пожалуйста, где тепе...   \n",
       "391        2    382  Здравствуйте! ИНН \\n100701500847. Оплата НДФЛ ...   \n",
       "405        2    396  Посоветуйте, что делать в сложившейся ситуации...   \n",
       "406        2    397  0700-Ахобекова Бэлла. Здравствуйте,  помогите ...   \n",
       "409        2    400  НО 2364 Муравьева Ольга Ивановна. Помогите пож...   \n",
       "422        2    413  НО 1105 ИНН 1105022035, УСН. Уплатил распоряже...   \n",
       "428        2    419  4254 Шагиахметова Юлия Юрьевна 14-18. Здравств...   \n",
       "432        2    423  Добрый день. НО 0200 Кидрячева Гульфия.\\nПлате...   \n",
       "433        2    424  Добрый день.\\nУдалите , пожалуйста, ОКТМО 4670...   \n",
       "434        2    425  Добрый день! Подскажите,  адвокаты уплачивают ...   \n",
       "437        2    428  Добрый день! Возможно вопрос не по адресу, но ...   \n",
       "445        2    436  7500.\\nЗдравствуйте.\\n9967 Ведомость НП раздел...   \n",
       "446        2    437  Здравствуйте, НО 5836. Отправляли заявки на РО...   \n",
       "453        2    444  Здравствуйте, уточните пожалуйста платеж в 3-й...   \n",
       "454        2    445  Добрый день. КОД НО 1101 ИНН 5047080554 . Упла...   \n",
       "455        2    446  Добрый день. 1800. ИНН 180301780887 сумма 442 ...   \n",
       "456        2    447  1683 Исмагилова А. Н.\\nВ Вед. Невыясненных №1п...   \n",
       "805        3    365  Добрый день! В журнале с/на ЕНП отражены \\n не...   \n",
       "831        3    394  Добрый день. НО 7838. Если не сюда, прошу реко...   \n",
       "833        3    396  Добрый вечер. НО 5836.Абузярова А. Ж.. НП ИНН ...   \n",
       "834        3    398  0269 Здравствуйте, бюджетная организация ошибо...   \n",
       "835        3    399  Код НО 2654. В отношении н/п Сапронов Виталий ...   \n",
       "836        3    400  Добрый день,подскажите,возник вопрос.\\nНалогоп...   \n",
       "837        3    401  Ифнс 6326 Сосновская Дарья Валериевна. \\nДобры...   \n",
       "838        3    402  Добрый день! Подскажите режим отмена решений о...   \n",
       "839        3    403  Добрый день, к нам массово обращаются плательщ...   \n",
       "1173       4    356  Доброе утро! Спасибо! Получается, что сотрудни...   \n",
       "1174       4    357  Код НО 6432 плательщик ИНН 6432233437 обратилс...   \n",
       "1175       4    358  5100 по плательщику 510701063714 числится пере...   \n",
       "1176       4    359  НО 6230 Здравствуйте, подскажите пожалуйста, к...   \n",
       "1177       4    360  Здравствуйте! Подскажи пожалуйста,как произвес...   \n",
       "2077       5    924  Здравствуйте! Подскажи пожалуйста,как вернуть ...   \n",
       "2089       5    938  НП 784204723333 представил заявление на возвра...   \n",
       "2090       5    939  5100 ИНН 511301145315, НП направил заявление н...   \n",
       "2091       5    940  По рекомендации в ЦУН внесены изменения ОКТМО ...   \n",
       "2092       5    941  5477.Здравствуйте.Подскажите, пожалуйста, на к...   \n",
       "2093       5    942  Здравствуйте! ВОПРОС ОТ 5300. По БЮДЖЕТНЫМ ОРГ...   \n",
       "2096       5    945  Добрый день, вопрос по Октмо(массовая проблема...   \n",
       "2253       6    193  Добрый. Суммы по годовой декларации по налогу ...   \n",
       "2254       6    195  В 20 теме мне прокомментировали почему так про...   \n",
       "2255       6    196  По восстановлению переплаты свыше 3 лет в журн...   \n",
       "2458       7    265  НО 7706. Платонова Т.В.\\nЗдравствуйте.\\n\\nПо д...   \n",
       "2473       7    284  7702 Добрый день! Организация Росгосцирк ИНН 7...   \n",
       "2658       8    200  Добрый день. КОД НО 1101 ИНН 5047080554 . Упла...   \n",
       "2873      11      6    И массово смотреть задолженность по списку НП ?   \n",
       "2883      11     16  Когда заработает фунционал расформирования зая...   \n",
       "2886      11     19  и Второе: если у НП есть и ЛК2 и ЛКИП, в какой...   \n",
       "3167      11    311  Здравствуйте, налогоплательщик обратился по во...   \n",
       "3168      11    312  Здравствуйте. Ранее вы писали, что можно вводи...   \n",
       "3318      15     40  Добрый день! 7000. С 21.04 отсутствует возможн...   \n",
       "3468      16    151  Добрый день. Должник ИНН 2923004142 код НО 290...   \n",
       "3643      18    144  Добрый день! Иванова Е.А. НО 1400 ИНН 14350000...   \n",
       "3678      19     40  Добрый день! 07 регион. Подскажите пожалуйста,...   \n",
       "4824      21    938  НО 1101 ИНН 5047080554, уплата распоряжением в...   \n",
       "4855      21    969                   Здравствуйте! Ткр-9 ещё не снят?   \n",
       "\n",
       "     Дата и время поступления вопроса Ответ Дата и время публикации ответа  \\\n",
       "13         2023-05-10 09:46:00.000000   NaN                            NaN   \n",
       "371        2023-04-19 12:37:00.000000   NaN                            NaN   \n",
       "377        2023-04-20 15:37:00.000000   NaN                            NaN   \n",
       "379        2023-04-20 16:54:00.000000   NaN                            NaN   \n",
       "380        2023-04-21 11:20:00.000000   NaN                            NaN   \n",
       "381        2023-04-21 12:52:00.000000   NaN                            NaN   \n",
       "391        2023-04-25 09:48:00.000000   NaN                            NaN   \n",
       "405        2023-04-26 16:07:00.000000   NaN                            NaN   \n",
       "406        2023-04-26 16:16:00.000000   NaN                            NaN   \n",
       "409        2023-04-27 11:00:00.000000   NaN                            NaN   \n",
       "422        2023-04-28 13:06:00.000000   NaN                            NaN   \n",
       "428        2023-05-02 11:30:00.000000   NaN                            NaN   \n",
       "432        2023-05-03 08:49:00.000000   NaN                            NaN   \n",
       "433        2023-05-03 09:12:00.000000   NaN                            NaN   \n",
       "434        2023-05-03 09:59:00.000000   NaN                            NaN   \n",
       "437        2023-05-03 11:10:00.000000   NaN                            NaN   \n",
       "445        2023-05-05 07:59:00.000000   NaN                            NaN   \n",
       "446        2023-05-05 10:00:00.000000   NaN                            NaN   \n",
       "453        2023-05-10 11:01:00.000000   NaN                            NaN   \n",
       "454        2023-05-10 11:05:00.000000   NaN                            NaN   \n",
       "455        2023-05-10 11:06:00.000000   NaN                            NaN   \n",
       "456        2023-05-10 12:20:00.000000   NaN                            NaN   \n",
       "805        2023-04-20 16:25:00.000000   NaN                            NaN   \n",
       "831        2023-05-03 13:29:00.000000   NaN                            NaN   \n",
       "833        2023-05-03 17:42:00.000000   NaN                            NaN   \n",
       "834        2023-05-04 09:56:00.000000   NaN                            NaN   \n",
       "835        2023-05-04 12:25:00.000000   NaN                            NaN   \n",
       "836        2023-05-04 15:22:00.000000   NaN                            NaN   \n",
       "837        2023-05-05 11:45:00.000000   NaN                            NaN   \n",
       "838        2023-05-05 12:37:00.000000   NaN                            NaN   \n",
       "839        2023-05-10 11:07:00.000000   NaN                            NaN   \n",
       "1173       2023-05-05 08:48:00.000000   NaN                            NaN   \n",
       "1174       2023-05-10 11:18:00.000000   NaN                            NaN   \n",
       "1175       2023-05-10 11:58:00.000000   NaN                            NaN   \n",
       "1176       2023-05-10 12:30:00.000000   NaN                            NaN   \n",
       "1177       2023-05-10 12:47:00.000000   NaN                            NaN   \n",
       "2077       2023-05-04 16:12:00.000000   NaN                            NaN   \n",
       "2089       2023-05-10 09:44:00.000000   NaN                            NaN   \n",
       "2090       2023-05-10 09:52:00.000000   NaN                            NaN   \n",
       "2091       2023-05-10 09:55:00.000000   NaN                            NaN   \n",
       "2092       2023-05-10 10:13:00.000000   NaN                            NaN   \n",
       "2093       2023-05-10 11:14:00.000000   NaN                            NaN   \n",
       "2096       2023-05-10 12:27:00.000000   NaN                            NaN   \n",
       "2253       2023-05-03 14:37:00.000000   NaN                            NaN   \n",
       "2254       2023-05-06 00:12:00.000000   NaN                            NaN   \n",
       "2255       2023-05-10 06:49:00.000000   NaN                            NaN   \n",
       "2458       2023-04-18 16:38:00.000000   NaN                            NaN   \n",
       "2473       2023-04-26 17:53:00.000000   NaN                            NaN   \n",
       "2658       2023-05-10 11:04:00.000000   NaN                            NaN   \n",
       "2873       2023-05-10 23:47:41.039895   NaN                            NaN   \n",
       "2883       2023-02-09 02:09:00.000000   NaN                            NaN   \n",
       "2886       2023-02-09 03:03:00.000000   NaN                            NaN   \n",
       "3167       2023-05-05 15:52:00.000000   NaN                            NaN   \n",
       "3168       2023-05-10 11:25:00.000000   NaN                            NaN   \n",
       "3318       2023-04-24 06:52:00.000000   NaN                            NaN   \n",
       "3468       2023-05-10 09:04:00.000000   NaN                            NaN   \n",
       "3643       2023-05-10 03:49:00.000000   NaN                            NaN   \n",
       "3678       2023-05-02 17:20:00.000000   NaN                            NaN   \n",
       "4824       2023-05-03 11:54:00.000000   NaN                            NaN   \n",
       "4855       2023-05-10 11:59:00.000000   NaN                            NaN   \n",
       "\n",
       "      Количество лайков  Количество дизлайков  Перенаправленный  Промежуточный  \n",
       "13                  NaN                   NaN               NaN            NaN  \n",
       "371                 NaN                   NaN               NaN            NaN  \n",
       "377                 NaN                   NaN               NaN            NaN  \n",
       "379                 NaN                   NaN               NaN            NaN  \n",
       "380                 NaN                   NaN               NaN            NaN  \n",
       "381                 NaN                   NaN               NaN            NaN  \n",
       "391                 NaN                   NaN               NaN            NaN  \n",
       "405                 NaN                   NaN               NaN            NaN  \n",
       "406                 NaN                   NaN               NaN            NaN  \n",
       "409                 NaN                   NaN               NaN            NaN  \n",
       "422                 NaN                   NaN               NaN            NaN  \n",
       "428                 NaN                   NaN               NaN            NaN  \n",
       "432                 NaN                   NaN               NaN            NaN  \n",
       "433                 NaN                   NaN               NaN            NaN  \n",
       "434                 NaN                   NaN               NaN            NaN  \n",
       "437                 NaN                   NaN               NaN            NaN  \n",
       "445                 NaN                   NaN               NaN            NaN  \n",
       "446                 NaN                   NaN               NaN            NaN  \n",
       "453                 NaN                   NaN               NaN            NaN  \n",
       "454                 NaN                   NaN               NaN            NaN  \n",
       "455                 NaN                   NaN               NaN            NaN  \n",
       "456                 NaN                   NaN               NaN            NaN  \n",
       "805                 NaN                   NaN               NaN            NaN  \n",
       "831                 NaN                   NaN               NaN            NaN  \n",
       "833                 NaN                   NaN               NaN            NaN  \n",
       "834                 NaN                   NaN               NaN            NaN  \n",
       "835                 NaN                   NaN               NaN            NaN  \n",
       "836                 NaN                   NaN               NaN            NaN  \n",
       "837                 NaN                   NaN               NaN            NaN  \n",
       "838                 NaN                   NaN               NaN            NaN  \n",
       "839                 NaN                   NaN               NaN            NaN  \n",
       "1173                NaN                   NaN               NaN            NaN  \n",
       "1174                NaN                   NaN               NaN            NaN  \n",
       "1175                NaN                   NaN               NaN            NaN  \n",
       "1176                NaN                   NaN               NaN            NaN  \n",
       "1177                NaN                   NaN               NaN            NaN  \n",
       "2077                NaN                   NaN               NaN            NaN  \n",
       "2089                NaN                   NaN               NaN            NaN  \n",
       "2090                NaN                   NaN               NaN            NaN  \n",
       "2091                NaN                   NaN               NaN            NaN  \n",
       "2092                NaN                   NaN               NaN            NaN  \n",
       "2093                NaN                   NaN               NaN            NaN  \n",
       "2096                NaN                   NaN               NaN            NaN  \n",
       "2253                NaN                   NaN               NaN            NaN  \n",
       "2254                NaN                   NaN               NaN            NaN  \n",
       "2255                NaN                   NaN               NaN            NaN  \n",
       "2458                NaN                   NaN               NaN            NaN  \n",
       "2473                NaN                   NaN               NaN            NaN  \n",
       "2658                NaN                   NaN               NaN            NaN  \n",
       "2873                NaN                   NaN               NaN            NaN  \n",
       "2883                NaN                   NaN               NaN            NaN  \n",
       "2886                NaN                   NaN               NaN            NaN  \n",
       "3167                NaN                   NaN               NaN            NaN  \n",
       "3168                NaN                   NaN               NaN            NaN  \n",
       "3318                NaN                   NaN               NaN            NaN  \n",
       "3468                NaN                   NaN               NaN            NaN  \n",
       "3643                NaN                   NaN               NaN            NaN  \n",
       "3678                NaN                   NaN               NaN            NaN  \n",
       "4824                NaN                   NaN               NaN            NaN  \n",
       "4855                NaN                   NaN               NaN            NaN  "
      ]
     },
     "execution_count": 77,
     "metadata": {},
     "output_type": "execute_result"
    }
   ],
   "source": [
    "df[pd.isnull(df['Дата и время публикации ответа'])]"
   ]
  },
  {
   "cell_type": "code",
   "execution_count": null,
   "metadata": {},
   "outputs": [],
   "source": []
  },
  {
   "cell_type": "code",
   "execution_count": 1,
   "metadata": {},
   "outputs": [],
   "source": [
    "import pandas as pd\n",
    "import numpy as np\n",
    "import datetime\n",
    "from tqdm import tqdm"
   ]
  },
  {
   "cell_type": "code",
   "execution_count": 10,
   "metadata": {},
   "outputs": [
    {
     "data": {
      "text/plain": [
       "(86, 8)"
      ]
     },
     "execution_count": 10,
     "metadata": {},
     "output_type": "execute_result"
    }
   ],
   "source": [
    "df_stats = pd.read_excel('stat3.xlsx')\n",
    "df_stats.shape"
   ]
  },
  {
   "cell_type": "code",
   "execution_count": 11,
   "metadata": {},
   "outputs": [
    {
     "data": {
      "text/html": [
       "<div>\n",
       "<style scoped>\n",
       "    .dataframe tbody tr th:only-of-type {\n",
       "        vertical-align: middle;\n",
       "    }\n",
       "\n",
       "    .dataframe tbody tr th {\n",
       "        vertical-align: top;\n",
       "    }\n",
       "\n",
       "    .dataframe thead th {\n",
       "        text-align: right;\n",
       "    }\n",
       "</style>\n",
       "<table border=\"1\" class=\"dataframe\">\n",
       "  <thead>\n",
       "    <tr style=\"text-align: right;\">\n",
       "      <th></th>\n",
       "      <th>№ Темы</th>\n",
       "      <th>№ п/п</th>\n",
       "      <th>Вопрос</th>\n",
       "      <th>Дата и время поступления вопроса</th>\n",
       "      <th>Ответ</th>\n",
       "      <th>Дата и время публикации ответа</th>\n",
       "      <th>Количество лайков</th>\n",
       "      <th>Количество дизлайков</th>\n",
       "    </tr>\n",
       "  </thead>\n",
       "  <tbody>\n",
       "    <tr>\n",
       "      <th>0</th>\n",
       "      <td>2</td>\n",
       "      <td>NaN</td>\n",
       "      <td>Добрый день! НО 1836 НП ИНН 183202128700 01.04...</td>\n",
       "      <td>12.05.2023, 10.35</td>\n",
       "      <td>Пишите заявку на СТП ФКУ.</td>\n",
       "      <td>12.05.2023, 13.26</td>\n",
       "      <td>NaN</td>\n",
       "      <td>NaN</td>\n",
       "    </tr>\n",
       "    <tr>\n",
       "      <th>1</th>\n",
       "      <td>2</td>\n",
       "      <td>NaN</td>\n",
       "      <td>Добрый день! Код НО 5100. Платежные документы ...</td>\n",
       "      <td>12.05.2023, 11.13</td>\n",
       "      <td>По данному ИНН ФЛ снят с учета, платежное пору...</td>\n",
       "      <td>12.05.2023, 13.03</td>\n",
       "      <td>NaN</td>\n",
       "      <td>NaN</td>\n",
       "    </tr>\n",
       "  </tbody>\n",
       "</table>\n",
       "</div>"
      ],
      "text/plain": [
       "   № Темы № п/п                                             Вопрос  \\\n",
       "0       2   NaN  Добрый день! НО 1836 НП ИНН 183202128700 01.04...   \n",
       "1       2   NaN  Добрый день! Код НО 5100. Платежные документы ...   \n",
       "\n",
       "  Дата и время поступления вопроса  \\\n",
       "0                12.05.2023, 10.35   \n",
       "1                12.05.2023, 11.13   \n",
       "\n",
       "                                               Ответ  \\\n",
       "0                          Пишите заявку на СТП ФКУ.   \n",
       "1  По данному ИНН ФЛ снят с учета, платежное пору...   \n",
       "\n",
       "  Дата и время публикации ответа  Количество лайков  Количество дизлайков  \n",
       "0              12.05.2023, 13.26                NaN                   NaN  \n",
       "1              12.05.2023, 13.03                NaN                   NaN  "
      ]
     },
     "execution_count": 11,
     "metadata": {},
     "output_type": "execute_result"
    }
   ],
   "source": [
    "df_stats.head(2)"
   ]
  },
  {
   "cell_type": "code",
   "execution_count": 12,
   "metadata": {},
   "outputs": [],
   "source": [
    "def question_pred(x):\n",
    "\n",
    "    str1 = str(x).split('\\n_x000D_')\n",
    "    if len(str1) == 1:\n",
    "        return str1[0].replace('_x000D_', '').strip()\n",
    "    else:\n",
    "        return str1[-1][1:].replace('_x000D_', '').strip()"
   ]
  },
  {
   "cell_type": "code",
   "execution_count": 14,
   "metadata": {},
   "outputs": [],
   "source": [
    "df_stats['count_question'] = df_stats['Вопрос'].apply(lambda x: len(str(x).split('\\n_x000D_')))\n",
    "df_stats['question_one'] = df_stats['Вопрос'].apply(question_pred)"
   ]
  },
  {
   "cell_type": "code",
   "execution_count": 15,
   "metadata": {},
   "outputs": [
    {
     "data": {
      "text/plain": [
       "0     Добрый день! НО 1836 НП ИНН 183202128700 01.04...\n",
       "1     Добрый день! Код НО 5100. Платежные документы ...\n",
       "2     Добрый день! НО 2300 в ведомости невыясненных ...\n",
       "3     Здравствуйте. НО 7430 делали возврат налогопла...\n",
       "4     Здравствуйте, платёжные документы от 22.06.201...\n",
       "                            ...                        \n",
       "81    Здравствуйте. НП инн 3616022991 двойные начисл...\n",
       "82    Добрый день.  Прошло 13 мая и к сожалению проб...\n",
       "83    Добрый день, 1400 Варламова Е. Д. по плательщи...\n",
       "84    Добрый день. У НП ИНН 250905474149 по платежу ...\n",
       "85    Добрый день, присоединяюсь к предыдущему вопро...\n",
       "Name: question_one, Length: 86, dtype: object"
      ]
     },
     "execution_count": 15,
     "metadata": {},
     "output_type": "execute_result"
    }
   ],
   "source": [
    "df_stats['question_one']"
   ]
  },
  {
   "cell_type": "code",
   "execution_count": 16,
   "metadata": {},
   "outputs": [],
   "source": [
    "df_stats['answer_one'] = df_stats['Ответ'].apply(question_pred)"
   ]
  },
  {
   "cell_type": "code",
   "execution_count": 17,
   "metadata": {},
   "outputs": [
    {
     "data": {
      "text/plain": [
       "0                             Пишите заявку на СТП ФКУ.\n",
       "1     По данному ИНН ФЛ снят с учета, платежное пору...\n",
       "2     Проанализируйте ситуацию.\\nПроведите полный ан...\n",
       "3                        Ответ дан в телефонном режиме.\n",
       "4                        Ответ дан в телефонном режиме.\n",
       "                            ...                        \n",
       "81    Почему двойные начисления? Рег номер уведомлен...\n",
       "82    Если после 10 рабочих дней не сторнировалось, ...\n",
       "83    Налог, рег номер уведомления, суммы?\\n\\nВопрос...\n",
       "84    Проводится работа по определению правильного с...\n",
       "85    Проводится работа по определению правильного с...\n",
       "Name: answer_one, Length: 86, dtype: object"
      ]
     },
     "execution_count": 17,
     "metadata": {},
     "output_type": "execute_result"
    }
   ],
   "source": [
    "df_stats['answer_one']"
   ]
  },
  {
   "cell_type": "code",
   "execution_count": 18,
   "metadata": {},
   "outputs": [],
   "source": [
    "df_stats['question_count_message'] = 0"
   ]
  },
  {
   "cell_type": "code",
   "execution_count": 48,
   "metadata": {},
   "outputs": [],
   "source": [
    "df_stats['answer_count_message'] = 0"
   ]
  },
  {
   "cell_type": "code",
   "execution_count": 19,
   "metadata": {},
   "outputs": [],
   "source": [
    "from crm.bot import my_app_telegram_functions\n",
    "# import asyncio"
   ]
  },
  {
   "cell_type": "code",
   "execution_count": 14,
   "metadata": {},
   "outputs": [
    {
     "data": {
      "text/plain": [
       "{'question': '2369 Добрый день! Пожалуйста, окажите содействие в подписании заявки на',\n",
       " 'answer_text': '',\n",
       " 'id_message': 28220,\n",
       " 'count': 1}"
      ]
     },
     "execution_count": 14,
     "metadata": {},
     "output_type": "execute_result"
    }
   ],
   "source": [
    "text = \"\"\"2369 Добрый день! Пожалуйста, окажите содействие в подписании заявки на\"\"\"\n",
    "l = [{'question': text, 'answer_text': ''}\n",
    "     ]\n",
    "list1 = await my_app_telegram_functions.search_message(l)\n",
    "list1"
   ]
  },
  {
   "cell_type": "code",
   "execution_count": 34,
   "metadata": {},
   "outputs": [
    {
     "data": {
      "text/plain": [
       "'А то очень удобно было обратиться к материалам и вебинарам'"
      ]
     },
     "execution_count": 34,
     "metadata": {},
     "output_type": "execute_result"
    }
   ],
   "source": [
    "df_stats.loc[0, 'question_one'].strip()"
   ]
  },
  {
   "cell_type": "code",
   "execution_count": 20,
   "metadata": {},
   "outputs": [],
   "source": [
    "df_stats['id_message'] = 0"
   ]
  },
  {
   "cell_type": "code",
   "execution_count": null,
   "metadata": {},
   "outputs": [],
   "source": []
  },
  {
   "cell_type": "code",
   "execution_count": 21,
   "metadata": {},
   "outputs": [
    {
     "name": "stdout",
     "output_type": "stream",
     "text": [
      "Нашлось: 0\n",
      "Нашлось: 1\n",
      "Нашлось: 2\n",
      "Нашлось: 3\n",
      "Нашлось: 4\n",
      "Нашлось: 5\n",
      "Нашлось: 6\n",
      "Нашлось: 7\n",
      "Нашлось: 8\n",
      "Нашлось: 9\n",
      "Нашлось: 10\n",
      "Нашлось: 11\n"
     ]
    },
    {
     "name": "stderr",
     "output_type": "stream",
     "text": [
      "[C:/Work/Projects/fns crm/crm/bot/mysessionfns] Waiting for 3 seconds before continuing (required by \"users.GetFullUser\")\n"
     ]
    },
    {
     "name": "stdout",
     "output_type": "stream",
     "text": [
      "Нашлось: 12\n",
      "Нашлось: 13\n",
      "Нашлось: 14\n",
      "Нашлось: 15\n"
     ]
    },
    {
     "name": "stderr",
     "output_type": "stream",
     "text": [
      "[C:/Work/Projects/fns crm/crm/bot/mysessionfns] Waiting for 6 seconds before continuing (required by \"users.GetFullUser\")\n"
     ]
    },
    {
     "name": "stdout",
     "output_type": "stream",
     "text": [
      "Нашлось: 16\n",
      "Нашлось: 17\n",
      "Нашлось: 18\n",
      "Нашлось: 19\n"
     ]
    },
    {
     "name": "stderr",
     "output_type": "stream",
     "text": [
      "[C:/Work/Projects/fns crm/crm/bot/mysessionfns] Waiting for 6 seconds before continuing (required by \"users.GetFullUser\")\n"
     ]
    },
    {
     "name": "stdout",
     "output_type": "stream",
     "text": [
      "Нашлось: 20\n",
      "Нашлось: 21\n",
      "Нашлось: 22\n",
      "Нашлось: 23\n"
     ]
    },
    {
     "name": "stderr",
     "output_type": "stream",
     "text": [
      "[C:/Work/Projects/fns crm/crm/bot/mysessionfns] Waiting for 7 seconds before continuing (required by \"users.GetFullUser\")\n"
     ]
    },
    {
     "name": "stdout",
     "output_type": "stream",
     "text": [
      "Нашлось: 24\n",
      "Нашлось: 25\n",
      "Нашлось: 26\n",
      "Нашлось: 27\n"
     ]
    },
    {
     "name": "stderr",
     "output_type": "stream",
     "text": [
      "[C:/Work/Projects/fns crm/crm/bot/mysessionfns] Waiting for 7 seconds before continuing (required by \"users.GetFullUser\")\n"
     ]
    },
    {
     "name": "stdout",
     "output_type": "stream",
     "text": [
      "Нашлось: 28\n",
      "Нашлось: 29\n",
      "Нашлось: 30\n",
      "Нашлось: 31\n"
     ]
    },
    {
     "name": "stderr",
     "output_type": "stream",
     "text": [
      "[C:/Work/Projects/fns crm/crm/bot/mysessionfns] Waiting for 6 seconds before continuing (required by \"users.GetFullUser\")\n"
     ]
    },
    {
     "name": "stdout",
     "output_type": "stream",
     "text": [
      "Нашлось: 32\n",
      "Нашлось: 33\n",
      "Нашлось: 34\n",
      "Нашлось: 35\n"
     ]
    },
    {
     "name": "stderr",
     "output_type": "stream",
     "text": [
      "[C:/Work/Projects/fns crm/crm/bot/mysessionfns] Waiting for 7 seconds before continuing (required by \"users.GetFullUser\")\n"
     ]
    },
    {
     "name": "stdout",
     "output_type": "stream",
     "text": [
      "Нашлось: 36\n",
      "Нашлось: 37\n",
      "Нашлось: 38\n",
      "Нашлось: 39\n"
     ]
    },
    {
     "name": "stderr",
     "output_type": "stream",
     "text": [
      "[C:/Work/Projects/fns crm/crm/bot/mysessionfns] Waiting for 7 seconds before continuing (required by \"users.GetFullUser\")\n"
     ]
    },
    {
     "name": "stdout",
     "output_type": "stream",
     "text": [
      "Нашлось: 40\n",
      "Нашлось: 41\n",
      "Нашлось: 42\n",
      "Нашлось: 43\n"
     ]
    },
    {
     "name": "stderr",
     "output_type": "stream",
     "text": [
      "[C:/Work/Projects/fns crm/crm/bot/mysessionfns] Waiting for 7 seconds before continuing (required by \"users.GetFullUser\")\n"
     ]
    },
    {
     "name": "stdout",
     "output_type": "stream",
     "text": [
      "Не нашлось: 44\n",
      "Нашлось: 45\n",
      "Нашлось: 46\n",
      "Нашлось: 47\n"
     ]
    },
    {
     "name": "stderr",
     "output_type": "stream",
     "text": [
      "[C:/Work/Projects/fns crm/crm/bot/mysessionfns] Waiting for 7 seconds before continuing (required by \"users.GetFullUser\")\n"
     ]
    },
    {
     "name": "stdout",
     "output_type": "stream",
     "text": [
      "Нашлось: 48\n",
      "Нашлось: 49\n",
      "Нашлось: 50\n",
      "Нашлось: 51\n"
     ]
    },
    {
     "name": "stderr",
     "output_type": "stream",
     "text": [
      "[C:/Work/Projects/fns crm/crm/bot/mysessionfns] Waiting for 7 seconds before continuing (required by \"users.GetFullUser\")\n"
     ]
    },
    {
     "name": "stdout",
     "output_type": "stream",
     "text": [
      "Нашлось: 52\n",
      "Нашлось: 53\n",
      "Нашлось: 54\n",
      "Нашлось: 55\n"
     ]
    },
    {
     "name": "stderr",
     "output_type": "stream",
     "text": [
      "[C:/Work/Projects/fns crm/crm/bot/mysessionfns] Waiting for 7 seconds before continuing (required by \"users.GetFullUser\")\n"
     ]
    },
    {
     "name": "stdout",
     "output_type": "stream",
     "text": [
      "Нашлось: 56\n",
      "Нашлось: 57\n",
      "Нашлось: 58\n",
      "Нашлось: 59\n"
     ]
    },
    {
     "name": "stderr",
     "output_type": "stream",
     "text": [
      "[C:/Work/Projects/fns crm/crm/bot/mysessionfns] Waiting for 6 seconds before continuing (required by \"users.GetFullUser\")\n"
     ]
    },
    {
     "name": "stdout",
     "output_type": "stream",
     "text": [
      "Нашлось: 60\n",
      "Нашлось: 61\n",
      "Нашлось: 62\n",
      "Нашлось: 63\n"
     ]
    },
    {
     "name": "stderr",
     "output_type": "stream",
     "text": [
      "[C:/Work/Projects/fns crm/crm/bot/mysessionfns] Waiting for 6 seconds before continuing (required by \"users.GetFullUser\")\n"
     ]
    },
    {
     "name": "stdout",
     "output_type": "stream",
     "text": [
      "Нашлось: 64\n",
      "Нашлось: 65\n",
      "Нашлось: 66\n",
      "Нашлось: 67\n"
     ]
    },
    {
     "name": "stderr",
     "output_type": "stream",
     "text": [
      "[C:/Work/Projects/fns crm/crm/bot/mysessionfns] Waiting for 8 seconds before continuing (required by \"users.GetFullUser\")\n"
     ]
    },
    {
     "name": "stdout",
     "output_type": "stream",
     "text": [
      "Нашлось: 68\n",
      "Нашлось: 69\n",
      "Нашлось: 70\n",
      "Нашлось: 71\n"
     ]
    },
    {
     "name": "stderr",
     "output_type": "stream",
     "text": [
      "[C:/Work/Projects/fns crm/crm/bot/mysessionfns] Waiting for 6 seconds before continuing (required by \"users.GetFullUser\")\n"
     ]
    },
    {
     "name": "stdout",
     "output_type": "stream",
     "text": [
      "Нашлось: 72\n",
      "Нашлось: 73\n",
      "Нашлось: 74\n",
      "Нашлось: 75\n"
     ]
    },
    {
     "name": "stderr",
     "output_type": "stream",
     "text": [
      "[C:/Work/Projects/fns crm/crm/bot/mysessionfns] Waiting for 6 seconds before continuing (required by \"users.GetFullUser\")\n"
     ]
    },
    {
     "name": "stdout",
     "output_type": "stream",
     "text": [
      "Нашлось: 76\n",
      "Нашлось: 77\n",
      "Нашлось: 78\n",
      "Нашлось: 79\n"
     ]
    },
    {
     "name": "stderr",
     "output_type": "stream",
     "text": [
      "[C:/Work/Projects/fns crm/crm/bot/mysessionfns] Waiting for 7 seconds before continuing (required by \"users.GetFullUser\")\n"
     ]
    },
    {
     "name": "stdout",
     "output_type": "stream",
     "text": [
      "Нашлось: 80\n",
      "Нашлось: 81\n",
      "Нашлось: 82\n",
      "Нашлось: 83\n"
     ]
    },
    {
     "name": "stderr",
     "output_type": "stream",
     "text": [
      "[C:/Work/Projects/fns crm/crm/bot/mysessionfns] Waiting for 7 seconds before continuing (required by \"users.GetFullUser\")\n"
     ]
    },
    {
     "name": "stdout",
     "output_type": "stream",
     "text": [
      "Нашлось: 84\n",
      "Нашлось: 85\n"
     ]
    }
   ],
   "source": [
    "for i in df_stats.index:\n",
    "\n",
    "    if int(df_stats.loc[i, 'id_message']) != 0:\n",
    "        continue\n",
    "\n",
    "    l = [{'question': str(df_stats.loc[i, 'question_one']).replace('_x000D_', '').strip()[:100], 'answer_text': ''}\n",
    "     ]\n",
    "    result = await my_app_telegram_functions.search_message(l)\n",
    "\n",
    "    if result != None:\n",
    "        df_stats.loc[i, 'id_message'] = result['id_message']\n",
    "        df_stats.loc[i, 'question_count_message'] = result['count']\n",
    "\n",
    "    # if i % 20 or i == df_stats.shape[1]-1:\n",
    "\n",
    "        print(f'Нашлось: {i}')\n",
    "        df_stats.to_excel('Месяц статистики new 1.xlsx', index=False)\n",
    "    else:\n",
    "        print(f'Не нашлось: {i}')\n",
    "df_stats.to_excel('Месяц статистики new 1.xlsx', index=False)"
   ]
  },
  {
   "cell_type": "code",
   "execution_count": 47,
   "metadata": {},
   "outputs": [
    {
     "data": {
      "text/plain": [
       "Index(['id', 'id_message', 'question', 'datetime', 'datetime_question',\n",
       "       'answer_id', 'answer_text', 'it_test', 'category_id',\n",
       "       'reply_to_message_id', 'specialist_id', 'retarget_category_id',\n",
       "       'it_agreed', 'dislike', 'like', 'id_message_answer',\n",
       "       'id_question_autor', 'it_finaly', 'score_answer',\n",
       "       'comment_retarget_category', 'it_last_message_in_dialog',\n",
       "       'first_question_id', 'count_question', 'question_one',\n",
       "       'question_count_message', 'answer_one'],\n",
       "      dtype='object')"
      ]
     },
     "execution_count": 47,
     "metadata": {},
     "output_type": "execute_result"
    }
   ],
   "source": [
    "df_stats.columns"
   ]
  },
  {
   "cell_type": "code",
   "execution_count": 54,
   "metadata": {},
   "outputs": [
    {
     "data": {
      "text/plain": [
       "True"
      ]
     },
     "execution_count": 54,
     "metadata": {},
     "output_type": "execute_result"
    }
   ],
   "source": [
    "pd.isna(df_stats.loc[1, 'answer_id'])"
   ]
  },
  {
   "cell_type": "code",
   "execution_count": 57,
   "metadata": {},
   "outputs": [
    {
     "name": "stdout",
     "output_type": "stream",
     "text": [
      "Не нашлось: 126\n",
      "Не нашлось: 127\n",
      "Не нашлось: 128\n",
      "Не нашлось: 129\n"
     ]
    },
    {
     "name": "stderr",
     "output_type": "stream",
     "text": [
      "[C:/Work/Projects/fns crm/crm/bot/mysessionfns] Waiting for 6 seconds before continuing (required by \"users.GetFullUser\")\n"
     ]
    },
    {
     "name": "stdout",
     "output_type": "stream",
     "text": [
      "Не нашлось: 130\n",
      "Не нашлось: 131\n",
      "Не нашлось: 132\n",
      "Не нашлось: 133\n"
     ]
    },
    {
     "name": "stderr",
     "output_type": "stream",
     "text": [
      "[C:/Work/Projects/fns crm/crm/bot/mysessionfns] Waiting for 6 seconds before continuing (required by \"users.GetFullUser\")\n"
     ]
    },
    {
     "name": "stdout",
     "output_type": "stream",
     "text": [
      "Не нашлось: 134\n",
      "Не нашлось: 135\n",
      "Не нашлось: 136\n",
      "Не нашлось: 137\n"
     ]
    },
    {
     "name": "stderr",
     "output_type": "stream",
     "text": [
      "[C:/Work/Projects/fns crm/crm/bot/mysessionfns] Waiting for 8 seconds before continuing (required by \"users.GetFullUser\")\n"
     ]
    },
    {
     "name": "stdout",
     "output_type": "stream",
     "text": [
      "Не нашлось: 138\n",
      "Нашлось: 139\n",
      "Нашлось: 140\n",
      "Не нашлось: 141\n",
      "Не нашлось: 142\n",
      "Не нашлось: 143\n",
      "Не нашлось: 144\n",
      "Не нашлось: 145\n",
      "Не нашлось: 146\n",
      "Не нашлось: 147\n"
     ]
    },
    {
     "name": "stderr",
     "output_type": "stream",
     "text": [
      "[C:/Work/Projects/fns crm/crm/bot/mysessionfns] Waiting for 7 seconds before continuing (required by \"users.GetFullUser\")\n"
     ]
    },
    {
     "name": "stdout",
     "output_type": "stream",
     "text": [
      "Нашлось: 148\n",
      "Не нашлось: 149\n",
      "Не нашлось: 150\n",
      "Не нашлось: 151\n"
     ]
    },
    {
     "name": "stderr",
     "output_type": "stream",
     "text": [
      "[C:/Work/Projects/fns crm/crm/bot/mysessionfns] Waiting for 6 seconds before continuing (required by \"users.GetFullUser\")\n"
     ]
    },
    {
     "name": "stdout",
     "output_type": "stream",
     "text": [
      "Не нашлось: 152\n",
      "Не нашлось: 153\n",
      "Нашлось: 154\n",
      "Не нашлось: 155\n"
     ]
    },
    {
     "name": "stderr",
     "output_type": "stream",
     "text": [
      "[C:/Work/Projects/fns crm/crm/bot/mysessionfns] Waiting for 4 seconds before continuing (required by \"users.GetFullUser\")\n"
     ]
    },
    {
     "name": "stdout",
     "output_type": "stream",
     "text": [
      "Нашлось: 156\n",
      "Не нашлось: 157\n",
      "Не нашлось: 158\n",
      "Не нашлось: 159\n"
     ]
    },
    {
     "name": "stderr",
     "output_type": "stream",
     "text": [
      "[C:/Work/Projects/fns crm/crm/bot/mysessionfns] Waiting for 6 seconds before continuing (required by \"users.GetFullUser\")\n"
     ]
    },
    {
     "name": "stdout",
     "output_type": "stream",
     "text": [
      "Не нашлось: 160\n",
      "Не нашлось: 161\n",
      "Не нашлось: 162\n",
      "Не нашлось: 163\n"
     ]
    },
    {
     "name": "stderr",
     "output_type": "stream",
     "text": [
      "[C:/Work/Projects/fns crm/crm/bot/mysessionfns] Waiting for 6 seconds before continuing (required by \"users.GetFullUser\")\n"
     ]
    },
    {
     "name": "stdout",
     "output_type": "stream",
     "text": [
      "Не нашлось: 164\n",
      "Не нашлось: 165\n",
      "Не нашлось: 166\n",
      "Не нашлось: 167\n"
     ]
    },
    {
     "name": "stderr",
     "output_type": "stream",
     "text": [
      "[C:/Work/Projects/fns crm/crm/bot/mysessionfns] Waiting for 7 seconds before continuing (required by \"users.GetFullUser\")\n"
     ]
    },
    {
     "name": "stdout",
     "output_type": "stream",
     "text": [
      "Не нашлось: 168\n",
      "Не нашлось: 169\n",
      "Не нашлось: 170\n",
      "Не нашлось: 171\n"
     ]
    },
    {
     "name": "stderr",
     "output_type": "stream",
     "text": [
      "[C:/Work/Projects/fns crm/crm/bot/mysessionfns] Waiting for 7 seconds before continuing (required by \"users.GetFullUser\")\n"
     ]
    },
    {
     "name": "stdout",
     "output_type": "stream",
     "text": [
      "Не нашлось: 172\n",
      "Не нашлось: 173\n",
      "Не нашлось: 174\n",
      "Нашлось: 175\n"
     ]
    },
    {
     "name": "stderr",
     "output_type": "stream",
     "text": [
      "[C:/Work/Projects/fns crm/crm/bot/mysessionfns] Waiting for 4 seconds before continuing (required by \"users.GetFullUser\")\n"
     ]
    },
    {
     "name": "stdout",
     "output_type": "stream",
     "text": [
      "Не нашлось: 176\n",
      "Не нашлось: 177\n",
      "Нашлось: 178\n",
      "Не нашлось: 179\n"
     ]
    },
    {
     "name": "stderr",
     "output_type": "stream",
     "text": [
      "[C:/Work/Projects/fns crm/crm/bot/mysessionfns] Waiting for 4 seconds before continuing (required by \"users.GetFullUser\")\n"
     ]
    },
    {
     "name": "stdout",
     "output_type": "stream",
     "text": [
      "Не нашлось: 180\n",
      "Не нашлось: 181\n",
      "Не нашлось: 182\n",
      "Не нашлось: 183\n"
     ]
    },
    {
     "name": "stderr",
     "output_type": "stream",
     "text": [
      "[C:/Work/Projects/fns crm/crm/bot/mysessionfns] Waiting for 6 seconds before continuing (required by \"users.GetFullUser\")\n"
     ]
    },
    {
     "name": "stdout",
     "output_type": "stream",
     "text": [
      "Не нашлось: 184\n",
      "Не нашлось: 185\n",
      "Не нашлось: 186\n",
      "Не нашлось: 187\n"
     ]
    },
    {
     "name": "stderr",
     "output_type": "stream",
     "text": [
      "[C:/Work/Projects/fns crm/crm/bot/mysessionfns] Waiting for 7 seconds before continuing (required by \"users.GetFullUser\")\n"
     ]
    },
    {
     "name": "stdout",
     "output_type": "stream",
     "text": [
      "Не нашлось: 188\n",
      "Не нашлось: 189\n",
      "Не нашлось: 190\n",
      "Не нашлось: 191\n"
     ]
    },
    {
     "name": "stderr",
     "output_type": "stream",
     "text": [
      "[C:/Work/Projects/fns crm/crm/bot/mysessionfns] Waiting for 5 seconds before continuing (required by \"users.GetFullUser\")\n"
     ]
    },
    {
     "name": "stdout",
     "output_type": "stream",
     "text": [
      "Не нашлось: 192\n",
      "Не нашлось: 193\n",
      "Не нашлось: 194\n",
      "Не нашлось: 195\n"
     ]
    },
    {
     "name": "stderr",
     "output_type": "stream",
     "text": [
      "[C:/Work/Projects/fns crm/crm/bot/mysessionfns] Waiting for 6 seconds before continuing (required by \"users.GetFullUser\")\n"
     ]
    },
    {
     "name": "stdout",
     "output_type": "stream",
     "text": [
      "Не нашлось: 196\n",
      "Не нашлось: 197\n",
      "Не нашлось: 198\n",
      "Не нашлось: 199\n"
     ]
    },
    {
     "name": "stderr",
     "output_type": "stream",
     "text": [
      "[C:/Work/Projects/fns crm/crm/bot/mysessionfns] Waiting for 7 seconds before continuing (required by \"users.GetFullUser\")\n"
     ]
    },
    {
     "name": "stdout",
     "output_type": "stream",
     "text": [
      "Не нашлось: 200\n",
      "Не нашлось: 201\n",
      "Не нашлось: 202\n",
      "Не нашлось: 203\n"
     ]
    },
    {
     "name": "stderr",
     "output_type": "stream",
     "text": [
      "[C:/Work/Projects/fns crm/crm/bot/mysessionfns] Waiting for 7 seconds before continuing (required by \"users.GetFullUser\")\n"
     ]
    },
    {
     "name": "stdout",
     "output_type": "stream",
     "text": [
      "Не нашлось: 204\n",
      "Не нашлось: 205\n",
      "Не нашлось: 206\n",
      "Не нашлось: 207\n"
     ]
    },
    {
     "name": "stderr",
     "output_type": "stream",
     "text": [
      "[C:/Work/Projects/fns crm/crm/bot/mysessionfns] Waiting for 6 seconds before continuing (required by \"users.GetFullUser\")\n"
     ]
    },
    {
     "name": "stdout",
     "output_type": "stream",
     "text": [
      "Нашлось: 208\n",
      "Не нашлось: 209\n",
      "Не нашлось: 210\n",
      "Не нашлось: 211\n"
     ]
    },
    {
     "name": "stderr",
     "output_type": "stream",
     "text": [
      "[C:/Work/Projects/fns crm/crm/bot/mysessionfns] Waiting for 5 seconds before continuing (required by \"users.GetFullUser\")\n"
     ]
    },
    {
     "name": "stdout",
     "output_type": "stream",
     "text": [
      "Не нашлось: 212\n",
      "Не нашлось: 213\n",
      "Не нашлось: 214\n",
      "Не нашлось: 215\n"
     ]
    },
    {
     "name": "stderr",
     "output_type": "stream",
     "text": [
      "[C:/Work/Projects/fns crm/crm/bot/mysessionfns] Waiting for 6 seconds before continuing (required by \"users.GetFullUser\")\n"
     ]
    },
    {
     "name": "stdout",
     "output_type": "stream",
     "text": [
      "Не нашлось: 216\n",
      "Не нашлось: 217\n",
      "Не нашлось: 218\n",
      "Не нашлось: 219\n"
     ]
    },
    {
     "name": "stderr",
     "output_type": "stream",
     "text": [
      "[C:/Work/Projects/fns crm/crm/bot/mysessionfns] Waiting for 6 seconds before continuing (required by \"users.GetFullUser\")\n"
     ]
    },
    {
     "name": "stdout",
     "output_type": "stream",
     "text": [
      "Нашлось: 220\n",
      "Не нашлось: 221\n",
      "Не нашлось: 222\n",
      "Не нашлось: 223\n"
     ]
    },
    {
     "name": "stderr",
     "output_type": "stream",
     "text": [
      "[C:/Work/Projects/fns crm/crm/bot/mysessionfns] Waiting for 4 seconds before continuing (required by \"users.GetFullUser\")\n"
     ]
    },
    {
     "name": "stdout",
     "output_type": "stream",
     "text": [
      "Не нашлось: 224\n",
      "Не нашлось: 225\n",
      "Не нашлось: 226\n",
      "Не нашлось: 227\n"
     ]
    },
    {
     "name": "stderr",
     "output_type": "stream",
     "text": [
      "[C:/Work/Projects/fns crm/crm/bot/mysessionfns] Waiting for 7 seconds before continuing (required by \"users.GetFullUser\")\n"
     ]
    },
    {
     "name": "stdout",
     "output_type": "stream",
     "text": [
      "Не нашлось: 228\n",
      "Нашлось: 229\n",
      "Не нашлось: 230\n",
      "Не нашлось: 231\n"
     ]
    },
    {
     "name": "stderr",
     "output_type": "stream",
     "text": [
      "[C:/Work/Projects/fns crm/crm/bot/mysessionfns] Waiting for 5 seconds before continuing (required by \"users.GetFullUser\")\n"
     ]
    },
    {
     "name": "stdout",
     "output_type": "stream",
     "text": [
      "Не нашлось: 232\n",
      "Не нашлось: 233\n",
      "Не нашлось: 234\n",
      "Не нашлось: 235\n"
     ]
    },
    {
     "name": "stderr",
     "output_type": "stream",
     "text": [
      "[C:/Work/Projects/fns crm/crm/bot/mysessionfns] Waiting for 5 seconds before continuing (required by \"users.GetFullUser\")\n"
     ]
    },
    {
     "name": "stdout",
     "output_type": "stream",
     "text": [
      "Не нашлось: 236\n",
      "Не нашлось: 237\n",
      "Не нашлось: 238\n",
      "Не нашлось: 239\n"
     ]
    },
    {
     "name": "stderr",
     "output_type": "stream",
     "text": [
      "[C:/Work/Projects/fns crm/crm/bot/mysessionfns] Waiting for 7 seconds before continuing (required by \"users.GetFullUser\")\n"
     ]
    },
    {
     "name": "stdout",
     "output_type": "stream",
     "text": [
      "Не нашлось: 240\n",
      "Не нашлось: 241\n",
      "Не нашлось: 242\n",
      "Не нашлось: 243\n"
     ]
    },
    {
     "name": "stderr",
     "output_type": "stream",
     "text": [
      "[C:/Work/Projects/fns crm/crm/bot/mysessionfns] Waiting for 7 seconds before continuing (required by \"users.GetFullUser\")\n"
     ]
    },
    {
     "name": "stdout",
     "output_type": "stream",
     "text": [
      "Не нашлось: 244\n",
      "Нашлось: 245\n",
      "Не нашлось: 246\n",
      "Не нашлось: 247\n"
     ]
    },
    {
     "name": "stderr",
     "output_type": "stream",
     "text": [
      "[C:/Work/Projects/fns crm/crm/bot/mysessionfns] Waiting for 4 seconds before continuing (required by \"users.GetFullUser\")\n"
     ]
    },
    {
     "name": "stdout",
     "output_type": "stream",
     "text": [
      "Не нашлось: 248\n",
      "Не нашлось: 249\n",
      "Не нашлось: 250\n",
      "Не нашлось: 251\n"
     ]
    },
    {
     "name": "stderr",
     "output_type": "stream",
     "text": [
      "[C:/Work/Projects/fns crm/crm/bot/mysessionfns] Waiting for 6 seconds before continuing (required by \"users.GetFullUser\")\n"
     ]
    },
    {
     "name": "stdout",
     "output_type": "stream",
     "text": [
      "Не нашлось: 252\n",
      "Не нашлось: 253\n",
      "Не нашлось: 254\n",
      "Не нашлось: 255\n"
     ]
    },
    {
     "name": "stderr",
     "output_type": "stream",
     "text": [
      "[C:/Work/Projects/fns crm/crm/bot/mysessionfns] Waiting for 6 seconds before continuing (required by \"users.GetFullUser\")\n"
     ]
    },
    {
     "name": "stdout",
     "output_type": "stream",
     "text": [
      "Не нашлось: 256\n",
      "Не нашлось: 257\n",
      "Нашлось: 258\n",
      "Не нашлось: 259\n"
     ]
    },
    {
     "name": "stderr",
     "output_type": "stream",
     "text": [
      "[C:/Work/Projects/fns crm/crm/bot/mysessionfns] Waiting for 6 seconds before continuing (required by \"users.GetFullUser\")\n"
     ]
    },
    {
     "name": "stdout",
     "output_type": "stream",
     "text": [
      "Не нашлось: 260\n",
      "Не нашлось: 261\n",
      "Не нашлось: 262\n",
      "Не нашлось: 263\n"
     ]
    },
    {
     "name": "stderr",
     "output_type": "stream",
     "text": [
      "[C:/Work/Projects/fns crm/crm/bot/mysessionfns] Waiting for 6 seconds before continuing (required by \"users.GetFullUser\")\n"
     ]
    },
    {
     "name": "stdout",
     "output_type": "stream",
     "text": [
      "Не нашлось: 264\n",
      "Не нашлось: 265\n",
      "Не нашлось: 266\n",
      "Не нашлось: 267\n"
     ]
    },
    {
     "name": "stderr",
     "output_type": "stream",
     "text": [
      "[C:/Work/Projects/fns crm/crm/bot/mysessionfns] Waiting for 6 seconds before continuing (required by \"users.GetFullUser\")\n"
     ]
    },
    {
     "name": "stdout",
     "output_type": "stream",
     "text": [
      "Не нашлось: 268\n",
      "Не нашлось: 269\n",
      "Не нашлось: 270\n",
      "Нашлось: 271\n"
     ]
    },
    {
     "name": "stderr",
     "output_type": "stream",
     "text": [
      "[C:/Work/Projects/fns crm/crm/bot/mysessionfns] Waiting for 5 seconds before continuing (required by \"users.GetFullUser\")\n"
     ]
    },
    {
     "name": "stdout",
     "output_type": "stream",
     "text": [
      "Не нашлось: 272\n",
      "Не нашлось: 273\n",
      "Не нашлось: 274\n",
      "Не нашлось: 275\n"
     ]
    },
    {
     "name": "stderr",
     "output_type": "stream",
     "text": [
      "[C:/Work/Projects/fns crm/crm/bot/mysessionfns] Waiting for 7 seconds before continuing (required by \"users.GetFullUser\")\n"
     ]
    },
    {
     "name": "stdout",
     "output_type": "stream",
     "text": [
      "Не нашлось: 276\n",
      "Не нашлось: 277\n",
      "Не нашлось: 278\n",
      "Не нашлось: 279\n"
     ]
    },
    {
     "name": "stderr",
     "output_type": "stream",
     "text": [
      "[C:/Work/Projects/fns crm/crm/bot/mysessionfns] Waiting for 7 seconds before continuing (required by \"users.GetFullUser\")\n"
     ]
    },
    {
     "name": "stdout",
     "output_type": "stream",
     "text": [
      "Не нашлось: 280\n",
      "Не нашлось: 281\n",
      "Не нашлось: 282\n",
      "Не нашлось: 283\n"
     ]
    },
    {
     "name": "stderr",
     "output_type": "stream",
     "text": [
      "[C:/Work/Projects/fns crm/crm/bot/mysessionfns] Waiting for 6 seconds before continuing (required by \"users.GetFullUser\")\n"
     ]
    },
    {
     "name": "stdout",
     "output_type": "stream",
     "text": [
      "Не нашлось: 284\n",
      "Не нашлось: 285\n",
      "Не нашлось: 286\n",
      "Не нашлось: 287\n"
     ]
    },
    {
     "name": "stderr",
     "output_type": "stream",
     "text": [
      "[C:/Work/Projects/fns crm/crm/bot/mysessionfns] Waiting for 6 seconds before continuing (required by \"users.GetFullUser\")\n"
     ]
    },
    {
     "name": "stdout",
     "output_type": "stream",
     "text": [
      "Не нашлось: 288\n",
      "Не нашлось: 289\n",
      "Не нашлось: 290\n",
      "Не нашлось: 291\n"
     ]
    },
    {
     "name": "stderr",
     "output_type": "stream",
     "text": [
      "[C:/Work/Projects/fns crm/crm/bot/mysessionfns] Waiting for 7 seconds before continuing (required by \"users.GetFullUser\")\n"
     ]
    },
    {
     "name": "stdout",
     "output_type": "stream",
     "text": [
      "Не нашлось: 292\n",
      "Нашлось: 293\n",
      "Не нашлось: 294\n",
      "Не нашлось: 295\n"
     ]
    },
    {
     "name": "stderr",
     "output_type": "stream",
     "text": [
      "[C:/Work/Projects/fns crm/crm/bot/mysessionfns] Waiting for 3 seconds before continuing (required by \"users.GetFullUser\")\n"
     ]
    },
    {
     "name": "stdout",
     "output_type": "stream",
     "text": [
      "Не нашлось: 296\n",
      "Не нашлось: 297\n",
      "Не нашлось: 298\n",
      "Не нашлось: 299\n"
     ]
    },
    {
     "name": "stderr",
     "output_type": "stream",
     "text": [
      "[C:/Work/Projects/fns crm/crm/bot/mysessionfns] Waiting for 7 seconds before continuing (required by \"users.GetFullUser\")\n"
     ]
    },
    {
     "name": "stdout",
     "output_type": "stream",
     "text": [
      "Не нашлось: 300\n",
      "Не нашлось: 301\n",
      "Не нашлось: 302\n",
      "Не нашлось: 303\n"
     ]
    },
    {
     "name": "stderr",
     "output_type": "stream",
     "text": [
      "[C:/Work/Projects/fns crm/crm/bot/mysessionfns] Waiting for 7 seconds before continuing (required by \"users.GetFullUser\")\n"
     ]
    },
    {
     "name": "stdout",
     "output_type": "stream",
     "text": [
      "Не нашлось: 304\n",
      "Не нашлось: 305\n",
      "Не нашлось: 306\n",
      "Не нашлось: 307\n"
     ]
    },
    {
     "name": "stderr",
     "output_type": "stream",
     "text": [
      "[C:/Work/Projects/fns crm/crm/bot/mysessionfns] Waiting for 6 seconds before continuing (required by \"users.GetFullUser\")\n"
     ]
    },
    {
     "name": "stdout",
     "output_type": "stream",
     "text": [
      "Не нашлось: 308\n",
      "Не нашлось: 309\n",
      "Не нашлось: 310\n",
      "Не нашлось: 311\n"
     ]
    },
    {
     "name": "stderr",
     "output_type": "stream",
     "text": [
      "[C:/Work/Projects/fns crm/crm/bot/mysessionfns] Waiting for 6 seconds before continuing (required by \"users.GetFullUser\")\n"
     ]
    },
    {
     "name": "stdout",
     "output_type": "stream",
     "text": [
      "Не нашлось: 312\n",
      "Не нашлось: 313\n",
      "Не нашлось: 314\n",
      "Не нашлось: 315\n"
     ]
    },
    {
     "name": "stderr",
     "output_type": "stream",
     "text": [
      "[C:/Work/Projects/fns crm/crm/bot/mysessionfns] Waiting for 7 seconds before continuing (required by \"users.GetFullUser\")\n"
     ]
    },
    {
     "name": "stdout",
     "output_type": "stream",
     "text": [
      "Не нашлось: 316\n",
      "Не нашлось: 317\n",
      "Не нашлось: 318\n",
      "Не нашлось: 319\n"
     ]
    },
    {
     "name": "stderr",
     "output_type": "stream",
     "text": [
      "[C:/Work/Projects/fns crm/crm/bot/mysessionfns] Waiting for 6 seconds before continuing (required by \"users.GetFullUser\")\n"
     ]
    },
    {
     "name": "stdout",
     "output_type": "stream",
     "text": [
      "Не нашлось: 320\n",
      "Нашлось: 321\n",
      "Не нашлось: 322\n",
      "Не нашлось: 323\n"
     ]
    },
    {
     "name": "stderr",
     "output_type": "stream",
     "text": [
      "[C:/Work/Projects/fns crm/crm/bot/mysessionfns] Waiting for 4 seconds before continuing (required by \"users.GetFullUser\")\n"
     ]
    },
    {
     "name": "stdout",
     "output_type": "stream",
     "text": [
      "Не нашлось: 324\n",
      "Не нашлось: 325\n",
      "Не нашлось: 326\n",
      "Не нашлось: 327\n"
     ]
    },
    {
     "name": "stderr",
     "output_type": "stream",
     "text": [
      "[C:/Work/Projects/fns crm/crm/bot/mysessionfns] Waiting for 8 seconds before continuing (required by \"users.GetFullUser\")\n"
     ]
    },
    {
     "name": "stdout",
     "output_type": "stream",
     "text": [
      "Не нашлось: 328\n",
      "Не нашлось: 329\n",
      "Не нашлось: 330\n",
      "Не нашлось: 331\n"
     ]
    },
    {
     "name": "stderr",
     "output_type": "stream",
     "text": [
      "[C:/Work/Projects/fns crm/crm/bot/mysessionfns] Waiting for 7 seconds before continuing (required by \"users.GetFullUser\")\n"
     ]
    },
    {
     "name": "stdout",
     "output_type": "stream",
     "text": [
      "Не нашлось: 332\n",
      "Не нашлось: 333\n",
      "Не нашлось: 334\n",
      "Не нашлось: 335\n"
     ]
    },
    {
     "name": "stderr",
     "output_type": "stream",
     "text": [
      "[C:/Work/Projects/fns crm/crm/bot/mysessionfns] Waiting for 6 seconds before continuing (required by \"users.GetFullUser\")\n"
     ]
    },
    {
     "name": "stdout",
     "output_type": "stream",
     "text": [
      "Не нашлось: 336\n",
      "Не нашлось: 337\n",
      "Не нашлось: 338\n",
      "Не нашлось: 339\n"
     ]
    },
    {
     "name": "stderr",
     "output_type": "stream",
     "text": [
      "[C:/Work/Projects/fns crm/crm/bot/mysessionfns] Waiting for 7 seconds before continuing (required by \"users.GetFullUser\")\n"
     ]
    },
    {
     "name": "stdout",
     "output_type": "stream",
     "text": [
      "Не нашлось: 340\n",
      "Не нашлось: 341\n",
      "Не нашлось: 342\n",
      "Не нашлось: 343\n"
     ]
    },
    {
     "name": "stderr",
     "output_type": "stream",
     "text": [
      "[C:/Work/Projects/fns crm/crm/bot/mysessionfns] Waiting for 6 seconds before continuing (required by \"users.GetFullUser\")\n"
     ]
    },
    {
     "name": "stdout",
     "output_type": "stream",
     "text": [
      "Не нашлось: 344\n",
      "Не нашлось: 345\n",
      "Не нашлось: 346\n",
      "Не нашлось: 347\n"
     ]
    },
    {
     "name": "stderr",
     "output_type": "stream",
     "text": [
      "[C:/Work/Projects/fns crm/crm/bot/mysessionfns] Waiting for 6 seconds before continuing (required by \"users.GetFullUser\")\n"
     ]
    },
    {
     "name": "stdout",
     "output_type": "stream",
     "text": [
      "Не нашлось: 348\n",
      "Не нашлось: 349\n",
      "Не нашлось: 350\n",
      "Не нашлось: 351\n"
     ]
    },
    {
     "name": "stderr",
     "output_type": "stream",
     "text": [
      "[C:/Work/Projects/fns crm/crm/bot/mysessionfns] Waiting for 7 seconds before continuing (required by \"users.GetFullUser\")\n"
     ]
    },
    {
     "name": "stdout",
     "output_type": "stream",
     "text": [
      "Не нашлось: 352\n",
      "Не нашлось: 353\n",
      "Не нашлось: 354\n",
      "Не нашлось: 355\n"
     ]
    },
    {
     "name": "stderr",
     "output_type": "stream",
     "text": [
      "[C:/Work/Projects/fns crm/crm/bot/mysessionfns] Waiting for 6 seconds before continuing (required by \"users.GetFullUser\")\n"
     ]
    },
    {
     "name": "stdout",
     "output_type": "stream",
     "text": [
      "Не нашлось: 356\n",
      "Не нашлось: 357\n",
      "Не нашлось: 358\n",
      "Не нашлось: 359\n"
     ]
    },
    {
     "name": "stderr",
     "output_type": "stream",
     "text": [
      "[C:/Work/Projects/fns crm/crm/bot/mysessionfns] Waiting for 7 seconds before continuing (required by \"users.GetFullUser\")\n"
     ]
    },
    {
     "name": "stdout",
     "output_type": "stream",
     "text": [
      "Не нашлось: 360\n",
      "Не нашлось: 361\n",
      "Не нашлось: 362\n",
      "Не нашлось: 363\n"
     ]
    },
    {
     "name": "stderr",
     "output_type": "stream",
     "text": [
      "[C:/Work/Projects/fns crm/crm/bot/mysessionfns] Waiting for 7 seconds before continuing (required by \"users.GetFullUser\")\n"
     ]
    },
    {
     "name": "stdout",
     "output_type": "stream",
     "text": [
      "Не нашлось: 364\n",
      "Не нашлось: 365\n",
      "Не нашлось: 366\n",
      "Не нашлось: 367\n"
     ]
    },
    {
     "name": "stderr",
     "output_type": "stream",
     "text": [
      "[C:/Work/Projects/fns crm/crm/bot/mysessionfns] Waiting for 7 seconds before continuing (required by \"users.GetFullUser\")\n"
     ]
    },
    {
     "name": "stdout",
     "output_type": "stream",
     "text": [
      "Не нашлось: 368\n",
      "Не нашлось: 369\n",
      "Не нашлось: 370\n",
      "Не нашлось: 371\n"
     ]
    },
    {
     "name": "stderr",
     "output_type": "stream",
     "text": [
      "[C:/Work/Projects/fns crm/crm/bot/mysessionfns] Waiting for 7 seconds before continuing (required by \"users.GetFullUser\")\n"
     ]
    },
    {
     "name": "stdout",
     "output_type": "stream",
     "text": [
      "Не нашлось: 372\n",
      "Не нашлось: 373\n",
      "Не нашлось: 374\n",
      "Не нашлось: 375\n"
     ]
    },
    {
     "name": "stderr",
     "output_type": "stream",
     "text": [
      "[C:/Work/Projects/fns crm/crm/bot/mysessionfns] Waiting for 7 seconds before continuing (required by \"users.GetFullUser\")\n"
     ]
    },
    {
     "name": "stdout",
     "output_type": "stream",
     "text": [
      "Не нашлось: 376\n",
      "Не нашлось: 378\n",
      "Не нашлось: 379\n",
      "Нашлось: 380\n"
     ]
    },
    {
     "name": "stderr",
     "output_type": "stream",
     "text": [
      "[C:/Work/Projects/fns crm/crm/bot/mysessionfns] Waiting for 5 seconds before continuing (required by \"users.GetFullUser\")\n"
     ]
    },
    {
     "name": "stdout",
     "output_type": "stream",
     "text": [
      "Не нашлось: 381\n",
      "Не нашлось: 382\n",
      "Не нашлось: 383\n",
      "Не нашлось: 384\n"
     ]
    },
    {
     "name": "stderr",
     "output_type": "stream",
     "text": [
      "[C:/Work/Projects/fns crm/crm/bot/mysessionfns] Waiting for 7 seconds before continuing (required by \"users.GetFullUser\")\n"
     ]
    },
    {
     "name": "stdout",
     "output_type": "stream",
     "text": [
      "Не нашлось: 385\n",
      "Не нашлось: 386\n",
      "Не нашлось: 387\n",
      "Не нашлось: 388\n"
     ]
    },
    {
     "name": "stderr",
     "output_type": "stream",
     "text": [
      "[C:/Work/Projects/fns crm/crm/bot/mysessionfns] Waiting for 7 seconds before continuing (required by \"users.GetFullUser\")\n"
     ]
    },
    {
     "name": "stdout",
     "output_type": "stream",
     "text": [
      "Не нашлось: 389\n",
      "Не нашлось: 390\n",
      "Не нашлось: 391\n",
      "Не нашлось: 393\n"
     ]
    },
    {
     "name": "stderr",
     "output_type": "stream",
     "text": [
      "[C:/Work/Projects/fns crm/crm/bot/mysessionfns] Waiting for 7 seconds before continuing (required by \"users.GetFullUser\")\n"
     ]
    },
    {
     "name": "stdout",
     "output_type": "stream",
     "text": [
      "Не нашлось: 394\n",
      "Не нашлось: 395\n",
      "Не нашлось: 396\n",
      "Не нашлось: 397\n"
     ]
    },
    {
     "name": "stderr",
     "output_type": "stream",
     "text": [
      "[C:/Work/Projects/fns crm/crm/bot/mysessionfns] Waiting for 7 seconds before continuing (required by \"users.GetFullUser\")\n"
     ]
    },
    {
     "name": "stdout",
     "output_type": "stream",
     "text": [
      "Не нашлось: 398\n",
      "Не нашлось: 399\n",
      "Не нашлось: 400\n",
      "Нашлось: 401\n"
     ]
    },
    {
     "name": "stderr",
     "output_type": "stream",
     "text": [
      "[C:/Work/Projects/fns crm/crm/bot/mysessionfns] Waiting for 4 seconds before continuing (required by \"users.GetFullUser\")\n"
     ]
    },
    {
     "name": "stdout",
     "output_type": "stream",
     "text": [
      "Не нашлось: 402\n",
      "Не нашлось: 403\n",
      "Нашлось: 404\n",
      "Не нашлось: 405\n"
     ]
    },
    {
     "name": "stderr",
     "output_type": "stream",
     "text": [
      "[C:/Work/Projects/fns crm/crm/bot/mysessionfns] Waiting for 5 seconds before continuing (required by \"users.GetFullUser\")\n"
     ]
    },
    {
     "name": "stdout",
     "output_type": "stream",
     "text": [
      "Не нашлось: 406\n",
      "Нашлось: 407\n",
      "Не нашлось: 408\n",
      "Не нашлось: 409\n"
     ]
    },
    {
     "name": "stderr",
     "output_type": "stream",
     "text": [
      "[C:/Work/Projects/fns crm/crm/bot/mysessionfns] Waiting for 5 seconds before continuing (required by \"users.GetFullUser\")\n"
     ]
    },
    {
     "name": "stdout",
     "output_type": "stream",
     "text": [
      "Нашлось: 410\n",
      "Не нашлось: 411\n",
      "Не нашлось: 412\n",
      "Нашлось: 413\n"
     ]
    },
    {
     "name": "stderr",
     "output_type": "stream",
     "text": [
      "[C:/Work/Projects/fns crm/crm/bot/mysessionfns] Waiting for 3 seconds before continuing (required by \"users.GetFullUser\")\n"
     ]
    },
    {
     "name": "stdout",
     "output_type": "stream",
     "text": [
      "Нашлось: 414\n",
      "Не нашлось: 415\n",
      "Не нашлось: 416\n",
      "Не нашлось: 417\n"
     ]
    },
    {
     "name": "stderr",
     "output_type": "stream",
     "text": [
      "[C:/Work/Projects/fns crm/crm/bot/mysessionfns] Waiting for 3 seconds before continuing (required by \"users.GetFullUser\")\n"
     ]
    },
    {
     "name": "stdout",
     "output_type": "stream",
     "text": [
      "Не нашлось: 418\n",
      "Нашлось: 419\n",
      "Не нашлось: 420\n",
      "Не нашлось: 421\n"
     ]
    },
    {
     "name": "stderr",
     "output_type": "stream",
     "text": [
      "[C:/Work/Projects/fns crm/crm/bot/mysessionfns] Waiting for 5 seconds before continuing (required by \"users.GetFullUser\")\n"
     ]
    },
    {
     "name": "stdout",
     "output_type": "stream",
     "text": [
      "Не нашлось: 422\n",
      "Не нашлось: 423\n",
      "Нашлось: 424\n",
      "Нашлось: 425\n"
     ]
    },
    {
     "name": "stderr",
     "output_type": "stream",
     "text": [
      "[C:/Work/Projects/fns crm/crm/bot/mysessionfns] Waiting for 4 seconds before continuing (required by \"users.GetFullUser\")\n"
     ]
    },
    {
     "name": "stdout",
     "output_type": "stream",
     "text": [
      "Нашлось: 426\n",
      "Нашлось: 427\n",
      "Не нашлось: 428\n",
      "Не нашлось: 429\n"
     ]
    },
    {
     "name": "stderr",
     "output_type": "stream",
     "text": [
      "[C:/Work/Projects/fns crm/crm/bot/mysessionfns] Waiting for 3 seconds before continuing (required by \"users.GetFullUser\")\n"
     ]
    },
    {
     "name": "stdout",
     "output_type": "stream",
     "text": [
      "Нашлось: 430\n",
      "Не нашлось: 431\n",
      "Не нашлось: 432\n",
      "Не нашлось: 433\n"
     ]
    },
    {
     "name": "stderr",
     "output_type": "stream",
     "text": [
      "[C:/Work/Projects/fns crm/crm/bot/mysessionfns] Waiting for 5 seconds before continuing (required by \"users.GetFullUser\")\n"
     ]
    },
    {
     "name": "stdout",
     "output_type": "stream",
     "text": [
      "Нашлось: 434\n",
      "Не нашлось: 435\n",
      "Нашлось: 436\n",
      "Нашлось: 437\n"
     ]
    },
    {
     "name": "stderr",
     "output_type": "stream",
     "text": [
      "[C:/Work/Projects/fns crm/crm/bot/mysessionfns] Waiting for 3 seconds before continuing (required by \"users.GetFullUser\")\n"
     ]
    },
    {
     "name": "stdout",
     "output_type": "stream",
     "text": [
      "Не нашлось: 438\n",
      "Не нашлось: 439\n",
      "Не нашлось: 440\n",
      "Не нашлось: 441\n"
     ]
    },
    {
     "name": "stderr",
     "output_type": "stream",
     "text": [
      "[C:/Work/Projects/fns crm/crm/bot/mysessionfns] Waiting for 7 seconds before continuing (required by \"users.GetFullUser\")\n"
     ]
    },
    {
     "name": "stdout",
     "output_type": "stream",
     "text": [
      "Не нашлось: 442\n",
      "Не нашлось: 443\n",
      "Не нашлось: 444\n",
      "Не нашлось: 445\n"
     ]
    },
    {
     "name": "stderr",
     "output_type": "stream",
     "text": [
      "[C:/Work/Projects/fns crm/crm/bot/mysessionfns] Waiting for 7 seconds before continuing (required by \"users.GetFullUser\")\n"
     ]
    },
    {
     "name": "stdout",
     "output_type": "stream",
     "text": [
      "Не нашлось: 446\n",
      "Не нашлось: 447\n",
      "Не нашлось: 448\n",
      "Не нашлось: 449\n"
     ]
    },
    {
     "name": "stderr",
     "output_type": "stream",
     "text": [
      "[C:/Work/Projects/fns crm/crm/bot/mysessionfns] Waiting for 6 seconds before continuing (required by \"users.GetFullUser\")\n"
     ]
    },
    {
     "name": "stdout",
     "output_type": "stream",
     "text": [
      "Не нашлось: 450\n",
      "Не нашлось: 451\n",
      "Не нашлось: 452\n",
      "Не нашлось: 453\n"
     ]
    },
    {
     "name": "stderr",
     "output_type": "stream",
     "text": [
      "[C:/Work/Projects/fns crm/crm/bot/mysessionfns] Waiting for 7 seconds before continuing (required by \"users.GetFullUser\")\n"
     ]
    },
    {
     "name": "stdout",
     "output_type": "stream",
     "text": [
      "Не нашлось: 454\n",
      "Не нашлось: 455\n",
      "Не нашлось: 456\n",
      "Не нашлось: 457\n"
     ]
    },
    {
     "name": "stderr",
     "output_type": "stream",
     "text": [
      "[C:/Work/Projects/fns crm/crm/bot/mysessionfns] Waiting for 7 seconds before continuing (required by \"users.GetFullUser\")\n"
     ]
    },
    {
     "name": "stdout",
     "output_type": "stream",
     "text": [
      "Не нашлось: 458\n",
      "Не нашлось: 459\n",
      "Не нашлось: 460\n",
      "Не нашлось: 461\n"
     ]
    },
    {
     "name": "stderr",
     "output_type": "stream",
     "text": [
      "[C:/Work/Projects/fns crm/crm/bot/mysessionfns] Waiting for 6 seconds before continuing (required by \"users.GetFullUser\")\n"
     ]
    },
    {
     "name": "stdout",
     "output_type": "stream",
     "text": [
      "Не нашлось: 463\n",
      "Не нашлось: 464\n",
      "Нашлось: 465\n",
      "Не нашлось: 466\n"
     ]
    },
    {
     "name": "stderr",
     "output_type": "stream",
     "text": [
      "[C:/Work/Projects/fns crm/crm/bot/mysessionfns] Waiting for 4 seconds before continuing (required by \"users.GetFullUser\")\n"
     ]
    },
    {
     "name": "stdout",
     "output_type": "stream",
     "text": [
      "Не нашлось: 467\n",
      "Не нашлось: 468\n",
      "Не нашлось: 469\n",
      "Не нашлось: 470\n"
     ]
    },
    {
     "name": "stderr",
     "output_type": "stream",
     "text": [
      "[C:/Work/Projects/fns crm/crm/bot/mysessionfns] Waiting for 7 seconds before continuing (required by \"users.GetFullUser\")\n"
     ]
    },
    {
     "name": "stdout",
     "output_type": "stream",
     "text": [
      "Не нашлось: 471\n",
      "Не нашлось: 472\n",
      "Не нашлось: 473\n",
      "Не нашлось: 474\n"
     ]
    },
    {
     "name": "stderr",
     "output_type": "stream",
     "text": [
      "[C:/Work/Projects/fns crm/crm/bot/mysessionfns] Waiting for 6 seconds before continuing (required by \"users.GetFullUser\")\n"
     ]
    },
    {
     "name": "stdout",
     "output_type": "stream",
     "text": [
      "Нашлось: 475\n",
      "Нашлось: 476\n",
      "Нашлось: 477\n",
      "Нашлось: 478\n",
      "Не нашлось: 479\n",
      "Не нашлось: 480\n",
      "Нашлось: 481\n",
      "Не нашлось: 482\n"
     ]
    },
    {
     "name": "stderr",
     "output_type": "stream",
     "text": [
      "[C:/Work/Projects/fns crm/crm/bot/mysessionfns] Waiting for 5 seconds before continuing (required by \"users.GetFullUser\")\n"
     ]
    },
    {
     "name": "stdout",
     "output_type": "stream",
     "text": [
      "Не нашлось: 483\n",
      "Не нашлось: 484\n",
      "Не нашлось: 485\n",
      "Не нашлось: 486\n"
     ]
    },
    {
     "name": "stderr",
     "output_type": "stream",
     "text": [
      "[C:/Work/Projects/fns crm/crm/bot/mysessionfns] Waiting for 6 seconds before continuing (required by \"users.GetFullUser\")\n"
     ]
    },
    {
     "name": "stdout",
     "output_type": "stream",
     "text": [
      "Не нашлось: 487\n",
      "Не нашлось: 488\n",
      "Не нашлось: 489\n",
      "Не нашлось: 490\n"
     ]
    },
    {
     "name": "stderr",
     "output_type": "stream",
     "text": [
      "[C:/Work/Projects/fns crm/crm/bot/mysessionfns] Waiting for 7 seconds before continuing (required by \"users.GetFullUser\")\n"
     ]
    },
    {
     "name": "stdout",
     "output_type": "stream",
     "text": [
      "Не нашлось: 491\n",
      "Не нашлось: 492\n",
      "Не нашлось: 493\n",
      "Не нашлось: 494\n"
     ]
    },
    {
     "name": "stderr",
     "output_type": "stream",
     "text": [
      "[C:/Work/Projects/fns crm/crm/bot/mysessionfns] Waiting for 6 seconds before continuing (required by \"users.GetFullUser\")\n"
     ]
    },
    {
     "name": "stdout",
     "output_type": "stream",
     "text": [
      "Не нашлось: 495\n",
      "Не нашлось: 496\n",
      "Не нашлось: 497\n",
      "Не нашлось: 498\n"
     ]
    },
    {
     "name": "stderr",
     "output_type": "stream",
     "text": [
      "[C:/Work/Projects/fns crm/crm/bot/mysessionfns] Waiting for 7 seconds before continuing (required by \"users.GetFullUser\")\n"
     ]
    },
    {
     "name": "stdout",
     "output_type": "stream",
     "text": [
      "Не нашлось: 499\n",
      "Не нашлось: 500\n",
      "Не нашлось: 501\n",
      "Не нашлось: 502\n"
     ]
    },
    {
     "name": "stderr",
     "output_type": "stream",
     "text": [
      "[C:/Work/Projects/fns crm/crm/bot/mysessionfns] Waiting for 7 seconds before continuing (required by \"users.GetFullUser\")\n"
     ]
    },
    {
     "name": "stdout",
     "output_type": "stream",
     "text": [
      "Не нашлось: 503\n",
      "Не нашлось: 504\n",
      "Не нашлось: 505\n",
      "Не нашлось: 506\n"
     ]
    },
    {
     "name": "stderr",
     "output_type": "stream",
     "text": [
      "[C:/Work/Projects/fns crm/crm/bot/mysessionfns] Waiting for 7 seconds before continuing (required by \"users.GetFullUser\")\n"
     ]
    },
    {
     "name": "stdout",
     "output_type": "stream",
     "text": [
      "Не нашлось: 507\n",
      "Не нашлось: 508\n",
      "Не нашлось: 509\n",
      "Не нашлось: 510\n"
     ]
    },
    {
     "name": "stderr",
     "output_type": "stream",
     "text": [
      "[C:/Work/Projects/fns crm/crm/bot/mysessionfns] Waiting for 6 seconds before continuing (required by \"users.GetFullUser\")\n"
     ]
    },
    {
     "name": "stdout",
     "output_type": "stream",
     "text": [
      "Не нашлось: 511\n",
      "Не нашлось: 512\n",
      "Не нашлось: 513\n",
      "Не нашлось: 514\n"
     ]
    },
    {
     "name": "stderr",
     "output_type": "stream",
     "text": [
      "[C:/Work/Projects/fns crm/crm/bot/mysessionfns] Waiting for 7 seconds before continuing (required by \"users.GetFullUser\")\n"
     ]
    },
    {
     "name": "stdout",
     "output_type": "stream",
     "text": [
      "Не нашлось: 515\n",
      "Не нашлось: 516\n",
      "Не нашлось: 517\n",
      "Не нашлось: 518\n"
     ]
    },
    {
     "name": "stderr",
     "output_type": "stream",
     "text": [
      "[C:/Work/Projects/fns crm/crm/bot/mysessionfns] Waiting for 7 seconds before continuing (required by \"users.GetFullUser\")\n"
     ]
    },
    {
     "name": "stdout",
     "output_type": "stream",
     "text": [
      "Не нашлось: 519\n",
      "Не нашлось: 520\n",
      "Не нашлось: 521\n",
      "Не нашлось: 523\n"
     ]
    },
    {
     "name": "stderr",
     "output_type": "stream",
     "text": [
      "[C:/Work/Projects/fns crm/crm/bot/mysessionfns] Waiting for 7 seconds before continuing (required by \"users.GetFullUser\")\n"
     ]
    },
    {
     "name": "stdout",
     "output_type": "stream",
     "text": [
      "Не нашлось: 524\n",
      "Не нашлось: 525\n",
      "Не нашлось: 526\n",
      "Не нашлось: 527\n"
     ]
    },
    {
     "name": "stderr",
     "output_type": "stream",
     "text": [
      "[C:/Work/Projects/fns crm/crm/bot/mysessionfns] Waiting for 6 seconds before continuing (required by \"users.GetFullUser\")\n"
     ]
    },
    {
     "name": "stdout",
     "output_type": "stream",
     "text": [
      "Не нашлось: 528\n",
      "Не нашлось: 529\n",
      "Не нашлось: 530\n",
      "Не нашлось: 531\n"
     ]
    },
    {
     "name": "stderr",
     "output_type": "stream",
     "text": [
      "[C:/Work/Projects/fns crm/crm/bot/mysessionfns] Waiting for 7 seconds before continuing (required by \"users.GetFullUser\")\n"
     ]
    },
    {
     "name": "stdout",
     "output_type": "stream",
     "text": [
      "Не нашлось: 532\n",
      "Не нашлось: 533\n",
      "Не нашлось: 534\n",
      "Не нашлось: 535\n"
     ]
    },
    {
     "name": "stderr",
     "output_type": "stream",
     "text": [
      "[C:/Work/Projects/fns crm/crm/bot/mysessionfns] Waiting for 7 seconds before continuing (required by \"users.GetFullUser\")\n"
     ]
    },
    {
     "name": "stdout",
     "output_type": "stream",
     "text": [
      "Не нашлось: 536\n",
      "Не нашлось: 537\n",
      "Не нашлось: 538\n",
      "Не нашлось: 539\n"
     ]
    },
    {
     "name": "stderr",
     "output_type": "stream",
     "text": [
      "[C:/Work/Projects/fns crm/crm/bot/mysessionfns] Waiting for 7 seconds before continuing (required by \"users.GetFullUser\")\n"
     ]
    },
    {
     "name": "stdout",
     "output_type": "stream",
     "text": [
      "Не нашлось: 540\n",
      "Не нашлось: 541\n",
      "Не нашлось: 542\n",
      "Не нашлось: 543\n"
     ]
    },
    {
     "name": "stderr",
     "output_type": "stream",
     "text": [
      "[C:/Work/Projects/fns crm/crm/bot/mysessionfns] Waiting for 6 seconds before continuing (required by \"users.GetFullUser\")\n"
     ]
    },
    {
     "name": "stdout",
     "output_type": "stream",
     "text": [
      "Не нашлось: 544\n",
      "Не нашлось: 545\n",
      "Не нашлось: 546\n",
      "Не нашлось: 547\n"
     ]
    },
    {
     "name": "stderr",
     "output_type": "stream",
     "text": [
      "[C:/Work/Projects/fns crm/crm/bot/mysessionfns] Waiting for 7 seconds before continuing (required by \"users.GetFullUser\")\n"
     ]
    },
    {
     "name": "stdout",
     "output_type": "stream",
     "text": [
      "Не нашлось: 548\n",
      "Не нашлось: 549\n",
      "Не нашлось: 550\n",
      "Не нашлось: 551\n"
     ]
    },
    {
     "name": "stderr",
     "output_type": "stream",
     "text": [
      "[C:/Work/Projects/fns crm/crm/bot/mysessionfns] Waiting for 5 seconds before continuing (required by \"users.GetFullUser\")\n"
     ]
    },
    {
     "name": "stdout",
     "output_type": "stream",
     "text": [
      "Не нашлось: 552\n",
      "Не нашлось: 553\n",
      "Не нашлось: 554\n",
      "Не нашлось: 555\n"
     ]
    },
    {
     "name": "stderr",
     "output_type": "stream",
     "text": [
      "[C:/Work/Projects/fns crm/crm/bot/mysessionfns] Waiting for 6 seconds before continuing (required by \"users.GetFullUser\")\n"
     ]
    },
    {
     "name": "stdout",
     "output_type": "stream",
     "text": [
      "Не нашлось: 556\n",
      "Не нашлось: 557\n",
      "Нашлось: 558\n",
      "Нашлось: 559\n"
     ]
    },
    {
     "name": "stderr",
     "output_type": "stream",
     "text": [
      "[C:/Work/Projects/fns crm/crm/bot/mysessionfns] Waiting for 4 seconds before continuing (required by \"users.GetFullUser\")\n"
     ]
    },
    {
     "name": "stdout",
     "output_type": "stream",
     "text": [
      "Не нашлось: 560\n",
      "Не нашлось: 561\n",
      "Нашлось: 562\n",
      "Не нашлось: 563\n"
     ]
    },
    {
     "name": "stderr",
     "output_type": "stream",
     "text": [
      "[C:/Work/Projects/fns crm/crm/bot/mysessionfns] Waiting for 5 seconds before continuing (required by \"users.GetFullUser\")\n"
     ]
    },
    {
     "name": "stdout",
     "output_type": "stream",
     "text": [
      "Не нашлось: 564\n",
      "Не нашлось: 565\n",
      "Нашлось: 566\n",
      "Не нашлось: 567\n"
     ]
    },
    {
     "name": "stderr",
     "output_type": "stream",
     "text": [
      "[C:/Work/Projects/fns crm/crm/bot/mysessionfns] Waiting for 3 seconds before continuing (required by \"users.GetFullUser\")\n"
     ]
    },
    {
     "name": "stdout",
     "output_type": "stream",
     "text": [
      "Не нашлось: 568\n",
      "Не нашлось: 569\n",
      "Не нашлось: 570\n",
      "Не нашлось: 571\n"
     ]
    },
    {
     "name": "stderr",
     "output_type": "stream",
     "text": [
      "[C:/Work/Projects/fns crm/crm/bot/mysessionfns] Waiting for 6 seconds before continuing (required by \"users.GetFullUser\")\n"
     ]
    },
    {
     "name": "stdout",
     "output_type": "stream",
     "text": [
      "Нашлось: 572\n",
      "Не нашлось: 573\n",
      "Не нашлось: 574\n",
      "Не нашлось: 575\n"
     ]
    },
    {
     "name": "stderr",
     "output_type": "stream",
     "text": [
      "[C:/Work/Projects/fns crm/crm/bot/mysessionfns] Waiting for 3 seconds before continuing (required by \"users.GetFullUser\")\n"
     ]
    },
    {
     "name": "stdout",
     "output_type": "stream",
     "text": [
      "Не нашлось: 576\n",
      "Не нашлось: 577\n",
      "Не нашлось: 578\n",
      "Не нашлось: 579\n"
     ]
    },
    {
     "name": "stderr",
     "output_type": "stream",
     "text": [
      "[C:/Work/Projects/fns crm/crm/bot/mysessionfns] Waiting for 7 seconds before continuing (required by \"users.GetFullUser\")\n"
     ]
    },
    {
     "name": "stdout",
     "output_type": "stream",
     "text": [
      "Не нашлось: 580\n",
      "Не нашлось: 581\n",
      "Нашлось: 582\n",
      "Не нашлось: 583\n"
     ]
    },
    {
     "name": "stderr",
     "output_type": "stream",
     "text": [
      "[C:/Work/Projects/fns crm/crm/bot/mysessionfns] Waiting for 3 seconds before continuing (required by \"users.GetFullUser\")\n"
     ]
    },
    {
     "name": "stdout",
     "output_type": "stream",
     "text": [
      "Не нашлось: 584\n",
      "Не нашлось: 585\n",
      "Не нашлось: 586\n",
      "Не нашлось: 587\n"
     ]
    },
    {
     "name": "stderr",
     "output_type": "stream",
     "text": [
      "[C:/Work/Projects/fns crm/crm/bot/mysessionfns] Waiting for 7 seconds before continuing (required by \"users.GetFullUser\")\n"
     ]
    },
    {
     "name": "stdout",
     "output_type": "stream",
     "text": [
      "Не нашлось: 588\n",
      "Не нашлось: 589\n",
      "Не нашлось: 590\n",
      "Не нашлось: 591\n"
     ]
    },
    {
     "name": "stderr",
     "output_type": "stream",
     "text": [
      "[C:/Work/Projects/fns crm/crm/bot/mysessionfns] Waiting for 6 seconds before continuing (required by \"users.GetFullUser\")\n"
     ]
    },
    {
     "name": "stdout",
     "output_type": "stream",
     "text": [
      "Не нашлось: 592\n",
      "Не нашлось: 593\n",
      "Не нашлось: 594\n",
      "Не нашлось: 595\n"
     ]
    },
    {
     "name": "stderr",
     "output_type": "stream",
     "text": [
      "[C:/Work/Projects/fns crm/crm/bot/mysessionfns] Waiting for 7 seconds before continuing (required by \"users.GetFullUser\")\n"
     ]
    },
    {
     "name": "stdout",
     "output_type": "stream",
     "text": [
      "Не нашлось: 596\n",
      "Не нашлось: 597\n",
      "Не нашлось: 598\n",
      "Не нашлось: 599\n"
     ]
    },
    {
     "name": "stderr",
     "output_type": "stream",
     "text": [
      "[C:/Work/Projects/fns crm/crm/bot/mysessionfns] Waiting for 7 seconds before continuing (required by \"users.GetFullUser\")\n"
     ]
    },
    {
     "name": "stdout",
     "output_type": "stream",
     "text": [
      "Не нашлось: 600\n",
      "Не нашлось: 601\n",
      "Не нашлось: 602\n",
      "Не нашлось: 603\n"
     ]
    },
    {
     "name": "stderr",
     "output_type": "stream",
     "text": [
      "[C:/Work/Projects/fns crm/crm/bot/mysessionfns] Waiting for 6 seconds before continuing (required by \"users.GetFullUser\")\n"
     ]
    },
    {
     "name": "stdout",
     "output_type": "stream",
     "text": [
      "Не нашлось: 604\n",
      "Не нашлось: 605\n",
      "Не нашлось: 606\n",
      "Не нашлось: 607\n"
     ]
    },
    {
     "name": "stderr",
     "output_type": "stream",
     "text": [
      "[C:/Work/Projects/fns crm/crm/bot/mysessionfns] Waiting for 7 seconds before continuing (required by \"users.GetFullUser\")\n"
     ]
    },
    {
     "name": "stdout",
     "output_type": "stream",
     "text": [
      "Нашлось: 608\n",
      "Не нашлось: 609\n",
      "Не нашлось: 610\n",
      "Не нашлось: 611\n"
     ]
    },
    {
     "name": "stderr",
     "output_type": "stream",
     "text": [
      "[C:/Work/Projects/fns crm/crm/bot/mysessionfns] Waiting for 5 seconds before continuing (required by \"users.GetFullUser\")\n"
     ]
    },
    {
     "name": "stdout",
     "output_type": "stream",
     "text": [
      "Не нашлось: 612\n",
      "Не нашлось: 613\n",
      "Не нашлось: 614\n",
      "Не нашлось: 615\n"
     ]
    },
    {
     "name": "stderr",
     "output_type": "stream",
     "text": [
      "[C:/Work/Projects/fns crm/crm/bot/mysessionfns] Waiting for 7 seconds before continuing (required by \"users.GetFullUser\")\n"
     ]
    },
    {
     "name": "stdout",
     "output_type": "stream",
     "text": [
      "Не нашлось: 616\n",
      "Не нашлось: 617\n",
      "Не нашлось: 618\n",
      "Не нашлось: 619\n"
     ]
    },
    {
     "name": "stderr",
     "output_type": "stream",
     "text": [
      "[C:/Work/Projects/fns crm/crm/bot/mysessionfns] Waiting for 7 seconds before continuing (required by \"users.GetFullUser\")\n"
     ]
    },
    {
     "name": "stdout",
     "output_type": "stream",
     "text": [
      "Не нашлось: 620\n",
      "Не нашлось: 621\n",
      "Не нашлось: 622\n",
      "Не нашлось: 623\n"
     ]
    },
    {
     "name": "stderr",
     "output_type": "stream",
     "text": [
      "[C:/Work/Projects/fns crm/crm/bot/mysessionfns] Waiting for 6 seconds before continuing (required by \"users.GetFullUser\")\n"
     ]
    },
    {
     "name": "stdout",
     "output_type": "stream",
     "text": [
      "Не нашлось: 624\n",
      "Не нашлось: 625\n",
      "Не нашлось: 626\n",
      "Не нашлось: 627\n"
     ]
    },
    {
     "name": "stderr",
     "output_type": "stream",
     "text": [
      "[C:/Work/Projects/fns crm/crm/bot/mysessionfns] Waiting for 6 seconds before continuing (required by \"users.GetFullUser\")\n"
     ]
    },
    {
     "name": "stdout",
     "output_type": "stream",
     "text": [
      "Не нашлось: 628\n",
      "Не нашлось: 629\n",
      "Нашлось: 630\n",
      "Не нашлось: 631\n"
     ]
    },
    {
     "name": "stderr",
     "output_type": "stream",
     "text": [
      "[C:/Work/Projects/fns crm/crm/bot/mysessionfns] Waiting for 5 seconds before continuing (required by \"users.GetFullUser\")\n"
     ]
    },
    {
     "name": "stdout",
     "output_type": "stream",
     "text": [
      "Не нашлось: 632\n",
      "Не нашлось: 633\n",
      "Нашлось: 634\n",
      "Не нашлось: 635\n"
     ]
    },
    {
     "name": "stderr",
     "output_type": "stream",
     "text": [
      "[C:/Work/Projects/fns crm/crm/bot/mysessionfns] Waiting for 5 seconds before continuing (required by \"users.GetFullUser\")\n"
     ]
    },
    {
     "name": "stdout",
     "output_type": "stream",
     "text": [
      "Не нашлось: 636\n",
      "Не нашлось: 637\n",
      "Не нашлось: 638\n",
      "Не нашлось: 639\n"
     ]
    },
    {
     "name": "stderr",
     "output_type": "stream",
     "text": [
      "[C:/Work/Projects/fns crm/crm/bot/mysessionfns] Waiting for 6 seconds before continuing (required by \"users.GetFullUser\")\n"
     ]
    },
    {
     "name": "stdout",
     "output_type": "stream",
     "text": [
      "Не нашлось: 640\n",
      "Не нашлось: 641\n",
      "Нашлось: 642\n",
      "Не нашлось: 643\n"
     ]
    },
    {
     "name": "stderr",
     "output_type": "stream",
     "text": [
      "[C:/Work/Projects/fns crm/crm/bot/mysessionfns] Waiting for 3 seconds before continuing (required by \"users.GetFullUser\")\n"
     ]
    },
    {
     "name": "stdout",
     "output_type": "stream",
     "text": [
      "Не нашлось: 644\n",
      "Не нашлось: 645\n",
      "Не нашлось: 646\n",
      "Не нашлось: 647\n"
     ]
    },
    {
     "name": "stderr",
     "output_type": "stream",
     "text": [
      "[C:/Work/Projects/fns crm/crm/bot/mysessionfns] Waiting for 7 seconds before continuing (required by \"users.GetFullUser\")\n"
     ]
    },
    {
     "name": "stdout",
     "output_type": "stream",
     "text": [
      "Не нашлось: 648\n",
      "Не нашлось: 649\n",
      "Не нашлось: 650\n",
      "Не нашлось: 651\n"
     ]
    },
    {
     "name": "stderr",
     "output_type": "stream",
     "text": [
      "[C:/Work/Projects/fns crm/crm/bot/mysessionfns] Waiting for 7 seconds before continuing (required by \"users.GetFullUser\")\n"
     ]
    },
    {
     "name": "stdout",
     "output_type": "stream",
     "text": [
      "Не нашлось: 652\n",
      "Не нашлось: 653\n",
      "Не нашлось: 654\n",
      "Не нашлось: 655\n"
     ]
    },
    {
     "name": "stderr",
     "output_type": "stream",
     "text": [
      "[C:/Work/Projects/fns crm/crm/bot/mysessionfns] Waiting for 5 seconds before continuing (required by \"users.GetFullUser\")\n"
     ]
    },
    {
     "name": "stdout",
     "output_type": "stream",
     "text": [
      "Не нашлось: 656\n",
      "Нашлось: 657\n",
      "Не нашлось: 658\n",
      "Не нашлось: 659\n"
     ]
    },
    {
     "name": "stderr",
     "output_type": "stream",
     "text": [
      "[C:/Work/Projects/fns crm/crm/bot/mysessionfns] Waiting for 3 seconds before continuing (required by \"users.GetFullUser\")\n"
     ]
    },
    {
     "name": "stdout",
     "output_type": "stream",
     "text": [
      "Не нашлось: 660\n",
      "Не нашлось: 661\n",
      "Не нашлось: 662\n",
      "Не нашлось: 663\n"
     ]
    },
    {
     "name": "stderr",
     "output_type": "stream",
     "text": [
      "[C:/Work/Projects/fns crm/crm/bot/mysessionfns] Waiting for 7 seconds before continuing (required by \"users.GetFullUser\")\n"
     ]
    },
    {
     "name": "stdout",
     "output_type": "stream",
     "text": [
      "Не нашлось: 664\n",
      "Не нашлось: 665\n",
      "Не нашлось: 666\n",
      "Не нашлось: 667\n"
     ]
    },
    {
     "name": "stderr",
     "output_type": "stream",
     "text": [
      "[C:/Work/Projects/fns crm/crm/bot/mysessionfns] Waiting for 7 seconds before continuing (required by \"users.GetFullUser\")\n"
     ]
    },
    {
     "name": "stdout",
     "output_type": "stream",
     "text": [
      "Нашлось: 668\n",
      "Не нашлось: 669\n",
      "Нашлось: 670\n",
      "Не нашлось: 671\n"
     ]
    },
    {
     "name": "stderr",
     "output_type": "stream",
     "text": [
      "[C:/Work/Projects/fns crm/crm/bot/mysessionfns] Waiting for 3 seconds before continuing (required by \"users.GetFullUser\")\n"
     ]
    },
    {
     "name": "stdout",
     "output_type": "stream",
     "text": [
      "Нашлось: 672\n",
      "Не нашлось: 673\n",
      "Не нашлось: 674\n",
      "Не нашлось: 675\n"
     ]
    },
    {
     "name": "stderr",
     "output_type": "stream",
     "text": [
      "[C:/Work/Projects/fns crm/crm/bot/mysessionfns] Waiting for 5 seconds before continuing (required by \"users.GetFullUser\")\n"
     ]
    },
    {
     "name": "stdout",
     "output_type": "stream",
     "text": [
      "Нашлось: 676\n",
      "Не нашлось: 677\n",
      "Не нашлось: 678\n",
      "Не нашлось: 679\n"
     ]
    },
    {
     "name": "stderr",
     "output_type": "stream",
     "text": [
      "[C:/Work/Projects/fns crm/crm/bot/mysessionfns] Waiting for 6 seconds before continuing (required by \"users.GetFullUser\")\n"
     ]
    },
    {
     "name": "stdout",
     "output_type": "stream",
     "text": [
      "Не нашлось: 680\n",
      "Нашлось: 681\n",
      "Нашлось: 682\n",
      "Нашлось: 683\n"
     ]
    },
    {
     "name": "stderr",
     "output_type": "stream",
     "text": [
      "[C:/Work/Projects/fns crm/crm/bot/mysessionfns] Waiting for 3 seconds before continuing (required by \"users.GetFullUser\")\n"
     ]
    },
    {
     "name": "stdout",
     "output_type": "stream",
     "text": [
      "Не нашлось: 684\n",
      "Нашлось: 685\n",
      "Нашлось: 686\n",
      "Не нашлось: 687\n"
     ]
    },
    {
     "name": "stderr",
     "output_type": "stream",
     "text": [
      "[C:/Work/Projects/fns crm/crm/bot/mysessionfns] Waiting for 3 seconds before continuing (required by \"users.GetFullUser\")\n"
     ]
    },
    {
     "name": "stdout",
     "output_type": "stream",
     "text": [
      "Нашлось: 688\n",
      "Не нашлось: 689\n",
      "Нашлось: 690\n",
      "Не нашлось: 691\n"
     ]
    }
   ],
   "source": [
    "for i in df_stats.loc[126:].index:\n",
    "\n",
    "    if pd.isna(df_stats.loc[i, 'answer_id']) == False or pd.isna(df_stats.loc[i, 'answer_one']) == True or df_stats.loc[i, 'answer_one'] == '':\n",
    "        continue\n",
    "\n",
    "    l = [{'question': str(df_stats.loc[i, 'answer_one']).replace('_x000D_', '').strip()[:100], 'answer_text': ''}\n",
    "     ]\n",
    "    result = await my_app_telegram_functions.search_message(l)\n",
    "\n",
    "    if result != None:\n",
    "        df_stats.loc[i, 'answer_id'] = result['id_message']\n",
    "        df_stats.loc[i, 'answer_count_message'] = result['count']\n",
    "\n",
    "    # if i % 20 or i == df_stats.shape[1]-1:\n",
    "\n",
    "        print(f'Нашлось: {i}')\n",
    "        df_stats.to_excel('Месяц статистики new.xlsx', index=False)\n",
    "    else:\n",
    "        print(f'Не нашлось: {i}')\n",
    "df_stats.to_excel('Месяц статистики new.xlsx', index=False)"
   ]
  },
  {
   "cell_type": "code",
   "execution_count": 70,
   "metadata": {},
   "outputs": [
    {
     "data": {
      "text/plain": [
       "'4800 Подскажите, как на нашем уровне определить, кто подключён к СМЭВ? Запросы направляют не все.'"
      ]
     },
     "execution_count": 70,
     "metadata": {},
     "output_type": "execute_result"
    }
   ],
   "source": [
    "str(df_stats[df_stats['id_message']==1].iloc[1]['question']).replace('_x000D_', '').strip()\n",
    "# df_stats[df_stats['id_message']==1].iloc[0].id"
   ]
  },
  {
   "cell_type": "code",
   "execution_count": null,
   "metadata": {},
   "outputs": [],
   "source": []
  },
  {
   "cell_type": "code",
   "execution_count": 34,
   "metadata": {},
   "outputs": [],
   "source": [
    "df_stats.loc[20825, 'question_one'] = '2208 Суханова А.В.Добрый день, ИНН 221000119800.Декларация по  ЕСХН за 2022 год к уменьшению по последнему периоду, применен режим разблокировки строк в ЕНС, но до этого момента списания в счёт погашения неправомерной недоимки производились с ЕНП.После проведения уменьшений переплата осталась в ОКНО и не поднялась в сальдо?Правомерно ли это и на какие нормы ссылаться при ответе на ЗГ налогоплательщику?Спасибо.'"
   ]
  },
  {
   "cell_type": "code",
   "execution_count": 13,
   "metadata": {},
   "outputs": [
    {
     "data": {
      "text/plain": [
       "'2369 Добрый день! Пожалуйста, окажите содействие в подписании заявки на'"
      ]
     },
     "execution_count": 13,
     "metadata": {},
     "output_type": "execute_result"
    }
   ],
   "source": [
    "str3 = ' '.join(df_stats[df_stats['id_message']==1].iloc[0]['question_one'].replace('_x000D_', '').strip()[:80].split(' ')[:-1])\n",
    "# str3 = ' '.join(str3)\n",
    "str3"
   ]
  },
  {
   "cell_type": "code",
   "execution_count": null,
   "metadata": {},
   "outputs": [],
   "source": []
  },
  {
   "cell_type": "code",
   "execution_count": 59,
   "metadata": {},
   "outputs": [
    {
     "data": {
      "text/plain": [
       "(72, 27)"
      ]
     },
     "execution_count": 59,
     "metadata": {},
     "output_type": "execute_result"
    }
   ],
   "source": [
    "df_stats[pd.isna(df_stats['answer_id'])==False].shape"
   ]
  },
  {
   "cell_type": "code",
   "execution_count": 52,
   "metadata": {},
   "outputs": [
    {
     "data": {
      "text/plain": [
       "1"
      ]
     },
     "execution_count": 52,
     "metadata": {},
     "output_type": "execute_result"
    }
   ],
   "source": [
    "str4 = \"\"\"\n",
    "1109005778\"\"\"\n",
    "str4.replace('\\xa0', ' ').find(str3)"
   ]
  },
  {
   "cell_type": "code",
   "execution_count": 92,
   "metadata": {},
   "outputs": [],
   "source": [
    "import datetime"
   ]
  },
  {
   "cell_type": "code",
   "execution_count": 99,
   "metadata": {},
   "outputs": [
    {
     "data": {
      "text/plain": [
       "Timestamp('2023-02-08 00:00:00')"
      ]
     },
     "execution_count": 99,
     "metadata": {},
     "output_type": "execute_result"
    }
   ],
   "source": [
    "pd.Timestamp('2023-02-08')"
   ]
  },
  {
   "cell_type": "code",
   "execution_count": 98,
   "metadata": {},
   "outputs": [
    {
     "data": {
      "text/plain": [
       "False"
      ]
     },
     "execution_count": 98,
     "metadata": {},
     "output_type": "execute_result"
    }
   ],
   "source": [
    "df.loc[0, 'Дата и время публикации ответа'] == pd.Timestamp('2023-02-08')"
   ]
  },
  {
   "cell_type": "code",
   "execution_count": 116,
   "metadata": {},
   "outputs": [
    {
     "data": {
      "text/plain": [
       "(4877, 9)"
      ]
     },
     "execution_count": 116,
     "metadata": {},
     "output_type": "execute_result"
    }
   ],
   "source": [
    "df_05 = df[pd.isna(df['Дата и время публикации ответа'])==False]\n",
    "# df_05 = df_05[df_05['Дата и время публикации ответа']>=pd.Timestamp('2023-05-05')]\n",
    "df_05.shape"
   ]
  },
  {
   "cell_type": "code",
   "execution_count": 106,
   "metadata": {},
   "outputs": [
    {
     "data": {
      "text/plain": [
       "dtype('O')"
      ]
     },
     "execution_count": 106,
     "metadata": {},
     "output_type": "execute_result"
    }
   ],
   "source": [
    "df_05['Дата и время публикации ответа'].astype()"
   ]
  },
  {
   "cell_type": "code",
   "execution_count": 194,
   "metadata": {},
   "outputs": [
    {
     "name": "stderr",
     "output_type": "stream",
     "text": [
      "C:\\Users\\andre\\AppData\\Local\\Temp\\ipykernel_9320\\3341614134.py:1: SettingWithCopyWarning: \n",
      "A value is trying to be set on a copy of a slice from a DataFrame.\n",
      "Try using .loc[row_indexer,col_indexer] = value instead\n",
      "\n",
      "See the caveats in the documentation: https://pandas.pydata.org/pandas-docs/stable/user_guide/indexing.html#returning-a-view-versus-a-copy\n",
      "  df_05['question'] = df_05['Вопрос'].apply(lambda x: ''.join(str(x).replace('_x000D_', '').split('\\n')))\n",
      "C:\\Users\\andre\\AppData\\Local\\Temp\\ipykernel_9320\\3341614134.py:2: SettingWithCopyWarning: \n",
      "A value is trying to be set on a copy of a slice from a DataFrame.\n",
      "Try using .loc[row_indexer,col_indexer] = value instead\n",
      "\n",
      "See the caveats in the documentation: https://pandas.pydata.org/pandas-docs/stable/user_guide/indexing.html#returning-a-view-versus-a-copy\n",
      "  df_05['answer'] = df_05['Ответ'].apply(lambda x: ''.join(str(x).replace('_x000D_', '').split('\\n')))\n"
     ]
    }
   ],
   "source": [
    "df_05['question'] = df_05['Вопрос'].apply(lambda x: ''.join(str(x).replace('_x000D_', '').split('\\n')))\n",
    "df_05['answer'] = df_05['Ответ'].apply(lambda x: ''.join(str(x).replace('_x000D_', '').split('\\n')))"
   ]
  },
  {
   "cell_type": "code",
   "execution_count": 196,
   "metadata": {},
   "outputs": [],
   "source": [
    "df_stats['question_1'] = df_stats['question'].apply(lambda x: ''.join(str(x).replace('_x000D_', '').split('\\n')))\n",
    "df_stats['answer_1'] = df_stats['answer_text'].apply(lambda x: ''.join(str(x).replace('_x000D_', '').split('\\n')))"
   ]
  },
  {
   "cell_type": "code",
   "execution_count": 197,
   "metadata": {},
   "outputs": [
    {
     "name": "stdout",
     "output_type": "stream",
     "text": [
      "[13, 453, 454, 455, 457, 458, 459, 460, 461, 462, 463, 464, 465, 466, 842, 844, 845, 846, 847, 849, 1186, 1187, 1190, 1191, 1192, 1193, 1194, 2107, 2108, 2109, 2110, 2111, 2114, 2115, 2116, 2118, 2119, 2120, 2121, 2122, 2123, 2124, 2125, 2126, 2127, 2128, 2129, 2130, 2131, 2133, 2135, 2292, 2295, 2514, 2700, 2912, 2913, 3214, 3215, 3325, 3519, 3697, 3698, 3969, 3971, 3972, 4885, 4906, 4916, 4917, 4918, 4919, 4920, 4921, 4922, 4923, 4924, 4925, 4926, 4927, 4928, 4929]\n",
      "82\n"
     ]
    }
   ],
   "source": [
    "count = 0\n",
    "list_index = []\n",
    "for i in df_05.index:\n",
    "\n",
    "    try:\n",
    "        if df_05.loc[i, 'Дата и время публикации ответа']  < pd.Timestamp('2023-05-05'):\n",
    "            continue\n",
    "    except:\n",
    "        # print(df_05.loc[i, 'Дата и время публикации ответа'])\n",
    "        continue\n",
    "\n",
    "    df_if = df_stats.loc[df_stats['answer_1']==df_05.loc[i, 'answer']]\n",
    "    df_if = df_if.loc[df_stats['question_1']==df_05.loc[i, 'question']]\n",
    "    if len(df_if) == 0:\n",
    "        # print(df_05.loc[i, 'question'])\n",
    "        list_index.append(i)\n",
    "        count += 1\n",
    "print(list_index)\n",
    "print(count)"
   ]
  },
  {
   "cell_type": "code",
   "execution_count": 183,
   "metadata": {},
   "outputs": [],
   "source": [
    "str_f = \"\"\"Платеж отсутствует в ведомости НО 9967.\n",
    "Все платежи разнесены по ОКТМО.\"\"\""
   ]
  },
  {
   "cell_type": "code",
   "execution_count": 161,
   "metadata": {},
   "outputs": [
    {
     "data": {
      "text/plain": [
       "(691, 27)"
      ]
     },
     "execution_count": 161,
     "metadata": {},
     "output_type": "execute_result"
    }
   ],
   "source": [
    "df_stats.shape"
   ]
  },
  {
   "cell_type": "code",
   "execution_count": 167,
   "metadata": {},
   "outputs": [],
   "source": [
    "df_stats['answer_text_split'] = df_stats['answer_text'].apply(lambda x: str(x).replace('_x000D_', ''))"
   ]
  },
  {
   "cell_type": "code",
   "execution_count": 184,
   "metadata": {},
   "outputs": [
    {
     "name": "stdout",
     "output_type": "stream",
     "text": [
      "Платеж отсутствует в ведомости НО 9967.\n",
      "Все платежи разнесены по ОКТМО.\n"
     ]
    }
   ],
   "source": [
    "for i in df_stats['answer_text_split']:\n",
    "    if i.find(str_f) > -1:\n",
    "        print(i)"
   ]
  },
  {
   "cell_type": "code",
   "execution_count": 200,
   "metadata": {},
   "outputs": [
    {
     "data": {
      "text/plain": [
       "'Добрый день! Код НО 5100. НП неверно заполнил в пп ИНН и КПП, в связи с чем след платежи отражены в 1 ведомости невыясненных поступлений (НО 9967) по налогоплательщику МИ ФНС России по управлению долгом: - 51411 от 27.01.2023 на сумму 44150.00 руб.,\\n-245293 от 27.02.2023 на сумму 269048.00 руб.,\\n-245294 от 27.02.2023 на сумму 378500.66 руб.,\\n-451129 от 27.03.2023 на сумму 147586.00 руб.,\\n-451131 от 27.03.2023 на сумму 500186.84 руб.\\nУказаные платежи необходимо уточнить на НП ГОКУ \"Дирекция ООПТ\" ИНН 5106800503 КПП 519001001.\\nВ связи с наличием жалобы от НП,  просим провести мероприятия по уточнению по возможности в кратчайшие сроки.'"
      ]
     },
     "execution_count": 200,
     "metadata": {},
     "output_type": "execute_result"
    }
   ],
   "source": [
    "df_05.loc[list_index].iloc[5]['Вопрос']"
   ]
  },
  {
   "cell_type": "code",
   "execution_count": 198,
   "metadata": {},
   "outputs": [
    {
     "data": {
      "text/plain": [
       "'Проведены мероприятия по уточнению ПД, ожидайте отражения денежных средств на ЕНС плательщика.'"
      ]
     },
     "execution_count": 198,
     "metadata": {},
     "output_type": "execute_result"
    }
   ],
   "source": [
    "df_05.loc[list_index].iloc[1]['Ответ']"
   ]
  },
  {
   "cell_type": "code",
   "execution_count": 209,
   "metadata": {},
   "outputs": [
    {
     "name": "stdout",
     "output_type": "stream",
     "text": [
      "Int64Index([557], dtype='int64')\n",
      "Int64Index([677], dtype='int64')\n",
      "Int64Index([661], dtype='int64')\n",
      "[842, 3325, 4906]\n",
      "3\n"
     ]
    }
   ],
   "source": [
    "count = 0\n",
    "list_index_06 = []\n",
    "df_06 = df_05.loc[list_index]\n",
    "for i in df_06.index:\n",
    "\n",
    "    try:\n",
    "        if df_06.loc[i, 'Дата и время публикации ответа']  < pd.Timestamp('2023-05-05'):\n",
    "            continue\n",
    "    except:\n",
    "        # print(df_05.loc[i, 'Дата и время публикации ответа'])\n",
    "        continue\n",
    "\n",
    "    # df_if = df_stats.loc[df_stats['answer_1']==df_06.loc[i, 'answer']]\n",
    "    df_if = df_stats.loc[df_stats['question_1']==df_06.loc[i, 'question']]\n",
    "    if len(df_if) != 0:\n",
    "        # print(df_05.loc[i, 'question'])\n",
    "        list_index_06.append(i)\n",
    "        count += 1\n",
    "        print(df_if.index)\n",
    "print(list_index_06)\n",
    "print(count)"
   ]
  },
  {
   "cell_type": "code",
   "execution_count": 210,
   "metadata": {},
   "outputs": [],
   "source": [
    "index_st = [557, 667, 661]"
   ]
  },
  {
   "cell_type": "code",
   "execution_count": 212,
   "metadata": {},
   "outputs": [
    {
     "data": {
      "text/plain": [
       "(691, 30)"
      ]
     },
     "execution_count": 212,
     "metadata": {},
     "output_type": "execute_result"
    }
   ],
   "source": [
    "df_stats.shape"
   ]
  },
  {
   "cell_type": "code",
   "execution_count": 214,
   "metadata": {},
   "outputs": [],
   "source": [
    "df_stats.drop(index=index_st).to_excel('Сообщения из CRM.xlsx', index=False)"
   ]
  },
  {
   "cell_type": "code",
   "execution_count": 224,
   "metadata": {},
   "outputs": [
    {
     "data": {
      "text/plain": [
       "(82, 13)"
      ]
     },
     "execution_count": 224,
     "metadata": {},
     "output_type": "execute_result"
    }
   ],
   "source": [
    "df_06.shape"
   ]
  },
  {
   "cell_type": "code",
   "execution_count": 215,
   "metadata": {},
   "outputs": [],
   "source": [
    "df_06.to_excel('Сообщения из статистики.xlsx', index=False)"
   ]
  },
  {
   "cell_type": "code",
   "execution_count": 226,
   "metadata": {},
   "outputs": [],
   "source": [
    "df_06['answer_id'] = 0\n",
    "df_06['answer_count_message'] = 0\n",
    "df_06['answer_one'] = df_06['Ответ'].apply(question_pred)"
   ]
  },
  {
   "cell_type": "code",
   "execution_count": 227,
   "metadata": {},
   "outputs": [
    {
     "name": "stdout",
     "output_type": "stream",
     "text": [
      "Не нашлось: 13\n",
      "Не нашлось: 453\n",
      "Нашлось: 454\n",
      "Не нашлось: 455\n"
     ]
    },
    {
     "name": "stderr",
     "output_type": "stream",
     "text": [
      "[C:/Work/Projects/fns crm/crm/bot/mysessionfns] Waiting for 5 seconds before continuing (required by \"users.GetFullUser\")\n"
     ]
    },
    {
     "name": "stdout",
     "output_type": "stream",
     "text": [
      "Не нашлось: 457\n",
      "Не нашлось: 458\n",
      "Нашлось: 459\n",
      "Нашлось: 460\n"
     ]
    },
    {
     "name": "stderr",
     "output_type": "stream",
     "text": [
      "[C:/Work/Projects/fns crm/crm/bot/mysessionfns] Waiting for 3 seconds before continuing (required by \"users.GetFullUser\")\n"
     ]
    },
    {
     "name": "stdout",
     "output_type": "stream",
     "text": [
      "Не нашлось: 461\n",
      "Не нашлось: 462\n",
      "Не нашлось: 463\n",
      "Не нашлось: 464\n"
     ]
    },
    {
     "name": "stderr",
     "output_type": "stream",
     "text": [
      "[C:/Work/Projects/fns crm/crm/bot/mysessionfns] Waiting for 7 seconds before continuing (required by \"users.GetFullUser\")\n"
     ]
    },
    {
     "name": "stdout",
     "output_type": "stream",
     "text": [
      "Не нашлось: 465\n",
      "Не нашлось: 466\n",
      "Не нашлось: 842\n",
      "Не нашлось: 844\n"
     ]
    },
    {
     "name": "stderr",
     "output_type": "stream",
     "text": [
      "[C:/Work/Projects/fns crm/crm/bot/mysessionfns] Waiting for 6 seconds before continuing (required by \"users.GetFullUser\")\n"
     ]
    },
    {
     "name": "stdout",
     "output_type": "stream",
     "text": [
      "Не нашлось: 845\n",
      "Не нашлось: 846\n",
      "Не нашлось: 847\n",
      "Не нашлось: 849\n"
     ]
    },
    {
     "name": "stderr",
     "output_type": "stream",
     "text": [
      "[C:/Work/Projects/fns crm/crm/bot/mysessionfns] Waiting for 5 seconds before continuing (required by \"users.GetFullUser\")\n"
     ]
    },
    {
     "name": "stdout",
     "output_type": "stream",
     "text": [
      "Не нашлось: 1186\n",
      "Не нашлось: 1187\n",
      "Не нашлось: 1190\n",
      "Не нашлось: 1191\n"
     ]
    },
    {
     "name": "stderr",
     "output_type": "stream",
     "text": [
      "[C:/Work/Projects/fns crm/crm/bot/mysessionfns] Waiting for 7 seconds before continuing (required by \"users.GetFullUser\")\n"
     ]
    },
    {
     "name": "stdout",
     "output_type": "stream",
     "text": [
      "Не нашлось: 1192\n",
      "Не нашлось: 1193\n",
      "Не нашлось: 1194\n",
      "Не нашлось: 2107\n"
     ]
    },
    {
     "name": "stderr",
     "output_type": "stream",
     "text": [
      "[C:/Work/Projects/fns crm/crm/bot/mysessionfns] Waiting for 3 seconds before continuing (required by \"users.GetFullUser\")\n"
     ]
    },
    {
     "name": "stdout",
     "output_type": "stream",
     "text": [
      "Не нашлось: 2108\n",
      "Не нашлось: 2109\n",
      "Не нашлось: 2110\n",
      "Не нашлось: 2111\n"
     ]
    },
    {
     "name": "stderr",
     "output_type": "stream",
     "text": [
      "[C:/Work/Projects/fns crm/crm/bot/mysessionfns] Waiting for 6 seconds before continuing (required by \"users.GetFullUser\")\n"
     ]
    },
    {
     "name": "stdout",
     "output_type": "stream",
     "text": [
      "Не нашлось: 2114\n",
      "Не нашлось: 2115\n",
      "Не нашлось: 2116\n",
      "Не нашлось: 2118\n"
     ]
    },
    {
     "name": "stderr",
     "output_type": "stream",
     "text": [
      "[C:/Work/Projects/fns crm/crm/bot/mysessionfns] Waiting for 6 seconds before continuing (required by \"users.GetFullUser\")\n"
     ]
    },
    {
     "name": "stdout",
     "output_type": "stream",
     "text": [
      "Не нашлось: 2119\n",
      "Не нашлось: 2120\n",
      "Не нашлось: 2121\n",
      "Не нашлось: 2122\n"
     ]
    },
    {
     "name": "stderr",
     "output_type": "stream",
     "text": [
      "[C:/Work/Projects/fns crm/crm/bot/mysessionfns] Waiting for 7 seconds before continuing (required by \"users.GetFullUser\")\n"
     ]
    },
    {
     "name": "stdout",
     "output_type": "stream",
     "text": [
      "Не нашлось: 2123\n",
      "Не нашлось: 2124\n",
      "Не нашлось: 2125\n",
      "Не нашлось: 2126\n"
     ]
    },
    {
     "name": "stderr",
     "output_type": "stream",
     "text": [
      "[C:/Work/Projects/fns crm/crm/bot/mysessionfns] Waiting for 5 seconds before continuing (required by \"users.GetFullUser\")\n"
     ]
    },
    {
     "name": "stdout",
     "output_type": "stream",
     "text": [
      "Не нашлось: 2127\n",
      "Не нашлось: 2128\n",
      "Нашлось: 2129\n",
      "Не нашлось: 2130\n"
     ]
    },
    {
     "name": "stderr",
     "output_type": "stream",
     "text": [
      "[C:/Work/Projects/fns crm/crm/bot/mysessionfns] Waiting for 3 seconds before continuing (required by \"users.GetFullUser\")\n"
     ]
    },
    {
     "name": "stdout",
     "output_type": "stream",
     "text": [
      "Не нашлось: 2131\n",
      "Не нашлось: 2133\n",
      "Не нашлось: 2135\n",
      "Не нашлось: 2292\n"
     ]
    },
    {
     "name": "stderr",
     "output_type": "stream",
     "text": [
      "[C:/Work/Projects/fns crm/crm/bot/mysessionfns] Waiting for 7 seconds before continuing (required by \"users.GetFullUser\")\n"
     ]
    },
    {
     "name": "stdout",
     "output_type": "stream",
     "text": [
      "Не нашлось: 2295\n",
      "Не нашлось: 2514\n",
      "Не нашлось: 2700\n",
      "Не нашлось: 2912\n"
     ]
    },
    {
     "name": "stderr",
     "output_type": "stream",
     "text": [
      "[C:/Work/Projects/fns crm/crm/bot/mysessionfns] Waiting for 7 seconds before continuing (required by \"users.GetFullUser\")\n"
     ]
    },
    {
     "name": "stdout",
     "output_type": "stream",
     "text": [
      "Нашлось: 2913\n",
      "Не нашлось: 3214\n",
      "Нашлось: 3215\n",
      "Не нашлось: 3325\n"
     ]
    },
    {
     "name": "stderr",
     "output_type": "stream",
     "text": [
      "[C:/Work/Projects/fns crm/crm/bot/mysessionfns] Waiting for 3 seconds before continuing (required by \"users.GetFullUser\")\n"
     ]
    },
    {
     "name": "stdout",
     "output_type": "stream",
     "text": [
      "Не нашлось: 3519\n",
      "Не нашлось: 3697\n",
      "Не нашлось: 3698\n",
      "Не нашлось: 3969\n"
     ]
    },
    {
     "name": "stderr",
     "output_type": "stream",
     "text": [
      "[C:/Work/Projects/fns crm/crm/bot/mysessionfns] Waiting for 6 seconds before continuing (required by \"users.GetFullUser\")\n"
     ]
    },
    {
     "name": "stdout",
     "output_type": "stream",
     "text": [
      "Нашлось: 3971\n",
      "Нашлось: 3972\n",
      "Не нашлось: 4885\n",
      "Не нашлось: 4906\n"
     ]
    },
    {
     "name": "stderr",
     "output_type": "stream",
     "text": [
      "[C:/Work/Projects/fns crm/crm/bot/mysessionfns] Waiting for 3 seconds before continuing (required by \"users.GetFullUser\")\n"
     ]
    },
    {
     "name": "stdout",
     "output_type": "stream",
     "text": [
      "Не нашлось: 4916\n",
      "Не нашлось: 4917\n",
      "Не нашлось: 4918\n",
      "Не нашлось: 4919\n"
     ]
    },
    {
     "name": "stderr",
     "output_type": "stream",
     "text": [
      "[C:/Work/Projects/fns crm/crm/bot/mysessionfns] Waiting for 7 seconds before continuing (required by \"users.GetFullUser\")\n"
     ]
    },
    {
     "name": "stdout",
     "output_type": "stream",
     "text": [
      "Не нашлось: 4920\n",
      "Не нашлось: 4921\n",
      "Не нашлось: 4922\n",
      "Не нашлось: 4923\n"
     ]
    },
    {
     "name": "stderr",
     "output_type": "stream",
     "text": [
      "[C:/Work/Projects/fns crm/crm/bot/mysessionfns] Waiting for 6 seconds before continuing (required by \"users.GetFullUser\")\n"
     ]
    },
    {
     "name": "stdout",
     "output_type": "stream",
     "text": [
      "Не нашлось: 4924\n",
      "Не нашлось: 4925\n",
      "Не нашлось: 4926\n",
      "Не нашлось: 4927\n"
     ]
    },
    {
     "name": "stderr",
     "output_type": "stream",
     "text": [
      "[C:/Work/Projects/fns crm/crm/bot/mysessionfns] Waiting for 7 seconds before continuing (required by \"users.GetFullUser\")\n"
     ]
    },
    {
     "name": "stdout",
     "output_type": "stream",
     "text": [
      "Не нашлось: 4928\n",
      "Не нашлось: 4929\n"
     ]
    }
   ],
   "source": [
    "for i in df_06.index:\n",
    "\n",
    "    if df_06.loc[i, 'answer_id'] != 0 or pd.isna(df_06.loc[i, 'answer_one']) == True or df_06.loc[i, 'answer_one'] == '':\n",
    "        continue\n",
    "\n",
    "    l = [{'question': str(df_06.loc[i, 'answer_one']).replace('_x000D_', '').strip()[:100], 'answer_text': ''}\n",
    "     ]\n",
    "    result = await my_app_telegram_functions.search_message(l)\n",
    "\n",
    "    if result != None:\n",
    "        df_06.loc[i, 'answer_id'] = result['id_message']\n",
    "        df_06.loc[i, 'answer_count_message'] = result['count']\n",
    "\n",
    "    # if i % 20 or i == df_stats.shape[1]-1:\n",
    "\n",
    "        print(f'Нашлось: {i}')\n",
    "        df_stats.to_excel('Сообщения из статистики.xlsx', index=False)\n",
    "    else:\n",
    "        print(f'Не нашлось: {i}')\n",
    "df_stats.to_excel('Сообщения из статистики.xlsx', index=False)"
   ]
  },
  {
   "cell_type": "code",
   "execution_count": 229,
   "metadata": {},
   "outputs": [],
   "source": [
    "df_06['id_message'] = 0\n",
    "df_06['question_count_message'] = 0\n",
    "df_06['question_one'] = df_06['Вопрос'].apply(question_pred)"
   ]
  },
  {
   "cell_type": "code",
   "execution_count": 230,
   "metadata": {},
   "outputs": [
    {
     "name": "stdout",
     "output_type": "stream",
     "text": [
      "Нашлось: 13\n",
      "Нашлось: 453\n",
      "Нашлось: 454\n",
      "Нашлось: 455\n",
      "Нашлось: 457\n",
      "Нашлось: 458\n",
      "Нашлось: 459\n",
      "Нашлось: 460\n",
      "Нашлось: 461\n",
      "Нашлось: 462\n",
      "Нашлось: 463\n",
      "Нашлось: 464\n",
      "Нашлось: 465\n",
      "Нашлось: 466\n",
      "Нашлось: 842\n",
      "Нашлось: 844\n",
      "Нашлось: 845\n",
      "Нашлось: 846\n",
      "Нашлось: 847\n",
      "Нашлось: 849\n",
      "Нашлось: 1186\n",
      "Нашлось: 1187\n",
      "Нашлось: 1190\n",
      "Нашлось: 1191\n",
      "Нашлось: 1192\n",
      "Нашлось: 1193\n",
      "Нашлось: 1194\n",
      "Нашлось: 2107\n",
      "Нашлось: 2108\n",
      "Нашлось: 2109\n",
      "Нашлось: 2110\n",
      "Нашлось: 2111\n",
      "Нашлось: 2114\n",
      "Нашлось: 2115\n",
      "Нашлось: 2116\n",
      "Нашлось: 2118\n",
      "Нашлось: 2119\n",
      "Нашлось: 2120\n",
      "Нашлось: 2121\n",
      "Нашлось: 2122\n",
      "Нашлось: 2123\n",
      "Нашлось: 2124\n",
      "Нашлось: 2125\n",
      "Нашлось: 2126\n",
      "Нашлось: 2127\n",
      "Нашлось: 2128\n",
      "Нашлось: 2129\n",
      "Нашлось: 2130\n",
      "Нашлось: 2131\n",
      "Нашлось: 2133\n",
      "Нашлось: 2135\n",
      "Нашлось: 2292\n",
      "Нашлось: 2295\n",
      "Нашлось: 2514\n",
      "Нашлось: 2700\n",
      "Нашлось: 2912\n",
      "Нашлось: 2913\n",
      "Нашлось: 3214\n",
      "Нашлось: 3215\n",
      "Нашлось: 3325\n",
      "Нашлось: 3519\n",
      "Нашлось: 3697\n",
      "Нашлось: 3698\n",
      "Нашлось: 3969\n",
      "Нашлось: 3971\n",
      "Нашлось: 3972\n",
      "Нашлось: 4885\n",
      "Нашлось: 4906\n",
      "Нашлось: 4916\n",
      "Нашлось: 4917\n",
      "Нашлось: 4918\n",
      "Нашлось: 4919\n",
      "Нашлось: 4920\n",
      "Нашлось: 4921\n",
      "Нашлось: 4922\n",
      "Нашлось: 4923\n",
      "Нашлось: 4924\n",
      "Нашлось: 4925\n",
      "Нашлось: 4926\n",
      "Нашлось: 4927\n",
      "Нашлось: 4928\n",
      "Нашлось: 4929\n"
     ]
    }
   ],
   "source": [
    "for i in df_06.index:\n",
    "\n",
    "    if df_06.loc[i, 'id_message'] != 0 or pd.isna(df_06.loc[i, 'question_one']) == True or df_06.loc[i, 'question_one'] == '':\n",
    "        continue\n",
    "\n",
    "    l = [{'question': str(df_06.loc[i, 'question_one']).replace('_x000D_', '').strip()[:100], 'answer_text': ''}\n",
    "     ]\n",
    "    result = await my_app_telegram_functions.search_message(l)\n",
    "\n",
    "    if result != None:\n",
    "        df_06.loc[i, 'id_message'] = result['id_message']\n",
    "        df_06.loc[i, 'question_count_message'] = result['count']\n",
    "\n",
    "    # if i % 20 or i == df_stats.shape[1]-1:\n",
    "\n",
    "        print(f'Нашлось: {i}')\n",
    "        df_stats.to_excel('Сообщения из статистики.xlsx', index=False)\n",
    "    else:\n",
    "        print(f'Не нашлось: {i}')\n",
    "df_stats.to_excel('Сообщения из статистики.xlsx', index=False)"
   ]
  },
  {
   "cell_type": "code",
   "execution_count": 231,
   "metadata": {},
   "outputs": [],
   "source": [
    "df_06.to_excel('Сообщения из статистики.xlsx', index=False)"
   ]
  },
  {
   "cell_type": "code",
   "execution_count": 3,
   "metadata": {},
   "outputs": [],
   "source": [
    "mes = 'фыафыа'\n",
    "id_chat = 'DS_Sladkiy_Keks_Molibden_Chat'"
   ]
  },
  {
   "cell_type": "code",
   "execution_count": 4,
   "metadata": {},
   "outputs": [
    {
     "data": {
      "text/plain": [
       "508"
      ]
     },
     "execution_count": 4,
     "metadata": {},
     "output_type": "execute_result"
    }
   ],
   "source": [
    "await my_app_telegram_functions.send_message(id_user=id_chat, text_message=mes, id_message=505)"
   ]
  },
  {
   "cell_type": "code",
   "execution_count": 3,
   "metadata": {},
   "outputs": [],
   "source": [
    "import pandas as pd\n",
    "import numpy as np\n",
    "from crm.bot import my_app_telegram_functions\n",
    "import sqlite3"
   ]
  },
  {
   "cell_type": "code",
   "execution_count": 26,
   "metadata": {},
   "outputs": [],
   "source": [
    "# df_stat_crm = #pd.read_excel('Сообщения из CRM.xlsx')\n",
    "df_stat_file = pd.read_excel('Месяц статистики new 1.xlsx') #pd.read_excel('Сообщения из статистики.xlsx')"
   ]
  },
  {
   "cell_type": "code",
   "execution_count": 27,
   "metadata": {},
   "outputs": [],
   "source": [
    "# df_stat_crm['new_id_answer'] = 0\n",
    "df_stat_file['new_id_answer'] = 0"
   ]
  },
  {
   "cell_type": "code",
   "execution_count": 25,
   "metadata": {},
   "outputs": [],
   "source": [
    "id_chat = -1001849793263"
   ]
  },
  {
   "cell_type": "code",
   "execution_count": 51,
   "metadata": {},
   "outputs": [
    {
     "data": {
      "text/plain": [
       "True"
      ]
     },
     "execution_count": 51,
     "metadata": {},
     "output_type": "execute_result"
    }
   ],
   "source": [
    "pd.isna(df_stat_crm.loc[669, 'answer_text'])"
   ]
  },
  {
   "cell_type": "code",
   "execution_count": 53,
   "metadata": {},
   "outputs": [
    {
     "name": "stdout",
     "output_type": "stream",
     "text": [
      "31853\n",
      "31854\n",
      "31855\n",
      "31856\n",
      "31857\n",
      "31858\n",
      "31859\n",
      "31860\n",
      "31861\n",
      "31862\n",
      "31863\n",
      "31864\n",
      "31865\n",
      "31866\n"
     ]
    }
   ],
   "source": [
    "for i in df_stat_crm.loc[0:0].index:\n",
    "    row = df_stat_crm.loc[i]\n",
    "    if pd.isna(row['answer_text']):\n",
    "        continue\n",
    "    new_id_answer = await my_app_telegram_functions.send_message(id_user=id_chat, text_message=row['answer_text'].replace('_x000D_', '').strip(), id_message=int(row['id_message']))\n",
    "    df_stat_crm.loc[i, 'new_id_answer'] = new_id_answer\n",
    "    print(new_id_answer)\n",
    "    df_stat_crm.to_excel('Сообщения из CRM.xlsx', index=False)"
   ]
  },
  {
   "cell_type": "code",
   "execution_count": 42,
   "metadata": {},
   "outputs": [
    {
     "data": {
      "text/plain": [
       "669"
      ]
     },
     "execution_count": 42,
     "metadata": {},
     "output_type": "execute_result"
    }
   ],
   "source": [
    "i"
   ]
  },
  {
   "cell_type": "code",
   "execution_count": null,
   "metadata": {},
   "outputs": [
    {
     "name": "stdout",
     "output_type": "stream",
     "text": [
      "32063\n",
      "32064\n",
      "32065\n",
      "32066\n"
     ]
    },
    {
     "name": "stderr",
     "output_type": "stream",
     "text": [
      "[C:/Work/Projects/fns crm/crm/bot/mysessionfns] Waiting for 6 seconds before continuing (required by \"users.GetFullUser\")\n"
     ]
    },
    {
     "name": "stdout",
     "output_type": "stream",
     "text": [
      "32067\n",
      "32068\n",
      "32069\n",
      "32070\n"
     ]
    },
    {
     "name": "stderr",
     "output_type": "stream",
     "text": [
      "[C:/Work/Projects/fns crm/crm/bot/mysessionfns] Waiting for 7 seconds before continuing (required by \"users.GetFullUser\")\n"
     ]
    },
    {
     "name": "stdout",
     "output_type": "stream",
     "text": [
      "32071\n",
      "32072\n",
      "32073\n",
      "32074\n"
     ]
    },
    {
     "name": "stderr",
     "output_type": "stream",
     "text": [
      "[C:/Work/Projects/fns crm/crm/bot/mysessionfns] Waiting for 7 seconds before continuing (required by \"users.GetFullUser\")\n"
     ]
    },
    {
     "name": "stdout",
     "output_type": "stream",
     "text": [
      "32075\n",
      "32076\n",
      "32077\n",
      "32078\n"
     ]
    },
    {
     "name": "stderr",
     "output_type": "stream",
     "text": [
      "[C:/Work/Projects/fns crm/crm/bot/mysessionfns] Waiting for 6 seconds before continuing (required by \"users.GetFullUser\")\n"
     ]
    },
    {
     "name": "stdout",
     "output_type": "stream",
     "text": [
      "32079\n",
      "32080\n",
      "32081\n",
      "32082\n"
     ]
    },
    {
     "name": "stderr",
     "output_type": "stream",
     "text": [
      "[C:/Work/Projects/fns crm/crm/bot/mysessionfns] Waiting for 6 seconds before continuing (required by \"users.GetFullUser\")\n"
     ]
    },
    {
     "name": "stdout",
     "output_type": "stream",
     "text": [
      "32083\n",
      "32084\n",
      "32085\n",
      "32086\n"
     ]
    },
    {
     "name": "stderr",
     "output_type": "stream",
     "text": [
      "[C:/Work/Projects/fns crm/crm/bot/mysessionfns] Waiting for 7 seconds before continuing (required by \"users.GetFullUser\")\n"
     ]
    },
    {
     "name": "stdout",
     "output_type": "stream",
     "text": [
      "32087\n",
      "32088\n",
      "32089\n",
      "32090\n"
     ]
    },
    {
     "name": "stderr",
     "output_type": "stream",
     "text": [
      "[C:/Work/Projects/fns crm/crm/bot/mysessionfns] Waiting for 7 seconds before continuing (required by \"users.GetFullUser\")\n"
     ]
    },
    {
     "name": "stdout",
     "output_type": "stream",
     "text": [
      "32091\n",
      "32092\n",
      "32093\n",
      "32094\n"
     ]
    },
    {
     "name": "stderr",
     "output_type": "stream",
     "text": [
      "[C:/Work/Projects/fns crm/crm/bot/mysessionfns] Waiting for 7 seconds before continuing (required by \"users.GetFullUser\")\n"
     ]
    },
    {
     "name": "stdout",
     "output_type": "stream",
     "text": [
      "32095\n",
      "32096\n",
      "32097\n",
      "32098\n"
     ]
    },
    {
     "name": "stderr",
     "output_type": "stream",
     "text": [
      "[C:/Work/Projects/fns crm/crm/bot/mysessionfns] Waiting for 6 seconds before continuing (required by \"users.GetFullUser\")\n"
     ]
    },
    {
     "name": "stdout",
     "output_type": "stream",
     "text": [
      "32099\n",
      "32100\n",
      "32101\n",
      "32102\n"
     ]
    },
    {
     "name": "stderr",
     "output_type": "stream",
     "text": [
      "[C:/Work/Projects/fns crm/crm/bot/mysessionfns] Waiting for 7 seconds before continuing (required by \"users.GetFullUser\")\n"
     ]
    },
    {
     "name": "stdout",
     "output_type": "stream",
     "text": [
      "32103\n",
      "32104\n",
      "32105\n",
      "32106\n"
     ]
    },
    {
     "name": "stderr",
     "output_type": "stream",
     "text": [
      "[C:/Work/Projects/fns crm/crm/bot/mysessionfns] Waiting for 6 seconds before continuing (required by \"users.GetFullUser\")\n"
     ]
    },
    {
     "name": "stdout",
     "output_type": "stream",
     "text": [
      "32107\n",
      "32108\n",
      "32109\n",
      "32110\n"
     ]
    },
    {
     "name": "stderr",
     "output_type": "stream",
     "text": [
      "[C:/Work/Projects/fns crm/crm/bot/mysessionfns] Waiting for 6 seconds before continuing (required by \"users.GetFullUser\")\n"
     ]
    },
    {
     "name": "stdout",
     "output_type": "stream",
     "text": [
      "32111\n",
      "32112\n",
      "32113\n",
      "32114\n"
     ]
    },
    {
     "name": "stderr",
     "output_type": "stream",
     "text": [
      "[C:/Work/Projects/fns crm/crm/bot/mysessionfns] Waiting for 7 seconds before continuing (required by \"users.GetFullUser\")\n"
     ]
    },
    {
     "name": "stdout",
     "output_type": "stream",
     "text": [
      "32115\n",
      "32116\n",
      "32117\n",
      "32118\n"
     ]
    },
    {
     "name": "stderr",
     "output_type": "stream",
     "text": [
      "[C:/Work/Projects/fns crm/crm/bot/mysessionfns] Waiting for 7 seconds before continuing (required by \"users.GetFullUser\")\n"
     ]
    },
    {
     "name": "stdout",
     "output_type": "stream",
     "text": [
      "32120\n",
      "32121\n",
      "32122\n",
      "32123\n"
     ]
    },
    {
     "name": "stderr",
     "output_type": "stream",
     "text": [
      "[C:/Work/Projects/fns crm/crm/bot/mysessionfns] Waiting for 7 seconds before continuing (required by \"users.GetFullUser\")\n"
     ]
    },
    {
     "name": "stdout",
     "output_type": "stream",
     "text": [
      "32124\n",
      "32125\n",
      "32126\n",
      "32127\n"
     ]
    },
    {
     "name": "stderr",
     "output_type": "stream",
     "text": [
      "[C:/Work/Projects/fns crm/crm/bot/mysessionfns] Waiting for 7 seconds before continuing (required by \"users.GetFullUser\")\n"
     ]
    },
    {
     "name": "stdout",
     "output_type": "stream",
     "text": [
      "32128\n",
      "32129\n",
      "32130\n",
      "32131\n"
     ]
    },
    {
     "name": "stderr",
     "output_type": "stream",
     "text": [
      "[C:/Work/Projects/fns crm/crm/bot/mysessionfns] Waiting for 7 seconds before continuing (required by \"users.GetFullUser\")\n"
     ]
    },
    {
     "name": "stdout",
     "output_type": "stream",
     "text": [
      "32133\n",
      "32134\n",
      "32135\n",
      "32136\n"
     ]
    },
    {
     "name": "stderr",
     "output_type": "stream",
     "text": [
      "[C:/Work/Projects/fns crm/crm/bot/mysessionfns] Waiting for 6 seconds before continuing (required by \"users.GetFullUser\")\n"
     ]
    },
    {
     "name": "stdout",
     "output_type": "stream",
     "text": [
      "32137\n",
      "32138\n",
      "32139\n",
      "32140\n"
     ]
    },
    {
     "name": "stderr",
     "output_type": "stream",
     "text": [
      "[C:/Work/Projects/fns crm/crm/bot/mysessionfns] Waiting for 6 seconds before continuing (required by \"users.GetFullUser\")\n"
     ]
    },
    {
     "name": "stdout",
     "output_type": "stream",
     "text": [
      "32141\n",
      "32142\n",
      "32143\n"
     ]
    },
    {
     "name": "stderr",
     "output_type": "stream",
     "text": [
      "socket.send() raised exception.\n",
      "socket.send() raised exception.\n",
      "socket.send() raised exception.\n",
      "socket.send() raised exception.\n"
     ]
    },
    {
     "name": "stdout",
     "output_type": "stream",
     "text": [
      "32144\n"
     ]
    },
    {
     "name": "stderr",
     "output_type": "stream",
     "text": [
      "socket.send() raised exception.\n",
      "socket.send() raised exception.\n",
      "socket.send() raised exception.\n",
      "socket.send() raised exception.\n",
      "socket.send() raised exception.\n",
      "socket.send() raised exception.\n",
      "socket.send() raised exception.\n",
      "socket.send() raised exception.\n",
      "socket.send() raised exception.\n",
      "socket.send() raised exception.\n",
      "socket.send() raised exception.\n",
      "[10] Retrying \"updates.GetDifference\" due to: Connection lost\n",
      "socket.send() raised exception.\n",
      "Task exception was never retrieved\n",
      "future: <Task finished name='Task-10950' coro=<Client.handle_updates() done, defined at c:\\DS\\Program\\Anaconda\\envs\\AI\\lib\\site-packages\\pyrogram\\client.py:535> exception=OSError(ConnectionResetError('Connection lost'))>\n",
      "Traceback (most recent call last):\n",
      "  File \"c:\\DS\\Program\\Anaconda\\envs\\AI\\lib\\site-packages\\pyrogram\\client.py\", line 589, in handle_updates\n",
      "    diff = await self.invoke(\n",
      "  File \"c:\\DS\\Program\\Anaconda\\envs\\AI\\lib\\site-packages\\pyrogram\\methods\\advanced\\invoke.py\", line 79, in invoke\n",
      "    r = await self.session.invoke(\n",
      "  File \"c:\\DS\\Program\\Anaconda\\envs\\AI\\lib\\site-packages\\pyrogram\\session\\session.py\", line 412, in invoke\n",
      "    return await self.invoke(query, retries - 1, timeout)\n",
      "  File \"c:\\DS\\Program\\Anaconda\\envs\\AI\\lib\\site-packages\\pyrogram\\session\\session.py\", line 412, in invoke\n",
      "    return await self.invoke(query, retries - 1, timeout)\n",
      "  File \"c:\\DS\\Program\\Anaconda\\envs\\AI\\lib\\site-packages\\pyrogram\\session\\session.py\", line 412, in invoke\n",
      "    return await self.invoke(query, retries - 1, timeout)\n",
      "  [Previous line repeated 7 more times]\n",
      "  File \"c:\\DS\\Program\\Anaconda\\envs\\AI\\lib\\site-packages\\pyrogram\\session\\session.py\", line 402, in invoke\n",
      "    raise e from None\n",
      "  File \"c:\\DS\\Program\\Anaconda\\envs\\AI\\lib\\site-packages\\pyrogram\\session\\session.py\", line 389, in invoke\n",
      "    return await self.send(query, timeout=timeout)\n",
      "  File \"c:\\DS\\Program\\Anaconda\\envs\\AI\\lib\\site-packages\\pyrogram\\session\\session.py\", line 340, in send\n",
      "    raise e\n",
      "  File \"c:\\DS\\Program\\Anaconda\\envs\\AI\\lib\\site-packages\\pyrogram\\session\\session.py\", line 337, in send\n",
      "    await self.connection.send(payload)\n",
      "  File \"c:\\DS\\Program\\Anaconda\\envs\\AI\\lib\\site-packages\\pyrogram\\connection\\connection.py\", line 69, in send\n",
      "    await self.protocol.send(data)\n",
      "  File \"c:\\DS\\Program\\Anaconda\\envs\\AI\\lib\\site-packages\\pyrogram\\connection\\transport\\tcp\\tcp_abridged.py\", line 38, in send\n",
      "    await super().send(\n",
      "  File \"c:\\DS\\Program\\Anaconda\\envs\\AI\\lib\\site-packages\\pyrogram\\connection\\transport\\tcp\\tcp.py\", line 104, in send\n",
      "    raise OSError(e)\n",
      "OSError: Connection lost\n"
     ]
    }
   ],
   "source": [
    "for i in df_stat_file.loc[6:].index:\n",
    "    row = df_stat_file.loc[i]\n",
    "    new_id_answer = await my_app_telegram_functions.send_message(id_user=id_chat, text_message=row['Ответ'].replace('_x000D_', '').strip(), id_message=int(row['id_message']))\n",
    "    df_stat_file.loc[i, 'new_id_answer'] = new_id_answer\n",
    "    print(new_id_answer)\n",
    "    df_stat_file.to_excel('Сообщения из статистики.xlsx', index=False)"
   ]
  },
  {
   "cell_type": "code",
   "execution_count": 13,
   "metadata": {},
   "outputs": [
    {
     "name": "stdout",
     "output_type": "stream",
     "text": [
      "База данных создана и успешно подключена к SQLite\n",
      "Соединение с SQLite закрыто\n"
     ]
    }
   ],
   "source": [
    "sqlite_insert_query = f\"\"\"\n",
    "UPDATE crm_questionanswerlog set id_message = ?, answer_id = ? where id = ?\n",
    "\"\"\"\n",
    "sqlite_insert_query\n",
    "try:\n",
    "    sqlite_connection = sqlite3.connect(r'C:\\Work\\Projects\\fns crm\\db.sqlite3')\n",
    "    cursor = sqlite_connection.cursor()\n",
    "    print(\"База данных создана и успешно подключена к SQLite\")\n",
    "\n",
    "    for i in df_stat_crm.index:\n",
    "        data = (int(df_stat_crm.loc[i, 'id_message']), int(df_stat_crm.loc[i, 'new_id_answer']), int(df_stat_crm.loc[i, 'id']))\n",
    "        \n",
    "        cursor.execute(sqlite_insert_query, data)\n",
    "        sqlite_connection.commit()\n",
    "        # record = cursor.fetchall()\n",
    "        # print(\"Версия базы данных SQLite: \", record)\n",
    "        # for row in record:\n",
    "        #     print(row)\n",
    "    cursor.close()\n",
    "\n",
    "except sqlite3.Error as error:\n",
    "    print(\"Ошибка при подключении к sqlite\", error)\n",
    "finally:\n",
    "    if (sqlite_connection):\n",
    "        sqlite_connection.close()\n",
    "        print(\"Соединение с SQLite закрыто\")"
   ]
  },
  {
   "cell_type": "code",
   "execution_count": 29,
   "metadata": {},
   "outputs": [
    {
     "name": "stdout",
     "output_type": "stream",
     "text": [
      "База данных создана и успешно подключена к SQLite\n",
      "Соединение с SQLite закрыто\n",
      "38\n",
      "33\n"
     ]
    }
   ],
   "source": [
    "sqlite_insert_query = f\"\"\"\n",
    "SELECT question FROM crm_questionanswerlog where question LIKE ?\n",
    "\"\"\"\n",
    "sqlite_insert_query\n",
    "count = 0\n",
    "count_uniq = 0\n",
    "try:\n",
    "    sqlite_connection = sqlite3.connect(r'C:\\Work\\Projects\\fns crm\\db.sqlite3')\n",
    "    cursor = sqlite_connection.cursor()\n",
    "    print(\"База данных создана и успешно подключена к SQLite\")\n",
    "\n",
    "    for i in df_stat_file.index:\n",
    "        \n",
    "        cursor.execute(sqlite_insert_query, (f'%{df_stat_file.loc[i, \"question\"].replace(\"_x000D_\", \"\").strip()}%',))\n",
    "        records = cursor.fetchall()\n",
    "        count += len(records)\n",
    "        if len(records):\n",
    "            count_uniq += 1\n",
    "        # record = cursor.fetchall()\n",
    "        # print(\"Версия базы данных SQLite: \", record)\n",
    "        # for row in record:\n",
    "        #     print(row)\n",
    "    cursor.close()\n",
    "\n",
    "except sqlite3.Error as error:\n",
    "    print(\"Ошибка при подключении к sqlite\", error)\n",
    "finally:\n",
    "    if (sqlite_connection):\n",
    "        sqlite_connection.close()\n",
    "        print(\"Соединение с SQLite закрыто\")\n",
    "        print(count)\n",
    "        print(count_uniq)"
   ]
  },
  {
   "cell_type": "code",
   "execution_count": 40,
   "metadata": {},
   "outputs": [
    {
     "data": {
      "text/plain": [
       "5000000"
      ]
     },
     "execution_count": 40,
     "metadata": {},
     "output_type": "execute_result"
    }
   ],
   "source": [
    "l1 = [1,2,3,4,5]*1000000\n",
    "len(l1)\n",
    "# list(map(lambda x: x**2, l1))"
   ]
  },
  {
   "cell_type": "code",
   "execution_count": 45,
   "metadata": {},
   "outputs": [],
   "source": [
    "l3 = list(map(lambda x: x**2, l1))"
   ]
  },
  {
   "cell_type": "code",
   "execution_count": 43,
   "metadata": {},
   "outputs": [],
   "source": [
    "l2 = []\n",
    "for i in l1:\n",
    "    l2.append(i**2)"
   ]
  },
  {
   "cell_type": "code",
   "execution_count": 44,
   "metadata": {},
   "outputs": [
    {
     "data": {
      "text/plain": [
       "[1, 4, 9, 16, 25, 1, 4, 9, 16, 25]"
      ]
     },
     "execution_count": 44,
     "metadata": {},
     "output_type": "execute_result"
    }
   ],
   "source": [
    "l2[:10]"
   ]
  },
  {
   "attachments": {},
   "cell_type": "markdown",
   "metadata": {},
   "source": [
    "# Загрузим все датасеты"
   ]
  },
  {
   "cell_type": "code",
   "execution_count": 4,
   "metadata": {},
   "outputs": [],
   "source": [
    "df_crm = pd.read_excel('Сообщения из CRM.xlsx')\n",
    "df_stats = pd.read_excel('Сообщения из статистики.xlsx')\n",
    "df_stats_2 = pd.read_excel('Сообщения из статистики 2.xlsx')"
   ]
  },
  {
   "cell_type": "code",
   "execution_count": 5,
   "metadata": {},
   "outputs": [],
   "source": [
    "df_crm['question'] = df_crm['question'].apply(lambda x: str(x).replace(\"_x000D_\", \"\").strip())\n",
    "df_stats['Вопрос'] = df_stats['Вопрос'].apply(lambda x: str(x).replace(\"_x000D_\", \"\").strip())\n",
    "df_stats_2['Вопрос'] = df_stats_2['Вопрос'].apply(lambda x: str(x).replace(\"_x000D_\", \"\").strip())\n",
    "\n",
    "df_crm['answer_text'] = df_crm['answer_text'].apply(lambda x: str(x).replace(\"_x000D_\", \"\").strip())\n",
    "df_stats['Ответ'] = df_stats['Ответ'].apply(lambda x: str(x).replace(\"_x000D_\", \"\").strip())\n",
    "df_stats_2['Ответ'] = df_stats_2['Ответ'].apply(lambda x: str(x).replace(\"_x000D_\", \"\").strip())"
   ]
  },
  {
   "cell_type": "code",
   "execution_count": 6,
   "metadata": {},
   "outputs": [],
   "source": [
    "def find_question(question):\n",
    "\n",
    "    row_find = df_crm[df_crm['question'].str.contains(question, regex=False)]\n",
    "\n",
    "    if len(row_find) > 0:\n",
    "        return {'id_message': row_find.iloc[0]['id_message'],\n",
    "                'answer_text': row_find.iloc[0]['answer_text'],\n",
    "                'answer_id': row_find.iloc[0]['new_id_answer'],}\n",
    "\n",
    "    row_find_1 = df_stats[df_stats['Вопрос'].str.contains(question, regex=False)]\n",
    "\n",
    "    if len(row_find_1) > 0:\n",
    "        return {'id_message': 1,\n",
    "                'answer_text': row_find_1.iloc[0]['Ответ'],\n",
    "                'answer_id': row_find_1.iloc[0]['new_id_answer'],}\n",
    "\n",
    "    row_find_2 = df_stats_2[df_stats_2['Вопрос'].str.contains(question, regex=False)]\n",
    "\n",
    "    if len(row_find_2) > 0:\n",
    "        return {'id_message': 1,\n",
    "                'answer_text': row_find_2.iloc[0]['Ответ'],\n",
    "                'answer_id': row_find_2.iloc[0][ 'new_id_answer'],}\n",
    "\n",
    "    return {'id_message': 1,\n",
    "                'answer_text': np.nan,\n",
    "                'answer_id': np.nan,}"
   ]
  },
  {
   "attachments": {},
   "cell_type": "markdown",
   "metadata": {},
   "source": [
    "# Получим неотвеченные сообщения"
   ]
  },
  {
   "cell_type": "code",
   "execution_count": 12,
   "metadata": {},
   "outputs": [
    {
     "name": "stdout",
     "output_type": "stream",
     "text": [
      "База данных создана и успешно подключена к SQLite\n",
      "Соединение с SQLite закрыто\n",
      "5\n",
      "0\n",
      "0\n"
     ]
    }
   ],
   "source": [
    "sqlite_query = f\"\"\"\n",
    "SELECT * FROM crm_questionanswerlog WHERE answer_text is null AND id_message=1\n",
    "\"\"\"\n",
    "\n",
    "count = 0\n",
    "count_row = 0\n",
    "count_id = 0\n",
    "list_answer = []\n",
    "list_not_answer = []\n",
    "try:\n",
    "    sqlite_connection = sqlite3.connect(addr_base)\n",
    "    cursor = sqlite_connection.cursor()\n",
    "    print(\"База данных создана и успешно подключена к SQLite\")\n",
    "\n",
    "    # for i in df_stat_file.index:\n",
    "        \n",
    "        # cursor.execute(sqlite_insert_query, (f'%{df_stat_file.loc[i, \"question\"].replace(\"_x000D_\", \"\").strip()}%',))\n",
    "    cursor.execute(sqlite_query)\n",
    "    records = cursor.fetchall()\n",
    "    count += len(records)\n",
    "    for row in records:\n",
    "        # print('-------------------------------------------')\n",
    "        # print(row[2])\n",
    "        row_return = find_question(row[2])\n",
    "        if not pd.isna(row_return['answer_text']):\n",
    "            row_return['id'] = row[0]\n",
    "            list_answer.append(row_return)\n",
    "            count_row += 1\n",
    "        else:\n",
    "            list_not_answer.append(row)\n",
    "        \n",
    "        \n",
    "    cursor.close()\n",
    "\n",
    "except sqlite3.Error as error:\n",
    "    print(\"Ошибка при подключении к sqlite\", error)\n",
    "finally:\n",
    "    if (sqlite_connection):\n",
    "        sqlite_connection.close()\n",
    "        print(\"Соединение с SQLite закрыто\")\n",
    "        print(count)\n",
    "        print(count_row)\n",
    "        print(count_id)"
   ]
  },
  {
   "cell_type": "code",
   "execution_count": 52,
   "metadata": {},
   "outputs": [
    {
     "data": {
      "text/plain": [
       "[{'id_message': 1,\n",
       "  'answer_text': 'Юлия, эксперт ответил для вас, что есть возможность заказать отчет по всем данным, если не выходит, значит надо через заявку на СТП',\n",
       "  'answer_id': 31162,\n",
       "  'id': 18589},\n",
       " {'id_message': 28317,\n",
       "  'answer_text': 'Возможно в платежных поручениях некорректно заполнены реквизиты. Ситуация по НДФЛ со статусом 13- массовая, проводится работа разработчиками.',\n",
       "  'answer_id': 31264,\n",
       "  'id': 18956},\n",
       " {'id_message': 29673,\n",
       "  'answer_text': 'Состояние обработки ПД уведомления?\\n\\nПоэтому и не формируются\\n\\nНа все платежи с заполненными строками налоговый период и код отчетного года сформированы уведомления. Напишите сумму и дату платежа, проверьте код отчетного периода заполнен в ветке 101.2',\n",
       "  'answer_id': 31818,\n",
       "  'id': 18998}]"
      ]
     },
     "execution_count": 52,
     "metadata": {},
     "output_type": "execute_result"
    }
   ],
   "source": [
    "list_answer[:3]"
   ]
  },
  {
   "cell_type": "code",
   "execution_count": 53,
   "metadata": {},
   "outputs": [],
   "source": [
    "list_answer_back = list_answer[:]"
   ]
  },
  {
   "attachments": {},
   "cell_type": "markdown",
   "metadata": {},
   "source": [
    "# Заполним из того, что нашли в файлах ответы"
   ]
  },
  {
   "cell_type": "code",
   "execution_count": 12,
   "metadata": {},
   "outputs": [
    {
     "name": "stdout",
     "output_type": "stream",
     "text": [
      "База данных создана и успешно подключена к SQLite\n",
      "Соединение с SQLite закрыто\n"
     ]
    }
   ],
   "source": [
    "sqlite_insert_query = f\"\"\"\n",
    "UPDATE crm_questionanswerlog set id_message = ?, answer_id = ?, answer_text = ? where id = ?\n",
    "\"\"\"\n",
    "sqlite_insert_query_2 = f\"\"\"\n",
    "UPDATE crm_questionanswerlog set answer_id = ?, answer_text = ? where id = ?\n",
    "\"\"\"\n",
    "\n",
    "try:\n",
    "    sqlite_connection = sqlite3.connect(addr_base)\n",
    "    cursor = sqlite_connection.cursor()\n",
    "    print(\"База данных создана и успешно подключена к SQLite\")\n",
    "\n",
    "    for i in list_answer:\n",
    "        if int(i['id_message']) > 1:\n",
    "            data = (int(i['id_message']), int(i['answer_id']), i['answer_text'], int(i['id']))\n",
    "            cursor.execute(sqlite_insert_query, data)\n",
    "        else:\n",
    "            data = (int(i['answer_id']), i['answer_text'], int(i['id']))\n",
    "            cursor.execute(sqlite_insert_query_2, data)\n",
    "        sqlite_connection.commit()\n",
    "    cursor.close()\n",
    "\n",
    "except sqlite3.Error as error:\n",
    "    print(\"Ошибка при подключении к sqlite\", error)\n",
    "finally:\n",
    "    if (sqlite_connection):\n",
    "        sqlite_connection.close()\n",
    "        print(\"Соединение с SQLite закрыто\")"
   ]
  },
  {
   "attachments": {},
   "cell_type": "markdown",
   "metadata": {},
   "source": [
    "# Поищем неотвеченные вопросы в ТГ"
   ]
  },
  {
   "cell_type": "code",
   "execution_count": 117,
   "metadata": {},
   "outputs": [],
   "source": [
    "list_messages = \"\"\"21459\n",
    "18948\n",
    "21401\n",
    "21430\n",
    "21439\n",
    "21441\n",
    "21442\n",
    "21434\n",
    "21428\n",
    "24499\n",
    "21585\n",
    "21586\n",
    "24449\n",
    "20577\n",
    "20580\n",
    "20831\n",
    "20174\n",
    "19685\n",
    "18687\n",
    "21411\n",
    "21414\n",
    "21423\n",
    "21406\n",
    "19393\n",
    "19395\n",
    "18944\n",
    "18766\n",
    "21985\n",
    "20646\n",
    "21159\n",
    "21135\n",
    "23210\n",
    "23247\n",
    "23295\n",
    "23324\n",
    "24524\n",
    "18900\n",
    "23355\n",
    "22288\n",
    "22464\n",
    "22254\n",
    "23216\n",
    "21034\n",
    "21161\n",
    "22280\n",
    "18849\n",
    "20698\n",
    "20829\n",
    "18878\n",
    "18908\n",
    "18714\n",
    "18941\n",
    "22253\n",
    "23330\n",
    "23391\n",
    "23257\n",
    "19411\n",
    "18962\n",
    "19011\n",
    "20754\n",
    "22476\n",
    "22029\n",
    "21137\n",
    "21101\n",
    "21419\n",
    "21164\n",
    "23289\n",
    "19663\n",
    "19604\n",
    "23244\n",
    "22458\n",
    "18809\n",
    "18814\n",
    "19014\n",
    "18853\"\"\".split('\\n')"
   ]
  },
  {
   "cell_type": "code",
   "execution_count": 118,
   "metadata": {},
   "outputs": [],
   "source": [
    "list_not_answer = []\n",
    "\n",
    "for message in list_messages:\n",
    "\n",
    "    sqlite_query = f\"\"\"\n",
    "    SELECT question, answer_text, id FROM crm_questionanswerlog WHERE id={message}\n",
    "    \"\"\"\n",
    "\n",
    "    count = 0\n",
    "    count_row = 0\n",
    "    count_id = 0\n",
    "    \n",
    "    try:\n",
    "        sqlite_connection = sqlite3.connect(addr_base)\n",
    "        cursor = sqlite_connection.cursor()\n",
    "        # print(\"База данных создана и успешно подключена к SQLite\")\n",
    "\n",
    "        # for i in df_stat_file.index:\n",
    "            \n",
    "            # cursor.execute(sqlite_insert_query, (f'%{df_stat_file.loc[i, \"question\"].replace(\"_x000D_\", \"\").strip()}%',))\n",
    "        cursor.execute(sqlite_query)\n",
    "        records = cursor.fetchall()\n",
    "        if len(records) == 1:\n",
    "            list_not_answer.append((message, records[0][0]))            \n",
    "            \n",
    "        cursor.close()\n",
    "\n",
    "    except sqlite3.Error as error:\n",
    "        print(\"Ошибка при подключении к sqlite\", error)\n",
    "    finally:\n",
    "        if (sqlite_connection):\n",
    "            sqlite_connection.close()"
   ]
  },
  {
   "cell_type": "code",
   "execution_count": 119,
   "metadata": {},
   "outputs": [
    {
     "data": {
      "text/plain": [
       "75"
      ]
     },
     "execution_count": 119,
     "metadata": {},
     "output_type": "execute_result"
    }
   ],
   "source": [
    "len(list_not_answer)"
   ]
  },
  {
   "cell_type": "code",
   "execution_count": 120,
   "metadata": {},
   "outputs": [
    {
     "name": "stderr",
     "output_type": "stream",
     "text": [
      "[C:/Server/data/htdocs/fnscrm/programm/mysessionfns] Waiting for 9 seconds before continuing (required by \"users.GetFullUser\")\n",
      "[C:/Server/data/htdocs/fnscrm/programm/mysessionfns] Waiting for 8 seconds before continuing (required by \"users.GetFullUser\")\n",
      "[C:/Server/data/htdocs/fnscrm/programm/mysessionfns] Waiting for 8 seconds before continuing (required by \"users.GetFullUser\")\n",
      "[C:/Server/data/htdocs/fnscrm/programm/mysessionfns] Waiting for 9 seconds before continuing (required by \"users.GetFullUser\")\n",
      "[C:/Server/data/htdocs/fnscrm/programm/mysessionfns] Waiting for 9 seconds before continuing (required by \"users.GetFullUser\")\n",
      "[C:/Server/data/htdocs/fnscrm/programm/mysessionfns] Waiting for 7 seconds before continuing (required by \"users.GetFullUser\")\n",
      "[C:/Server/data/htdocs/fnscrm/programm/mysessionfns] Waiting for 8 seconds before continuing (required by \"users.GetFullUser\")\n",
      "[C:/Server/data/htdocs/fnscrm/programm/mysessionfns] Waiting for 8 seconds before continuing (required by \"users.GetFullUser\")\n",
      "[C:/Server/data/htdocs/fnscrm/programm/mysessionfns] Waiting for 7 seconds before continuing (required by \"users.GetFullUser\")\n",
      "[C:/Server/data/htdocs/fnscrm/programm/mysessionfns] Waiting for 8 seconds before continuing (required by \"users.GetFullUser\")\n",
      "[C:/Server/data/htdocs/fnscrm/programm/mysessionfns] Waiting for 8 seconds before continuing (required by \"users.GetFullUser\")\n",
      "[C:/Server/data/htdocs/fnscrm/programm/mysessionfns] Waiting for 8 seconds before continuing (required by \"users.GetFullUser\")\n",
      "[C:/Server/data/htdocs/fnscrm/programm/mysessionfns] Waiting for 8 seconds before continuing (required by \"users.GetFullUser\")\n",
      "[C:/Server/data/htdocs/fnscrm/programm/mysessionfns] Waiting for 7 seconds before continuing (required by \"users.GetFullUser\")\n",
      "[C:/Server/data/htdocs/fnscrm/programm/mysessionfns] Waiting for 9 seconds before continuing (required by \"users.GetFullUser\")\n",
      "[C:/Server/data/htdocs/fnscrm/programm/mysessionfns] Waiting for 7 seconds before continuing (required by \"users.GetFullUser\")\n",
      "[C:/Server/data/htdocs/fnscrm/programm/mysessionfns] Waiting for 8 seconds before continuing (required by \"users.GetFullUser\")\n",
      "[C:/Server/data/htdocs/fnscrm/programm/mysessionfns] Waiting for 8 seconds before continuing (required by \"users.GetFullUser\")\n"
     ]
    },
    {
     "name": "stdout",
     "output_type": "stream",
     "text": [
      "73\n",
      "2\n"
     ]
    },
    {
     "name": "stderr",
     "output_type": "stream",
     "text": [
      "Task exception was never retrieved\n",
      "future: <Task finished name='Task-13668' coro=<Client.handle_updates() done, defined at C:\\Python\\Python39\\lib\\site-packages\\pyrogram\\client.py:531> exception=OperationalError('database is locked')>\n",
      "Traceback (most recent call last):\n",
      "  File \"C:\\Python\\Python39\\lib\\site-packages\\pyrogram\\client.py\", line 563, in handle_updates\n",
      "    diff = await self.invoke(\n",
      "  File \"C:\\Python\\Python39\\lib\\site-packages\\pyrogram\\methods\\advanced\\invoke.py\", line 86, in invoke\n",
      "    await self.fetch_peers(getattr(r, \"users\", []))\n",
      "  File \"C:\\Python\\Python39\\lib\\site-packages\\pyrogram\\client.py\", line 527, in fetch_peers\n",
      "    await self.storage.update_peers(parsed_peers)\n",
      "  File \"C:\\Python\\Python39\\lib\\site-packages\\pyrogram\\storage\\sqlite_storage.py\", line 129, in update_peers\n",
      "    self.conn.executemany(\n",
      "sqlite3.OperationalError: database is locked\n"
     ]
    }
   ],
   "source": [
    "list_not_answer_new = []\n",
    "list_not_answer_not_find = []\n",
    "for row_list in list_not_answer:\n",
    "     \n",
    "\n",
    "     l = [{'question': str(row_list[1]).replace('_x000D_', '').strip()[:100], 'answer_text': ''}]\n",
    "     result = await my_app_telegram_prog.search_message(l)\n",
    "\n",
    "     if result != None:\n",
    "          result['id'] = row_list[0]\n",
    "          list_not_answer_new.append(result)\n",
    "     else:\n",
    "          list_not_answer_not_find.append(row_list)\n",
    "\n",
    "print(len(list_not_answer_new))\n",
    "print(len(list_not_answer_not_find))"
   ]
  },
  {
   "cell_type": "code",
   "execution_count": 122,
   "metadata": {},
   "outputs": [
    {
     "name": "stdout",
     "output_type": "stream",
     "text": [
      "База данных создана и успешно подключена к SQLite\n",
      "Соединение с SQLite закрыто\n"
     ]
    },
    {
     "name": "stderr",
     "output_type": "stream",
     "text": [
      "Task exception was never retrieved\n",
      "future: <Task finished name='Task-14172' coro=<Client.handle_updates() done, defined at C:\\Python\\Python39\\lib\\site-packages\\pyrogram\\client.py:531> exception=OperationalError('database is locked')>\n",
      "Traceback (most recent call last):\n",
      "  File \"C:\\Python\\Python39\\lib\\site-packages\\pyrogram\\client.py\", line 563, in handle_updates\n",
      "    diff = await self.invoke(\n",
      "  File \"C:\\Python\\Python39\\lib\\site-packages\\pyrogram\\methods\\advanced\\invoke.py\", line 86, in invoke\n",
      "    await self.fetch_peers(getattr(r, \"users\", []))\n",
      "  File \"C:\\Python\\Python39\\lib\\site-packages\\pyrogram\\client.py\", line 527, in fetch_peers\n",
      "    await self.storage.update_peers(parsed_peers)\n",
      "  File \"C:\\Python\\Python39\\lib\\site-packages\\pyrogram\\storage\\sqlite_storage.py\", line 129, in update_peers\n",
      "    self.conn.executemany(\n",
      "sqlite3.OperationalError: database is locked\n"
     ]
    }
   ],
   "source": [
    "sqlite_insert_query = f\"\"\"\n",
    "UPDATE crm_questionanswerlog set id_message = ? where id = ?\n",
    "\"\"\"\n",
    "\n",
    "try:\n",
    "    sqlite_connection = sqlite3.connect(addr_base)\n",
    "    cursor = sqlite_connection.cursor()\n",
    "    print(\"База данных создана и успешно подключена к SQLite\")\n",
    "\n",
    "    for i in list_not_answer_new:\n",
    "        \n",
    "        data = (int(i['id_message']), int(i['id']))\n",
    "        cursor.execute(sqlite_insert_query, data)\n",
    "        sqlite_connection.commit()\n",
    "    cursor.close()\n",
    "\n",
    "except sqlite3.Error as error:\n",
    "    print(\"Ошибка при подключении к sqlite\", error)\n",
    "finally:\n",
    "    if (sqlite_connection):\n",
    "        sqlite_connection.close()\n",
    "        print(\"Соединение с SQLite закрыто\")"
   ]
  },
  {
   "attachments": {},
   "cell_type": "markdown",
   "metadata": {},
   "source": [
    "# Фиксим ошибки"
   ]
  },
  {
   "cell_type": "code",
   "execution_count": 7,
   "metadata": {},
   "outputs": [
    {
     "name": "stdout",
     "output_type": "stream",
     "text": [
      "База данных создана и успешно подключена к SQLite\n",
      "Соединение с SQLite закрыто\n",
      "25\n",
      "0\n",
      "0\n"
     ]
    }
   ],
   "source": [
    "sqlite_query = f\"\"\"\n",
    "SELECT * FROM crm_questionanswerlog WHERE not answer_id is null\n",
    "\"\"\"\n",
    "\n",
    "count = 0\n",
    "count_row = 0\n",
    "count_id = 0\n",
    "list_answer = []\n",
    "list_not_answer = []\n",
    "try:\n",
    "    sqlite_connection = sqlite3.connect(addr_base)\n",
    "    cursor = sqlite_connection.cursor()\n",
    "    print(\"База данных создана и успешно подключена к SQLite\")\n",
    "\n",
    "    # for i in df_stat_file.index:\n",
    "        \n",
    "        # cursor.execute(sqlite_insert_query, (f'%{df_stat_file.loc[i, \"question\"].replace(\"_x000D_\", \"\").strip()}%',))\n",
    "    cursor.execute(sqlite_query)\n",
    "    records = cursor.fetchall()\n",
    "    count += len(records)\n",
    "    for row in records:\n",
    "        # print('-------------------------------------------')\n",
    "        # print(row[2])\n",
    "        # row_return = find_question(row[2])\n",
    "        # if not pd.isna(row_return['answer_text']):\n",
    "        #     row_return['id'] = row[0]\n",
    "        #     list_answer.append(row_return)\n",
    "        #     count_row += 1\n",
    "        # else:\n",
    "            list_not_answer.append(row)\n",
    "        \n",
    "        \n",
    "    cursor.close()\n",
    "\n",
    "except sqlite3.Error as error:\n",
    "    print(\"Ошибка при подключении к sqlite\", error)\n",
    "finally:\n",
    "    if (sqlite_connection):\n",
    "        sqlite_connection.close()\n",
    "        print(\"Соединение с SQLite закрыто\")\n",
    "        print(count)\n",
    "        print(count_row)\n",
    "        print(count_id)"
   ]
  },
  {
   "cell_type": "code",
   "execution_count": 9,
   "metadata": {},
   "outputs": [
    {
     "data": {
      "text/plain": [
       "(18589,\n",
       " 1,\n",
       " '4254 Шагиахметова Юлия Юрьевна тел 14-18.\\nЗдравствуйте, у нас не получается выгрузить ЕНП в Excel (или просто на экран) по налогоплательщику.\\nТам 46 тыс записей.\\nПрипопытке выгрузить \"выходит\" ошибка или программа закрывается. \\nХотим посмотреть платёж и что он зачел.\\nИНН 4716016979.\\nСпасибо.',\n",
       " None,\n",
       " '2023-05-10 09:46:00',\n",
       " 31162,\n",
       " 'Юлия, эксперт ответил для вас, что есть возможность заказать отчет по всем данным, если не выходит, значит надо через заявку на СТП',\n",
       " 0,\n",
       " 21,\n",
       " None,\n",
       " None,\n",
       " None,\n",
       " 0,\n",
       " 0,\n",
       " 0,\n",
       " None,\n",
       " None,\n",
       " 0,\n",
       " 0,\n",
       " None,\n",
       " 1,\n",
       " None)"
      ]
     },
     "execution_count": 9,
     "metadata": {},
     "output_type": "execute_result"
    }
   ],
   "source": [
    "for i in list_not_answer"
   ]
  },
  {
   "cell_type": "code",
   "execution_count": 15,
   "metadata": {},
   "outputs": [
    {
     "name": "stdout",
     "output_type": "stream",
     "text": [
      "База данных создана и успешно подключена к SQLite\n",
      "Соединение с SQLite закрыто\n"
     ]
    }
   ],
   "source": [
    "sqlite_insert_query = f\"\"\"\n",
    "UPDATE crm_questionanswerlog set answer_id = ?, id_message_answer = ? where id = ?\n",
    "\"\"\"\n",
    "\n",
    "try:\n",
    "    sqlite_connection = sqlite3.connect(addr_base)\n",
    "    cursor = sqlite_connection.cursor()\n",
    "    print(\"База данных создана и успешно подключена к SQLite\")\n",
    "\n",
    "    for i in list_not_answer:\n",
    "        data = (None, int(i[5]), int(i[0]))\n",
    "        cursor.execute(sqlite_insert_query, data)\n",
    "        sqlite_connection.commit()\n",
    "    cursor.close()\n",
    "\n",
    "except sqlite3.Error as error:\n",
    "    print(\"Ошибка при подключении к sqlite\", error)\n",
    "finally:\n",
    "    if (sqlite_connection):\n",
    "        sqlite_connection.close()\n",
    "        print(\"Соединение с SQLite закрыто\")"
   ]
  },
  {
   "attachments": {},
   "cell_type": "markdown",
   "metadata": {},
   "source": [
    "# Проставим неактивных пользователей"
   ]
  },
  {
   "cell_type": "code",
   "execution_count": 17,
   "metadata": {},
   "outputs": [
    {
     "name": "stdout",
     "output_type": "stream",
     "text": [
      "База данных создана и успешно подключена к SQLite\n",
      "Соединение с SQLite закрыто\n"
     ]
    }
   ],
   "source": [
    "sqlite_query = f\"\"\"\n",
    "SELECT users.id, users.last_name \n",
    "FROM auth_user as users\n",
    "LEFT JOIN crm_userforpost as userforpost\n",
    "ON users.id = userforpost.user_id\n",
    "WHERE userforpost.user_id is null\n",
    "\"\"\"\n",
    "\n",
    "count = 0\n",
    "count_row = 0\n",
    "count_id = 0\n",
    "list_answer = []\n",
    "list_users = []\n",
    "try:\n",
    "    sqlite_connection = sqlite3.connect(addr_base)\n",
    "    cursor = sqlite_connection.cursor()\n",
    "    print(\"База данных создана и успешно подключена к SQLite\")\n",
    "\n",
    "    # for i in df_stat_file.index:\n",
    "        \n",
    "        # cursor.execute(sqlite_insert_query, (f'%{df_stat_file.loc[i, \"question\"].replace(\"_x000D_\", \"\").strip()}%',))\n",
    "    cursor.execute(sqlite_query)\n",
    "    records = cursor.fetchall()\n",
    "    count += len(records)\n",
    "    for row in records:\n",
    "        # print('-------------------------------------------')\n",
    "        # print(row[2])\n",
    "        # row_return = find_question(row[2])\n",
    "        # if not pd.isna(row_return['answer_text']):\n",
    "        #     row_return['id'] = row[0]\n",
    "        #     list_answer.append(row_return)\n",
    "        #     count_row += 1\n",
    "        # else:\n",
    "            list_users.append(row)\n",
    "        \n",
    "        \n",
    "    cursor.close()\n",
    "\n",
    "except sqlite3.Error as error:\n",
    "    print(\"Ошибка при подключении к sqlite\", error)\n",
    "finally:\n",
    "    if (sqlite_connection):\n",
    "        sqlite_connection.close()\n",
    "        print(\"Соединение с SQLite закрыто\")"
   ]
  },
  {
   "cell_type": "code",
   "execution_count": 19,
   "metadata": {},
   "outputs": [
    {
     "data": {
      "text/plain": [
       "[15, 26, 29, 31, 32, 34, 39, 43, 72, 84, 88, 89, 95, 96]"
      ]
     },
     "execution_count": 19,
     "metadata": {},
     "output_type": "execute_result"
    }
   ],
   "source": [
    "l = []\n",
    "for i in list_users:\n",
    "    l.append(i[0])\n",
    "l"
   ]
  },
  {
   "cell_type": "code",
   "execution_count": 21,
   "metadata": {},
   "outputs": [
    {
     "name": "stdout",
     "output_type": "stream",
     "text": [
      "База данных создана и успешно подключена к SQLite\n",
      "Соединение с SQLite закрыто\n"
     ]
    }
   ],
   "source": [
    "sqlite_insert_query = f\"\"\"\n",
    "DELETE FROM auth_user where id = ?\n",
    "\"\"\"\n",
    "\n",
    "try:\n",
    "    sqlite_connection = sqlite3.connect(addr_base)\n",
    "    cursor = sqlite_connection.cursor()\n",
    "    print(\"База данных создана и успешно подключена к SQLite\")\n",
    "\n",
    "    for i in list_users:\n",
    "        data = (int(i[0]),)\n",
    "        cursor.execute(sqlite_insert_query, data)\n",
    "        sqlite_connection.commit()\n",
    "    cursor.close()\n",
    "\n",
    "except sqlite3.Error as error:\n",
    "    print(\"Ошибка при подключении к sqlite\", error)\n",
    "finally:\n",
    "    if (sqlite_connection):\n",
    "        sqlite_connection.close()\n",
    "        print(\"Соединение с SQLite закрыто\")"
   ]
  },
  {
   "cell_type": "code",
   "execution_count": 25,
   "metadata": {},
   "outputs": [
    {
     "data": {
      "text/plain": [
       "[1, 2, 3]"
      ]
     },
     "execution_count": 25,
     "metadata": {},
     "output_type": "execute_result"
    }
   ],
   "source": [
    "l1 = [1,2,3]\n",
    "l1[:4]"
   ]
  },
  {
   "attachments": {},
   "cell_type": "markdown",
   "metadata": {},
   "source": [
    "# Пройдемся по базе вопросов и удалим из них, вопросы, которые на самом деле ответы от модераторов"
   ]
  },
  {
   "cell_type": "code",
   "execution_count": 11,
   "metadata": {},
   "outputs": [
    {
     "name": "stdout",
     "output_type": "stream",
     "text": [
      "База данных создана и успешно подключена к SQLite\n",
      "Соединение с SQLite закрыто\n",
      "559\n"
     ]
    }
   ],
   "source": [
    "sqlite_query = f\"\"\"\n",
    "SELECT * FROM crm_questionanswerlog WHERE answer_text is null and id_message > 1 and not it_test and datetime_question >= '2023-04-17'\n",
    "\"\"\"\n",
    "\n",
    "count = 0\n",
    "count_row = 0\n",
    "count_id = 0\n",
    "list_answer = []\n",
    "list_not_answer = []\n",
    "try:\n",
    "    sqlite_connection = sqlite3.connect(addr_base)\n",
    "    cursor = sqlite_connection.cursor()\n",
    "    print(\"База данных создана и успешно подключена к SQLite\")\n",
    "\n",
    "    # for i in df_stat_file.index:\n",
    "        \n",
    "        # cursor.execute(sqlite_insert_query, (f'%{df_stat_file.loc[i, \"question\"].replace(\"_x000D_\", \"\").strip()}%',))\n",
    "    cursor.execute(sqlite_query)\n",
    "    records = cursor.fetchall()\n",
    "    count += len(records)\n",
    "    for row in records:\n",
    "        list_not_answer.append(row)\n",
    "        \n",
    "        \n",
    "    cursor.close()\n",
    "\n",
    "except sqlite3.Error as error:\n",
    "    print(\"Ошибка при подключении к sqlite\", error)\n",
    "finally:\n",
    "    if (sqlite_connection):\n",
    "        sqlite_connection.close()\n",
    "        print(\"Соединение с SQLite закрыто\")\n",
    "        print(len(list_not_answer))\n"
   ]
  },
  {
   "cell_type": "code",
   "execution_count": 12,
   "metadata": {},
   "outputs": [],
   "source": [
    "list_user_for_post = \"\"\"A_S_fns\n",
    "AnastasiyaYug\n",
    "BabaevaTA\n",
    "ChAA_UNI\n",
    "Ctyff\n",
    "Dmitry57395\n",
    "Dreadnoughtt\n",
    "EKudriashova\n",
    "EkaterinaZhigunova99\n",
    "FedorNo\n",
    "Grigoreva0109\n",
    "KaterinaKorogodina\n",
    "KaterinaZerkal\n",
    "Knyazev_v\n",
    "Korolenko_E\n",
    "KriEkaterina\n",
    "Kurbatov_Pavel\n",
    "Lastik_Lastikov\n",
    "Lemtyuzhnikova\n",
    "Lilik_13\n",
    "Lius_Anna\n",
    "Marat_A_S\n",
    "MarinaAleksandrovnaL\n",
    "MariyaV_16\n",
    "Marysia2089\n",
    "MsKarina93\n",
    "Murrrrr7\n",
    "NVKan\n",
    "NadinAnapreenko\n",
    "Natali_Moscou\n",
    "OV_UNI\n",
    "Oksana_BV\n",
    "OlgaKulik9967\n",
    "Olga_Khvostova\n",
    "Olga_Stennikova\n",
    "RafAlina_Galeeva\n",
    "Rus_Leon\n",
    "RznShadow\n",
    "SRM9966\n",
    "SS_UNI\n",
    "Sergey_Volkhonin\n",
    "Sorceress1861\n",
    "SvSS2605\n",
    "Sveta_GS02\n",
    "TatyanaGolyakova\n",
    "VladislavSedoi\n",
    "ZagoruykoNI\n",
    "ZhannaVF\n",
    "alexey_official1\n",
    "andreyudinn\n",
    "const75\n",
    "denis_korotaev_83\n",
    "dmu50\n",
    "drzo1dberg\n",
    "feldkuratOK\n",
    "kiki111926\n",
    "marysyaa_sergeevna\n",
    "miasnaiapodlivka\n",
    "mikhailova_nv\n",
    "sslanna\n",
    "stepanov_alexand\n",
    "ushi_serba\"\"\".split('\\n')"
   ]
  },
  {
   "cell_type": "code",
   "execution_count": 13,
   "metadata": {},
   "outputs": [
    {
     "name": "stdout",
     "output_type": "stream",
     "text": [
      "0\n"
     ]
    },
    {
     "name": "stderr",
     "output_type": "stream",
     "text": [
      "[C:/Server/data/htdocs/fnscrm/programm/mysessionfns] Waiting for 9 seconds before continuing (required by \"users.GetFullUser\")\n",
      "[C:/Server/data/htdocs/fnscrm/programm/mysessionfns] Waiting for 8 seconds before continuing (required by \"users.GetFullUser\")\n"
     ]
    },
    {
     "name": "stdout",
     "output_type": "stream",
     "text": [
      "10\n"
     ]
    },
    {
     "name": "stderr",
     "output_type": "stream",
     "text": [
      "[C:/Server/data/htdocs/fnscrm/programm/mysessionfns] Waiting for 9 seconds before continuing (required by \"users.GetFullUser\")\n",
      "[C:/Server/data/htdocs/fnscrm/programm/mysessionfns] Waiting for 8 seconds before continuing (required by \"users.GetFullUser\")\n",
      "[C:/Server/data/htdocs/fnscrm/programm/mysessionfns] Waiting for 9 seconds before continuing (required by \"users.GetFullUser\")\n"
     ]
    },
    {
     "name": "stdout",
     "output_type": "stream",
     "text": [
      "20\n"
     ]
    },
    {
     "name": "stderr",
     "output_type": "stream",
     "text": [
      "[C:/Server/data/htdocs/fnscrm/programm/mysessionfns] Waiting for 9 seconds before continuing (required by \"users.GetFullUser\")\n",
      "[C:/Server/data/htdocs/fnscrm/programm/mysessionfns] Waiting for 8 seconds before continuing (required by \"users.GetFullUser\")\n"
     ]
    },
    {
     "name": "stdout",
     "output_type": "stream",
     "text": [
      "30\n"
     ]
    },
    {
     "name": "stderr",
     "output_type": "stream",
     "text": [
      "[C:/Server/data/htdocs/fnscrm/programm/mysessionfns] Waiting for 9 seconds before continuing (required by \"users.GetFullUser\")\n",
      "[C:/Server/data/htdocs/fnscrm/programm/mysessionfns] Waiting for 9 seconds before continuing (required by \"users.GetFullUser\")\n",
      "[C:/Server/data/htdocs/fnscrm/programm/mysessionfns] Waiting for 7 seconds before continuing (required by \"users.GetFullUser\")\n"
     ]
    },
    {
     "name": "stdout",
     "output_type": "stream",
     "text": [
      "40\n"
     ]
    },
    {
     "name": "stderr",
     "output_type": "stream",
     "text": [
      "[C:/Server/data/htdocs/fnscrm/programm/mysessionfns] Waiting for 9 seconds before continuing (required by \"users.GetFullUser\")\n",
      "[C:/Server/data/htdocs/fnscrm/programm/mysessionfns] Waiting for 9 seconds before continuing (required by \"users.GetFullUser\")\n"
     ]
    },
    {
     "name": "stdout",
     "output_type": "stream",
     "text": [
      "50\n"
     ]
    },
    {
     "name": "stderr",
     "output_type": "stream",
     "text": [
      "[C:/Server/data/htdocs/fnscrm/programm/mysessionfns] Waiting for 7 seconds before continuing (required by \"users.GetFullUser\")\n",
      "[C:/Server/data/htdocs/fnscrm/programm/mysessionfns] Waiting for 8 seconds before continuing (required by \"users.GetFullUser\")\n",
      "[C:/Server/data/htdocs/fnscrm/programm/mysessionfns] Waiting for 9 seconds before continuing (required by \"users.GetFullUser\")\n"
     ]
    },
    {
     "name": "stdout",
     "output_type": "stream",
     "text": [
      "60\n"
     ]
    },
    {
     "name": "stderr",
     "output_type": "stream",
     "text": [
      "[C:/Server/data/htdocs/fnscrm/programm/mysessionfns] Waiting for 8 seconds before continuing (required by \"users.GetFullUser\")\n",
      "[C:/Server/data/htdocs/fnscrm/programm/mysessionfns] Waiting for 8 seconds before continuing (required by \"users.GetFullUser\")\n"
     ]
    },
    {
     "name": "stdout",
     "output_type": "stream",
     "text": [
      "70\n"
     ]
    },
    {
     "name": "stderr",
     "output_type": "stream",
     "text": [
      "[C:/Server/data/htdocs/fnscrm/programm/mysessionfns] Waiting for 9 seconds before continuing (required by \"users.GetFullUser\")\n",
      "[C:/Server/data/htdocs/fnscrm/programm/mysessionfns] Waiting for 6 seconds before continuing (required by \"users.GetFullUser\")\n",
      "[C:/Server/data/htdocs/fnscrm/programm/mysessionfns] Waiting for 8 seconds before continuing (required by \"users.GetFullUser\")\n"
     ]
    },
    {
     "name": "stdout",
     "output_type": "stream",
     "text": [
      "80\n"
     ]
    },
    {
     "name": "stderr",
     "output_type": "stream",
     "text": [
      "[C:/Server/data/htdocs/fnscrm/programm/mysessionfns] Waiting for 8 seconds before continuing (required by \"users.GetFullUser\")\n",
      "[C:/Server/data/htdocs/fnscrm/programm/mysessionfns] Waiting for 8 seconds before continuing (required by \"users.GetFullUser\")\n"
     ]
    },
    {
     "name": "stdout",
     "output_type": "stream",
     "text": [
      "90\n"
     ]
    },
    {
     "name": "stderr",
     "output_type": "stream",
     "text": [
      "[C:/Server/data/htdocs/fnscrm/programm/mysessionfns] Waiting for 9 seconds before continuing (required by \"users.GetFullUser\")\n",
      "[C:/Server/data/htdocs/fnscrm/programm/mysessionfns] Waiting for 9 seconds before continuing (required by \"users.GetFullUser\")\n",
      "[C:/Server/data/htdocs/fnscrm/programm/mysessionfns] Waiting for 8 seconds before continuing (required by \"users.GetFullUser\")\n"
     ]
    },
    {
     "name": "stdout",
     "output_type": "stream",
     "text": [
      "100\n"
     ]
    },
    {
     "name": "stderr",
     "output_type": "stream",
     "text": [
      "[C:/Server/data/htdocs/fnscrm/programm/mysessionfns] Waiting for 9 seconds before continuing (required by \"users.GetFullUser\")\n",
      "[C:/Server/data/htdocs/fnscrm/programm/mysessionfns] Waiting for 8 seconds before continuing (required by \"users.GetFullUser\")\n"
     ]
    },
    {
     "name": "stdout",
     "output_type": "stream",
     "text": [
      "110\n"
     ]
    },
    {
     "name": "stderr",
     "output_type": "stream",
     "text": [
      "[C:/Server/data/htdocs/fnscrm/programm/mysessionfns] Waiting for 8 seconds before continuing (required by \"users.GetFullUser\")\n",
      "[C:/Server/data/htdocs/fnscrm/programm/mysessionfns] Waiting for 7 seconds before continuing (required by \"users.GetFullUser\")\n",
      "[C:/Server/data/htdocs/fnscrm/programm/mysessionfns] Waiting for 8 seconds before continuing (required by \"users.GetFullUser\")\n"
     ]
    },
    {
     "name": "stdout",
     "output_type": "stream",
     "text": [
      "120\n"
     ]
    },
    {
     "name": "stderr",
     "output_type": "stream",
     "text": [
      "[C:/Server/data/htdocs/fnscrm/programm/mysessionfns] Waiting for 6 seconds before continuing (required by \"users.GetFullUser\")\n",
      "[C:/Server/data/htdocs/fnscrm/programm/mysessionfns] Waiting for 9 seconds before continuing (required by \"users.GetFullUser\")\n"
     ]
    },
    {
     "name": "stdout",
     "output_type": "stream",
     "text": [
      "130\n"
     ]
    },
    {
     "name": "stderr",
     "output_type": "stream",
     "text": [
      "[C:/Server/data/htdocs/fnscrm/programm/mysessionfns] Waiting for 8 seconds before continuing (required by \"users.GetFullUser\")\n",
      "[C:/Server/data/htdocs/fnscrm/programm/mysessionfns] Waiting for 7 seconds before continuing (required by \"users.GetFullUser\")\n",
      "[C:/Server/data/htdocs/fnscrm/programm/mysessionfns] Waiting for 8 seconds before continuing (required by \"users.GetFullUser\")\n"
     ]
    },
    {
     "name": "stdout",
     "output_type": "stream",
     "text": [
      "140\n"
     ]
    },
    {
     "name": "stderr",
     "output_type": "stream",
     "text": [
      "[C:/Server/data/htdocs/fnscrm/programm/mysessionfns] Waiting for 8 seconds before continuing (required by \"users.GetFullUser\")\n",
      "[C:/Server/data/htdocs/fnscrm/programm/mysessionfns] Waiting for 8 seconds before continuing (required by \"users.GetFullUser\")\n"
     ]
    },
    {
     "name": "stdout",
     "output_type": "stream",
     "text": [
      "150\n"
     ]
    },
    {
     "name": "stderr",
     "output_type": "stream",
     "text": [
      "[C:/Server/data/htdocs/fnscrm/programm/mysessionfns] Waiting for 9 seconds before continuing (required by \"users.GetFullUser\")\n",
      "[C:/Server/data/htdocs/fnscrm/programm/mysessionfns] Waiting for 8 seconds before continuing (required by \"users.GetFullUser\")\n",
      "[C:/Server/data/htdocs/fnscrm/programm/mysessionfns] Waiting for 8 seconds before continuing (required by \"users.GetFullUser\")\n"
     ]
    },
    {
     "name": "stdout",
     "output_type": "stream",
     "text": [
      "160\n"
     ]
    },
    {
     "name": "stderr",
     "output_type": "stream",
     "text": [
      "[C:/Server/data/htdocs/fnscrm/programm/mysessionfns] Waiting for 8 seconds before continuing (required by \"users.GetFullUser\")\n",
      "[C:/Server/data/htdocs/fnscrm/programm/mysessionfns] Waiting for 8 seconds before continuing (required by \"users.GetFullUser\")\n"
     ]
    },
    {
     "name": "stdout",
     "output_type": "stream",
     "text": [
      "170\n"
     ]
    },
    {
     "name": "stderr",
     "output_type": "stream",
     "text": [
      "[C:/Server/data/htdocs/fnscrm/programm/mysessionfns] Waiting for 9 seconds before continuing (required by \"users.GetFullUser\")\n",
      "[C:/Server/data/htdocs/fnscrm/programm/mysessionfns] Waiting for 9 seconds before continuing (required by \"users.GetFullUser\")\n",
      "[C:/Server/data/htdocs/fnscrm/programm/mysessionfns] Waiting for 8 seconds before continuing (required by \"users.GetFullUser\")\n"
     ]
    },
    {
     "name": "stdout",
     "output_type": "stream",
     "text": [
      "180\n"
     ]
    },
    {
     "name": "stderr",
     "output_type": "stream",
     "text": [
      "[C:/Server/data/htdocs/fnscrm/programm/mysessionfns] Waiting for 8 seconds before continuing (required by \"users.GetFullUser\")\n",
      "[C:/Server/data/htdocs/fnscrm/programm/mysessionfns] Waiting for 8 seconds before continuing (required by \"users.GetFullUser\")\n"
     ]
    },
    {
     "name": "stdout",
     "output_type": "stream",
     "text": [
      "190\n"
     ]
    },
    {
     "name": "stderr",
     "output_type": "stream",
     "text": [
      "[C:/Server/data/htdocs/fnscrm/programm/mysessionfns] Waiting for 9 seconds before continuing (required by \"users.GetFullUser\")\n",
      "[C:/Server/data/htdocs/fnscrm/programm/mysessionfns] Waiting for 7 seconds before continuing (required by \"users.GetFullUser\")\n",
      "[C:/Server/data/htdocs/fnscrm/programm/mysessionfns] Waiting for 8 seconds before continuing (required by \"users.GetFullUser\")\n"
     ]
    },
    {
     "name": "stdout",
     "output_type": "stream",
     "text": [
      "200\n"
     ]
    },
    {
     "name": "stderr",
     "output_type": "stream",
     "text": [
      "[C:/Server/data/htdocs/fnscrm/programm/mysessionfns] Waiting for 6 seconds before continuing (required by \"users.GetFullUser\")\n",
      "[C:/Server/data/htdocs/fnscrm/programm/mysessionfns] Waiting for 8 seconds before continuing (required by \"users.GetFullUser\")\n"
     ]
    },
    {
     "name": "stdout",
     "output_type": "stream",
     "text": [
      "210\n"
     ]
    },
    {
     "name": "stderr",
     "output_type": "stream",
     "text": [
      "[C:/Server/data/htdocs/fnscrm/programm/mysessionfns] Waiting for 7 seconds before continuing (required by \"users.GetFullUser\")\n",
      "[C:/Server/data/htdocs/fnscrm/programm/mysessionfns] Waiting for 5 seconds before continuing (required by \"users.GetFullUser\")\n",
      "[C:/Server/data/htdocs/fnscrm/programm/mysessionfns] Waiting for 8 seconds before continuing (required by \"users.GetFullUser\")\n"
     ]
    },
    {
     "name": "stdout",
     "output_type": "stream",
     "text": [
      "220\n"
     ]
    },
    {
     "name": "stderr",
     "output_type": "stream",
     "text": [
      "[C:/Server/data/htdocs/fnscrm/programm/mysessionfns] Waiting for 8 seconds before continuing (required by \"users.GetFullUser\")\n",
      "[C:/Server/data/htdocs/fnscrm/programm/mysessionfns] Waiting for 8 seconds before continuing (required by \"users.GetFullUser\")\n"
     ]
    },
    {
     "name": "stdout",
     "output_type": "stream",
     "text": [
      "230\n"
     ]
    },
    {
     "name": "stderr",
     "output_type": "stream",
     "text": [
      "[C:/Server/data/htdocs/fnscrm/programm/mysessionfns] Waiting for 9 seconds before continuing (required by \"users.GetFullUser\")\n",
      "[C:/Server/data/htdocs/fnscrm/programm/mysessionfns] Waiting for 8 seconds before continuing (required by \"users.GetFullUser\")\n",
      "[C:/Server/data/htdocs/fnscrm/programm/mysessionfns] Waiting for 8 seconds before continuing (required by \"users.GetFullUser\")\n"
     ]
    },
    {
     "name": "stdout",
     "output_type": "stream",
     "text": [
      "240\n"
     ]
    },
    {
     "name": "stderr",
     "output_type": "stream",
     "text": [
      "[C:/Server/data/htdocs/fnscrm/programm/mysessionfns] Waiting for 9 seconds before continuing (required by \"users.GetFullUser\")\n",
      "[C:/Server/data/htdocs/fnscrm/programm/mysessionfns] Waiting for 8 seconds before continuing (required by \"users.GetFullUser\")\n"
     ]
    },
    {
     "name": "stdout",
     "output_type": "stream",
     "text": [
      "250\n"
     ]
    },
    {
     "name": "stderr",
     "output_type": "stream",
     "text": [
      "[C:/Server/data/htdocs/fnscrm/programm/mysessionfns] Waiting for 8 seconds before continuing (required by \"users.GetFullUser\")\n",
      "[C:/Server/data/htdocs/fnscrm/programm/mysessionfns] Waiting for 6 seconds before continuing (required by \"users.GetFullUser\")\n",
      "[C:/Server/data/htdocs/fnscrm/programm/mysessionfns] Waiting for 9 seconds before continuing (required by \"users.GetFullUser\")\n"
     ]
    },
    {
     "name": "stdout",
     "output_type": "stream",
     "text": [
      "260\n"
     ]
    },
    {
     "name": "stderr",
     "output_type": "stream",
     "text": [
      "[C:/Server/data/htdocs/fnscrm/programm/mysessionfns] Waiting for 8 seconds before continuing (required by \"users.GetFullUser\")\n",
      "[C:/Server/data/htdocs/fnscrm/programm/mysessionfns] Waiting for 9 seconds before continuing (required by \"users.GetFullUser\")\n"
     ]
    },
    {
     "name": "stdout",
     "output_type": "stream",
     "text": [
      "270\n"
     ]
    },
    {
     "name": "stderr",
     "output_type": "stream",
     "text": [
      "[C:/Server/data/htdocs/fnscrm/programm/mysessionfns] Waiting for 8 seconds before continuing (required by \"users.GetFullUser\")\n",
      "[C:/Server/data/htdocs/fnscrm/programm/mysessionfns] Waiting for 9 seconds before continuing (required by \"users.GetFullUser\")\n",
      "[C:/Server/data/htdocs/fnscrm/programm/mysessionfns] Waiting for 8 seconds before continuing (required by \"users.GetFullUser\")\n"
     ]
    },
    {
     "name": "stdout",
     "output_type": "stream",
     "text": [
      "280\n"
     ]
    },
    {
     "name": "stderr",
     "output_type": "stream",
     "text": [
      "[C:/Server/data/htdocs/fnscrm/programm/mysessionfns] Waiting for 7 seconds before continuing (required by \"users.GetFullUser\")\n",
      "[C:/Server/data/htdocs/fnscrm/programm/mysessionfns] Waiting for 9 seconds before continuing (required by \"users.GetFullUser\")\n"
     ]
    },
    {
     "name": "stdout",
     "output_type": "stream",
     "text": [
      "290\n"
     ]
    },
    {
     "name": "stderr",
     "output_type": "stream",
     "text": [
      "[C:/Server/data/htdocs/fnscrm/programm/mysessionfns] Waiting for 8 seconds before continuing (required by \"users.GetFullUser\")\n",
      "[C:/Server/data/htdocs/fnscrm/programm/mysessionfns] Waiting for 8 seconds before continuing (required by \"users.GetFullUser\")\n",
      "[C:/Server/data/htdocs/fnscrm/programm/mysessionfns] Waiting for 8 seconds before continuing (required by \"users.GetFullUser\")\n"
     ]
    },
    {
     "name": "stdout",
     "output_type": "stream",
     "text": [
      "300\n"
     ]
    },
    {
     "name": "stderr",
     "output_type": "stream",
     "text": [
      "[C:/Server/data/htdocs/fnscrm/programm/mysessionfns] Waiting for 8 seconds before continuing (required by \"users.GetFullUser\")\n",
      "[C:/Server/data/htdocs/fnscrm/programm/mysessionfns] Waiting for 6 seconds before continuing (required by \"users.GetFullUser\")\n"
     ]
    },
    {
     "name": "stdout",
     "output_type": "stream",
     "text": [
      "310\n"
     ]
    },
    {
     "name": "stderr",
     "output_type": "stream",
     "text": [
      "[C:/Server/data/htdocs/fnscrm/programm/mysessionfns] Waiting for 8 seconds before continuing (required by \"users.GetFullUser\")\n",
      "[C:/Server/data/htdocs/fnscrm/programm/mysessionfns] Waiting for 7 seconds before continuing (required by \"users.GetFullUser\")\n",
      "[C:/Server/data/htdocs/fnscrm/programm/mysessionfns] Waiting for 9 seconds before continuing (required by \"users.GetFullUser\")\n"
     ]
    },
    {
     "name": "stdout",
     "output_type": "stream",
     "text": [
      "320\n"
     ]
    },
    {
     "name": "stderr",
     "output_type": "stream",
     "text": [
      "[C:/Server/data/htdocs/fnscrm/programm/mysessionfns] Waiting for 9 seconds before continuing (required by \"users.GetFullUser\")\n",
      "[C:/Server/data/htdocs/fnscrm/programm/mysessionfns] Waiting for 8 seconds before continuing (required by \"users.GetFullUser\")\n"
     ]
    },
    {
     "name": "stdout",
     "output_type": "stream",
     "text": [
      "330\n"
     ]
    },
    {
     "name": "stderr",
     "output_type": "stream",
     "text": [
      "[C:/Server/data/htdocs/fnscrm/programm/mysessionfns] Waiting for 9 seconds before continuing (required by \"users.GetFullUser\")\n",
      "[C:/Server/data/htdocs/fnscrm/programm/mysessionfns] Waiting for 7 seconds before continuing (required by \"users.GetFullUser\")\n",
      "[C:/Server/data/htdocs/fnscrm/programm/mysessionfns] Waiting for 9 seconds before continuing (required by \"users.GetFullUser\")\n"
     ]
    },
    {
     "name": "stdout",
     "output_type": "stream",
     "text": [
      "340\n"
     ]
    },
    {
     "name": "stderr",
     "output_type": "stream",
     "text": [
      "[C:/Server/data/htdocs/fnscrm/programm/mysessionfns] Waiting for 9 seconds before continuing (required by \"users.GetFullUser\")\n",
      "[C:/Server/data/htdocs/fnscrm/programm/mysessionfns] Waiting for 7 seconds before continuing (required by \"users.GetFullUser\")\n"
     ]
    },
    {
     "name": "stdout",
     "output_type": "stream",
     "text": [
      "350\n"
     ]
    },
    {
     "name": "stderr",
     "output_type": "stream",
     "text": [
      "[C:/Server/data/htdocs/fnscrm/programm/mysessionfns] Waiting for 8 seconds before continuing (required by \"users.GetFullUser\")\n",
      "[C:/Server/data/htdocs/fnscrm/programm/mysessionfns] Waiting for 9 seconds before continuing (required by \"users.GetFullUser\")\n",
      "[C:/Server/data/htdocs/fnscrm/programm/mysessionfns] Waiting for 8 seconds before continuing (required by \"users.GetFullUser\")\n"
     ]
    },
    {
     "name": "stdout",
     "output_type": "stream",
     "text": [
      "360\n"
     ]
    },
    {
     "name": "stderr",
     "output_type": "stream",
     "text": [
      "[C:/Server/data/htdocs/fnscrm/programm/mysessionfns] Waiting for 7 seconds before continuing (required by \"users.GetFullUser\")\n",
      "[C:/Server/data/htdocs/fnscrm/programm/mysessionfns] Waiting for 8 seconds before continuing (required by \"users.GetFullUser\")\n"
     ]
    },
    {
     "name": "stdout",
     "output_type": "stream",
     "text": [
      "370\n"
     ]
    },
    {
     "name": "stderr",
     "output_type": "stream",
     "text": [
      "[C:/Server/data/htdocs/fnscrm/programm/mysessionfns] Waiting for 9 seconds before continuing (required by \"users.GetFullUser\")\n",
      "[C:/Server/data/htdocs/fnscrm/programm/mysessionfns] Waiting for 8 seconds before continuing (required by \"users.GetFullUser\")\n",
      "[C:/Server/data/htdocs/fnscrm/programm/mysessionfns] Waiting for 6 seconds before continuing (required by \"users.GetFullUser\")\n"
     ]
    },
    {
     "name": "stdout",
     "output_type": "stream",
     "text": [
      "380\n"
     ]
    },
    {
     "name": "stderr",
     "output_type": "stream",
     "text": [
      "[C:/Server/data/htdocs/fnscrm/programm/mysessionfns] Waiting for 8 seconds before continuing (required by \"users.GetFullUser\")\n",
      "[C:/Server/data/htdocs/fnscrm/programm/mysessionfns] Waiting for 8 seconds before continuing (required by \"users.GetFullUser\")\n"
     ]
    },
    {
     "name": "stdout",
     "output_type": "stream",
     "text": [
      "390\n"
     ]
    },
    {
     "name": "stderr",
     "output_type": "stream",
     "text": [
      "[C:/Server/data/htdocs/fnscrm/programm/mysessionfns] Waiting for 7 seconds before continuing (required by \"users.GetFullUser\")\n",
      "[C:/Server/data/htdocs/fnscrm/programm/mysessionfns] Waiting for 8 seconds before continuing (required by \"users.GetFullUser\")\n",
      "[C:/Server/data/htdocs/fnscrm/programm/mysessionfns] Waiting for 8 seconds before continuing (required by \"users.GetFullUser\")\n"
     ]
    },
    {
     "name": "stdout",
     "output_type": "stream",
     "text": [
      "400\n"
     ]
    },
    {
     "name": "stderr",
     "output_type": "stream",
     "text": [
      "[C:/Server/data/htdocs/fnscrm/programm/mysessionfns] Waiting for 6 seconds before continuing (required by \"users.GetFullUser\")\n",
      "[C:/Server/data/htdocs/fnscrm/programm/mysessionfns] Waiting for 7 seconds before continuing (required by \"users.GetFullUser\")\n"
     ]
    },
    {
     "name": "stdout",
     "output_type": "stream",
     "text": [
      "410\n"
     ]
    },
    {
     "name": "stderr",
     "output_type": "stream",
     "text": [
      "[C:/Server/data/htdocs/fnscrm/programm/mysessionfns] Waiting for 9 seconds before continuing (required by \"users.GetFullUser\")\n",
      "[C:/Server/data/htdocs/fnscrm/programm/mysessionfns] Waiting for 6 seconds before continuing (required by \"users.GetFullUser\")\n",
      "[C:/Server/data/htdocs/fnscrm/programm/mysessionfns] Waiting for 8 seconds before continuing (required by \"users.GetFullUser\")\n"
     ]
    },
    {
     "name": "stdout",
     "output_type": "stream",
     "text": [
      "420\n"
     ]
    },
    {
     "name": "stderr",
     "output_type": "stream",
     "text": [
      "[C:/Server/data/htdocs/fnscrm/programm/mysessionfns] Waiting for 7 seconds before continuing (required by \"users.GetFullUser\")\n",
      "[C:/Server/data/htdocs/fnscrm/programm/mysessionfns] Waiting for 3 seconds before continuing (required by \"users.GetFullUser\")\n"
     ]
    },
    {
     "name": "stdout",
     "output_type": "stream",
     "text": [
      "430\n"
     ]
    },
    {
     "name": "stderr",
     "output_type": "stream",
     "text": [
      "[C:/Server/data/htdocs/fnscrm/programm/mysessionfns] Waiting for 7 seconds before continuing (required by \"users.GetFullUser\")\n",
      "[C:/Server/data/htdocs/fnscrm/programm/mysessionfns] Waiting for 8 seconds before continuing (required by \"users.GetFullUser\")\n",
      "[C:/Server/data/htdocs/fnscrm/programm/mysessionfns] Waiting for 7 seconds before continuing (required by \"users.GetFullUser\")\n"
     ]
    },
    {
     "name": "stdout",
     "output_type": "stream",
     "text": [
      "440\n"
     ]
    },
    {
     "name": "stderr",
     "output_type": "stream",
     "text": [
      "[C:/Server/data/htdocs/fnscrm/programm/mysessionfns] Waiting for 8 seconds before continuing (required by \"users.GetFullUser\")\n",
      "[C:/Server/data/htdocs/fnscrm/programm/mysessionfns] Waiting for 7 seconds before continuing (required by \"users.GetFullUser\")\n"
     ]
    },
    {
     "name": "stdout",
     "output_type": "stream",
     "text": [
      "450\n"
     ]
    },
    {
     "name": "stderr",
     "output_type": "stream",
     "text": [
      "[C:/Server/data/htdocs/fnscrm/programm/mysessionfns] Waiting for 6 seconds before continuing (required by \"users.GetFullUser\")\n",
      "[C:/Server/data/htdocs/fnscrm/programm/mysessionfns] Waiting for 9 seconds before continuing (required by \"users.GetFullUser\")\n",
      "[C:/Server/data/htdocs/fnscrm/programm/mysessionfns] Waiting for 9 seconds before continuing (required by \"users.GetFullUser\")\n"
     ]
    },
    {
     "name": "stdout",
     "output_type": "stream",
     "text": [
      "460\n"
     ]
    },
    {
     "name": "stderr",
     "output_type": "stream",
     "text": [
      "[C:/Server/data/htdocs/fnscrm/programm/mysessionfns] Waiting for 8 seconds before continuing (required by \"users.GetFullUser\")\n",
      "[C:/Server/data/htdocs/fnscrm/programm/mysessionfns] Waiting for 9 seconds before continuing (required by \"users.GetFullUser\")\n"
     ]
    },
    {
     "name": "stdout",
     "output_type": "stream",
     "text": [
      "470\n"
     ]
    },
    {
     "name": "stderr",
     "output_type": "stream",
     "text": [
      "[C:/Server/data/htdocs/fnscrm/programm/mysessionfns] Waiting for 6 seconds before continuing (required by \"users.GetFullUser\")\n",
      "[C:/Server/data/htdocs/fnscrm/programm/mysessionfns] Waiting for 8 seconds before continuing (required by \"users.GetFullUser\")\n",
      "[C:/Server/data/htdocs/fnscrm/programm/mysessionfns] Waiting for 9 seconds before continuing (required by \"users.GetFullUser\")\n"
     ]
    },
    {
     "name": "stdout",
     "output_type": "stream",
     "text": [
      "480\n"
     ]
    },
    {
     "name": "stderr",
     "output_type": "stream",
     "text": [
      "[C:/Server/data/htdocs/fnscrm/programm/mysessionfns] Waiting for 7 seconds before continuing (required by \"users.GetFullUser\")\n",
      "[C:/Server/data/htdocs/fnscrm/programm/mysessionfns] Waiting for 8 seconds before continuing (required by \"users.GetFullUser\")\n"
     ]
    },
    {
     "name": "stdout",
     "output_type": "stream",
     "text": [
      "490\n"
     ]
    },
    {
     "name": "stderr",
     "output_type": "stream",
     "text": [
      "[C:/Server/data/htdocs/fnscrm/programm/mysessionfns] Waiting for 6 seconds before continuing (required by \"users.GetFullUser\")\n",
      "[C:/Server/data/htdocs/fnscrm/programm/mysessionfns] Waiting for 5 seconds before continuing (required by \"users.GetFullUser\")\n",
      "[C:/Server/data/htdocs/fnscrm/programm/mysessionfns] Waiting for 9 seconds before continuing (required by \"users.GetFullUser\")\n"
     ]
    },
    {
     "name": "stdout",
     "output_type": "stream",
     "text": [
      "500\n"
     ]
    },
    {
     "name": "stderr",
     "output_type": "stream",
     "text": [
      "[C:/Server/data/htdocs/fnscrm/programm/mysessionfns] Waiting for 8 seconds before continuing (required by \"users.GetFullUser\")\n",
      "[C:/Server/data/htdocs/fnscrm/programm/mysessionfns] Waiting for 9 seconds before continuing (required by \"users.GetFullUser\")\n"
     ]
    },
    {
     "name": "stdout",
     "output_type": "stream",
     "text": [
      "510\n"
     ]
    },
    {
     "name": "stderr",
     "output_type": "stream",
     "text": [
      "[C:/Server/data/htdocs/fnscrm/programm/mysessionfns] Waiting for 6 seconds before continuing (required by \"users.GetFullUser\")\n",
      "[C:/Server/data/htdocs/fnscrm/programm/mysessionfns] Waiting for 5 seconds before continuing (required by \"users.GetFullUser\")\n",
      "[C:/Server/data/htdocs/fnscrm/programm/mysessionfns] Waiting for 6 seconds before continuing (required by \"users.GetFullUser\")\n"
     ]
    },
    {
     "name": "stdout",
     "output_type": "stream",
     "text": [
      "520\n"
     ]
    },
    {
     "name": "stderr",
     "output_type": "stream",
     "text": [
      "[C:/Server/data/htdocs/fnscrm/programm/mysessionfns] Waiting for 6 seconds before continuing (required by \"users.GetFullUser\")\n"
     ]
    },
    {
     "ename": "SearchQueryEmpty",
     "evalue": "Telegram says: [400 SEARCH_QUERY_EMPTY] - The search query is empty (caused by \"messages.Search\")",
     "output_type": "error",
     "traceback": [
      "\u001b[1;31m---------------------------------------------------------------------------\u001b[0m",
      "\u001b[1;31mSearchQueryEmpty\u001b[0m                          Traceback (most recent call last)",
      "Cell \u001b[1;32mIn[13], line 7\u001b[0m\n\u001b[0;32m      4\u001b[0m \u001b[39mfor\u001b[39;00m row_list \u001b[39min\u001b[39;00m list_not_answer:\n\u001b[0;32m      6\u001b[0m      l \u001b[39m=\u001b[39m [{\u001b[39m'\u001b[39m\u001b[39mquestion\u001b[39m\u001b[39m'\u001b[39m: \u001b[39mstr\u001b[39m(row_list[\u001b[39m2\u001b[39m])\u001b[39m.\u001b[39mreplace(\u001b[39m'\u001b[39m\u001b[39m_x000D_\u001b[39m\u001b[39m'\u001b[39m, \u001b[39m'\u001b[39m\u001b[39m'\u001b[39m)\u001b[39m.\u001b[39mstrip()[:\u001b[39m100\u001b[39m], \u001b[39m'\u001b[39m\u001b[39manswer_text\u001b[39m\u001b[39m'\u001b[39m: \u001b[39m'\u001b[39m\u001b[39m'\u001b[39m}]\n\u001b[1;32m----> 7\u001b[0m      result \u001b[39m=\u001b[39m \u001b[39mawait\u001b[39;00m my_app_telegram_prog\u001b[39m.\u001b[39msearch_message(l)\n\u001b[0;32m      9\u001b[0m      \u001b[39mif\u001b[39;00m result \u001b[39m!=\u001b[39m \u001b[39mNone\u001b[39;00m:\n\u001b[0;32m     10\u001b[0m           result[\u001b[39m'\u001b[39m\u001b[39mid\u001b[39m\u001b[39m'\u001b[39m] \u001b[39m=\u001b[39m row_list[\u001b[39m0\u001b[39m]\n",
      "File \u001b[1;32mc:\\Server\\data\\htdocs\\fnscrm\\programm\\my_app_telegram_prog.py:115\u001b[0m, in \u001b[0;36msearch_message\u001b[1;34m(list_text_questions)\u001b[0m\n\u001b[0;32m    112\u001b[0m \u001b[39mif\u001b[39;00m str1 \u001b[39m==\u001b[39m \u001b[39m'\u001b[39m\u001b[39m'\u001b[39m:\n\u001b[0;32m    113\u001b[0m     str1 \u001b[39m=\u001b[39m item[\u001b[39m'\u001b[39m\u001b[39mquestion\u001b[39m\u001b[39m'\u001b[39m]\n\u001b[1;32m--> 115\u001b[0m \u001b[39masync\u001b[39;00m \u001b[39mfor\u001b[39;00m message \u001b[39min\u001b[39;00m app\u001b[39m.\u001b[39msearch_messages(chat_id, query\u001b[39m=\u001b[39mstr1, limit\u001b[39m=\u001b[39m\u001b[39m1000\u001b[39m):\n\u001b[0;32m    117\u001b[0m     \u001b[39mif\u001b[39;00m \u001b[39mstr\u001b[39m(message\u001b[39m.\u001b[39mtext)\u001b[39m.\u001b[39mreplace(\u001b[39m'\u001b[39m\u001b[39m\\xa0\u001b[39;00m\u001b[39m'\u001b[39m, \u001b[39m'\u001b[39m\u001b[39m \u001b[39m\u001b[39m'\u001b[39m)\u001b[39m.\u001b[39mfind(item[\u001b[39m'\u001b[39m\u001b[39mquestion\u001b[39m\u001b[39m'\u001b[39m]) \u001b[39m==\u001b[39m \u001b[39m-\u001b[39m\u001b[39m1\u001b[39m:\n\u001b[0;32m    118\u001b[0m         \u001b[39mcontinue\u001b[39;00m\n",
      "File \u001b[1;32mc:\\python\\Python39\\lib\\site-packages\\pyrogram\\methods\\messages\\search_messages.py:130\u001b[0m, in \u001b[0;36mSearchMessages.search_messages\u001b[1;34m(self, chat_id, query, offset, filter, limit, from_user)\u001b[0m\n\u001b[0;32m    127\u001b[0m limit \u001b[39m=\u001b[39m \u001b[39mmin\u001b[39m(\u001b[39m100\u001b[39m, total)\n\u001b[0;32m    129\u001b[0m \u001b[39mwhile\u001b[39;00m \u001b[39mTrue\u001b[39;00m:\n\u001b[1;32m--> 130\u001b[0m     messages \u001b[39m=\u001b[39m \u001b[39mawait\u001b[39;00m get_chunk(\n\u001b[0;32m    131\u001b[0m         client\u001b[39m=\u001b[39m\u001b[39mself\u001b[39m,\n\u001b[0;32m    132\u001b[0m         chat_id\u001b[39m=\u001b[39mchat_id,\n\u001b[0;32m    133\u001b[0m         query\u001b[39m=\u001b[39mquery,\n\u001b[0;32m    134\u001b[0m         \u001b[39mfilter\u001b[39m\u001b[39m=\u001b[39m\u001b[39mfilter\u001b[39m,\n\u001b[0;32m    135\u001b[0m         offset\u001b[39m=\u001b[39moffset,\n\u001b[0;32m    136\u001b[0m         limit\u001b[39m=\u001b[39mlimit,\n\u001b[0;32m    137\u001b[0m         from_user\u001b[39m=\u001b[39mfrom_user\n\u001b[0;32m    138\u001b[0m     )\n\u001b[0;32m    140\u001b[0m     \u001b[39mif\u001b[39;00m \u001b[39mnot\u001b[39;00m messages:\n\u001b[0;32m    141\u001b[0m         \u001b[39mreturn\u001b[39;00m\n",
      "File \u001b[1;32mc:\\python\\Python39\\lib\\site-packages\\pyrogram\\methods\\messages\\search_messages.py:35\u001b[0m, in \u001b[0;36mget_chunk\u001b[1;34m(client, chat_id, query, filter, offset, limit, from_user)\u001b[0m\n\u001b[0;32m     26\u001b[0m \u001b[39masync\u001b[39;00m \u001b[39mdef\u001b[39;00m \u001b[39mget_chunk\u001b[39m(\n\u001b[0;32m     27\u001b[0m     client,\n\u001b[0;32m     28\u001b[0m     chat_id: Union[\u001b[39mint\u001b[39m, \u001b[39mstr\u001b[39m],\n\u001b[1;32m   (...)\u001b[0m\n\u001b[0;32m     33\u001b[0m     from_user: Union[\u001b[39mint\u001b[39m, \u001b[39mstr\u001b[39m] \u001b[39m=\u001b[39m \u001b[39mNone\u001b[39;00m\n\u001b[0;32m     34\u001b[0m ) \u001b[39m-\u001b[39m\u001b[39m>\u001b[39m List[\u001b[39m\"\u001b[39m\u001b[39mtypes.Message\u001b[39m\u001b[39m\"\u001b[39m]:\n\u001b[1;32m---> 35\u001b[0m     r \u001b[39m=\u001b[39m \u001b[39mawait\u001b[39;00m client\u001b[39m.\u001b[39minvoke(\n\u001b[0;32m     36\u001b[0m         raw\u001b[39m.\u001b[39mfunctions\u001b[39m.\u001b[39mmessages\u001b[39m.\u001b[39mSearch(\n\u001b[0;32m     37\u001b[0m             peer\u001b[39m=\u001b[39m\u001b[39mawait\u001b[39;00m client\u001b[39m.\u001b[39mresolve_peer(chat_id),\n\u001b[0;32m     38\u001b[0m             q\u001b[39m=\u001b[39mquery,\n\u001b[0;32m     39\u001b[0m             \u001b[39mfilter\u001b[39m\u001b[39m=\u001b[39m\u001b[39mfilter\u001b[39m\u001b[39m.\u001b[39mvalue(),\n\u001b[0;32m     40\u001b[0m             min_date\u001b[39m=\u001b[39m\u001b[39m0\u001b[39m,\n\u001b[0;32m     41\u001b[0m             max_date\u001b[39m=\u001b[39m\u001b[39m0\u001b[39m,\n\u001b[0;32m     42\u001b[0m             offset_id\u001b[39m=\u001b[39m\u001b[39m0\u001b[39m,\n\u001b[0;32m     43\u001b[0m             add_offset\u001b[39m=\u001b[39moffset,\n\u001b[0;32m     44\u001b[0m             limit\u001b[39m=\u001b[39mlimit,\n\u001b[0;32m     45\u001b[0m             min_id\u001b[39m=\u001b[39m\u001b[39m0\u001b[39m,\n\u001b[0;32m     46\u001b[0m             max_id\u001b[39m=\u001b[39m\u001b[39m0\u001b[39m,\n\u001b[0;32m     47\u001b[0m             from_id\u001b[39m=\u001b[39m(\n\u001b[0;32m     48\u001b[0m                 \u001b[39mawait\u001b[39;00m client\u001b[39m.\u001b[39mresolve_peer(from_user)\n\u001b[0;32m     49\u001b[0m                 \u001b[39mif\u001b[39;00m from_user\n\u001b[0;32m     50\u001b[0m                 \u001b[39melse\u001b[39;00m \u001b[39mNone\u001b[39;00m\n\u001b[0;32m     51\u001b[0m             ),\n\u001b[0;32m     52\u001b[0m             \u001b[39mhash\u001b[39m\u001b[39m=\u001b[39m\u001b[39m0\u001b[39m\n\u001b[0;32m     53\u001b[0m         ),\n\u001b[0;32m     54\u001b[0m         sleep_threshold\u001b[39m=\u001b[39m\u001b[39m60\u001b[39m\n\u001b[0;32m     55\u001b[0m     )\n\u001b[0;32m     57\u001b[0m     \u001b[39mreturn\u001b[39;00m \u001b[39mawait\u001b[39;00m utils\u001b[39m.\u001b[39mparse_messages(client, r, replies\u001b[39m=\u001b[39m\u001b[39m0\u001b[39m)\n",
      "File \u001b[1;32mc:\\python\\Python39\\lib\\site-packages\\pyrogram\\methods\\advanced\\invoke.py:79\u001b[0m, in \u001b[0;36mInvoke.invoke\u001b[1;34m(self, query, retries, timeout, sleep_threshold)\u001b[0m\n\u001b[0;32m     76\u001b[0m \u001b[39mif\u001b[39;00m \u001b[39mself\u001b[39m\u001b[39m.\u001b[39mtakeout_id:\n\u001b[0;32m     77\u001b[0m     query \u001b[39m=\u001b[39m raw\u001b[39m.\u001b[39mfunctions\u001b[39m.\u001b[39mInvokeWithTakeout(takeout_id\u001b[39m=\u001b[39m\u001b[39mself\u001b[39m\u001b[39m.\u001b[39mtakeout_id, query\u001b[39m=\u001b[39mquery)\n\u001b[1;32m---> 79\u001b[0m r \u001b[39m=\u001b[39m \u001b[39mawait\u001b[39;00m \u001b[39mself\u001b[39m\u001b[39m.\u001b[39msession\u001b[39m.\u001b[39minvoke(\n\u001b[0;32m     80\u001b[0m     query, retries, timeout,\n\u001b[0;32m     81\u001b[0m     (sleep_threshold\n\u001b[0;32m     82\u001b[0m      \u001b[39mif\u001b[39;00m sleep_threshold \u001b[39mis\u001b[39;00m \u001b[39mnot\u001b[39;00m \u001b[39mNone\u001b[39;00m\n\u001b[0;32m     83\u001b[0m      \u001b[39melse\u001b[39;00m \u001b[39mself\u001b[39m\u001b[39m.\u001b[39msleep_threshold)\n\u001b[0;32m     84\u001b[0m )\n\u001b[0;32m     86\u001b[0m \u001b[39mawait\u001b[39;00m \u001b[39mself\u001b[39m\u001b[39m.\u001b[39mfetch_peers(\u001b[39mgetattr\u001b[39m(r, \u001b[39m\"\u001b[39m\u001b[39musers\u001b[39m\u001b[39m\"\u001b[39m, []))\n\u001b[0;32m     87\u001b[0m \u001b[39mawait\u001b[39;00m \u001b[39mself\u001b[39m\u001b[39m.\u001b[39mfetch_peers(\u001b[39mgetattr\u001b[39m(r, \u001b[39m\"\u001b[39m\u001b[39mchats\u001b[39m\u001b[39m\"\u001b[39m, []))\n",
      "File \u001b[1;32mc:\\python\\Python39\\lib\\site-packages\\pyrogram\\session\\session.py:389\u001b[0m, in \u001b[0;36mSession.invoke\u001b[1;34m(self, query, retries, timeout, sleep_threshold)\u001b[0m\n\u001b[0;32m    387\u001b[0m \u001b[39mwhile\u001b[39;00m \u001b[39mTrue\u001b[39;00m:\n\u001b[0;32m    388\u001b[0m     \u001b[39mtry\u001b[39;00m:\n\u001b[1;32m--> 389\u001b[0m         \u001b[39mreturn\u001b[39;00m \u001b[39mawait\u001b[39;00m \u001b[39mself\u001b[39m\u001b[39m.\u001b[39msend(query, timeout\u001b[39m=\u001b[39mtimeout)\n\u001b[0;32m    390\u001b[0m     \u001b[39mexcept\u001b[39;00m FloodWait \u001b[39mas\u001b[39;00m e:\n\u001b[0;32m    391\u001b[0m         amount \u001b[39m=\u001b[39m e\u001b[39m.\u001b[39mvalue\n",
      "File \u001b[1;32mc:\\python\\Python39\\lib\\site-packages\\pyrogram\\session\\session.py:357\u001b[0m, in \u001b[0;36mSession.send\u001b[1;34m(self, data, wait_response, timeout)\u001b[0m\n\u001b[0;32m    354\u001b[0m     \u001b[39mif\u001b[39;00m \u001b[39misinstance\u001b[39m(data, (raw\u001b[39m.\u001b[39mfunctions\u001b[39m.\u001b[39mInvokeWithoutUpdates, raw\u001b[39m.\u001b[39mfunctions\u001b[39m.\u001b[39mInvokeWithTakeout)):\n\u001b[0;32m    355\u001b[0m         data \u001b[39m=\u001b[39m data\u001b[39m.\u001b[39mquery\n\u001b[1;32m--> 357\u001b[0m     RPCError\u001b[39m.\u001b[39;49mraise_it(result, \u001b[39mtype\u001b[39;49m(data))\n\u001b[0;32m    359\u001b[0m \u001b[39mif\u001b[39;00m \u001b[39misinstance\u001b[39m(result, raw\u001b[39m.\u001b[39mtypes\u001b[39m.\u001b[39mBadMsgNotification):\n\u001b[0;32m    360\u001b[0m     log\u001b[39m.\u001b[39mwarning(\u001b[39m\"\u001b[39m\u001b[39m%s\u001b[39;00m\u001b[39m: \u001b[39m\u001b[39m%s\u001b[39;00m\u001b[39m\"\u001b[39m, BadMsgNotification\u001b[39m.\u001b[39m\u001b[39m__name__\u001b[39m, BadMsgNotification(result\u001b[39m.\u001b[39merror_code))\n",
      "File \u001b[1;32mc:\\python\\Python39\\lib\\site-packages\\pyrogram\\errors\\rpc_error.py:91\u001b[0m, in \u001b[0;36mRPCError.raise_it\u001b[1;34m(rpc_error, rpc_type)\u001b[0m\n\u001b[0;32m     88\u001b[0m value \u001b[39m=\u001b[39m re\u001b[39m.\u001b[39msearch(\u001b[39mr\u001b[39m\u001b[39m\"\u001b[39m\u001b[39m_(\u001b[39m\u001b[39m\\\u001b[39m\u001b[39md+)\u001b[39m\u001b[39m\"\u001b[39m, error_message)\n\u001b[0;32m     89\u001b[0m value \u001b[39m=\u001b[39m value\u001b[39m.\u001b[39mgroup(\u001b[39m1\u001b[39m) \u001b[39mif\u001b[39;00m value \u001b[39mis\u001b[39;00m \u001b[39mnot\u001b[39;00m \u001b[39mNone\u001b[39;00m \u001b[39melse\u001b[39;00m value\n\u001b[1;32m---> 91\u001b[0m \u001b[39mraise\u001b[39;00m \u001b[39mgetattr\u001b[39m(\n\u001b[0;32m     92\u001b[0m     import_module(\u001b[39m\"\u001b[39m\u001b[39mpyrogram.errors\u001b[39m\u001b[39m\"\u001b[39m),\n\u001b[0;32m     93\u001b[0m     exceptions[error_code][error_id]\n\u001b[0;32m     94\u001b[0m )(value\u001b[39m=\u001b[39mvalue,\n\u001b[0;32m     95\u001b[0m   rpc_name\u001b[39m=\u001b[39mrpc_name,\n\u001b[0;32m     96\u001b[0m   is_unknown\u001b[39m=\u001b[39m\u001b[39mFalse\u001b[39;00m,\n\u001b[0;32m     97\u001b[0m   is_signed\u001b[39m=\u001b[39mis_signed)\n",
      "\u001b[1;31mSearchQueryEmpty\u001b[0m: Telegram says: [400 SEARCH_QUERY_EMPTY] - The search query is empty (caused by \"messages.Search\")"
     ]
    }
   ],
   "source": [
    "new_list = []\n",
    "list_of_user = []\n",
    "count = 0\n",
    "for row_list in list_not_answer:\n",
    "\n",
    "     l = [{'question': str(row_list[2]).replace('_x000D_', '').strip()[:100], 'answer_text': ''}]\n",
    "     result = await my_app_telegram_prog.search_message(l)\n",
    "\n",
    "     if result != None:\n",
    "          result['id'] = row_list[0]\n",
    "          result['question'] = str(row_list[2]).replace('_x000D_', '').strip()\n",
    "          if result['user'] != None:\n",
    "               result['username'] = result['user'].username\n",
    "               result['user_id'] = result['user'].id\n",
    "          list_of_user.append(result)\n",
    "     \n",
    "     if count % 10 == 0:\n",
    "          print(count) \n",
    "\n",
    "     count += 1\n",
    "     \n",
    "     # new_list.append(row_list[1])\n",
    "     # l = [{'question': str(row_list[2]).replace('_x000D_', '').strip()[:100], 'answer_text': ''}]\n",
    "# result = await my_app_telegram_prog.get_message_chat(-1001849793263, new_list)\n",
    "# len(result)\n",
    "# if result != None:\n",
    "# for row in result:\n",
    "#      # if row != None and row.from_user != None and row.from_user.username in list_user_for_post:\n",
    "#      if row != None and row.from_user == None and not row.empty:\n",
    "#           list_of_user.append(row)\n",
    "     # print(row.from_user.username)\n",
    "     #      result['id'] = row_list[0]\n",
    "     #      list_not_answer_new.append(result)\n",
    "     # else:\n",
    "     #      list_not_answer_not_find.append(row_list)\n",
    "# list_of_user"
   ]
  },
  {
   "cell_type": "code",
   "execution_count": 9,
   "metadata": {},
   "outputs": [
    {
     "data": {
      "text/plain": [
       "{'question': '1683 Исмагилова А. Н.\\nИз ВН №1 был уточнено п/п №2 от 11.01.23 на сумму 15.00руб. Дата поступления в НО 14.04.23. Платеж вернулся, в информации об отказе указано \"не найден ЭДВ по УПНО\". Что это значит?',\n",
       " 'answer_text': '',\n",
       " 'id_message': 28190,\n",
       " 'count': 1,\n",
       " 'user': pyrogram.types.User(id=5715129207, is_self=False, is_contact=False, is_mutual_contact=False, is_deleted=False, is_bot=False, is_verified=False, is_restricted=False, is_scam=False, is_fake=False, is_support=False, is_premium=False, first_name='Альфира', last_name='Нурисламовна', status=pyrogram.enums.UserStatus.RECENTLY, username='Alfjra'),\n",
       " 'id': 18953,\n",
       " 'username': 'Alfjra',\n",
       " 'user_id': 5715129207}"
      ]
     },
     "execution_count": 9,
     "metadata": {},
     "output_type": "execute_result"
    }
   ],
   "source": [
    "list_of_user[0]"
   ]
  },
  {
   "attachments": {},
   "cell_type": "markdown",
   "metadata": {},
   "source": [
    "# Запросы по IDшникам"
   ]
  },
  {
   "cell_type": "code",
   "execution_count": 40,
   "metadata": {},
   "outputs": [],
   "source": [
    "list_of_user = \"\"\"24334\n",
    "24598\n",
    "23688\n",
    "24754\n",
    "23502\n",
    "24761\n",
    "18957\n",
    "24588\n",
    "24077\n",
    "24690\n",
    "24585\n",
    "24203\n",
    "24853\n",
    "23461\n",
    "23462\n",
    "24572\n",
    "23467\n",
    "23676\n",
    "24371\n",
    "24812\n",
    "24626\n",
    "24343\n",
    "24777\n",
    "23453\n",
    "23631\n",
    "23895\n",
    "23803\n",
    "23607\n",
    "23920\n",
    "23923\n",
    "24449\n",
    "23481\n",
    "23547\n",
    "24204\n",
    "24836\n",
    "23939\n",
    "24656\n",
    "24787\n",
    "24438\n",
    "24210\n",
    "24602\n",
    "23488\n",
    "23692\n",
    "23636\n",
    "24183\n",
    "24612\n",
    "23557\n",
    "23514\n",
    "23552\n",
    "23616\n",
    "23645\n",
    "23579\n",
    "24772\n",
    "23493\n",
    "24080\n",
    "23811\n",
    "23798\n",
    "24039\n",
    "24064\n",
    "24649\n",
    "23610\n",
    "23911\n",
    "24284\n",
    "23525\n",
    "24700\n",
    "24824\n",
    "24841\n",
    "24709\n",
    "24816\n",
    "23566\n",
    "23613\n",
    "23721\n",
    "24652\n",
    "23921\n",
    "23801\n",
    "24276\n",
    "23861\n",
    "24666\n",
    "23772\n",
    "24763\n",
    "24831\n",
    "19030\n",
    "23758\n",
    "23932\n",
    "24839\n",
    "24586\n",
    "23661\n",
    "23440\n",
    "23489\n",
    "24098\n",
    "23693\n",
    "23886\n",
    "23665\n",
    "24214\n",
    "24340\n",
    "24815\n",
    "23519\n",
    "23689\n",
    "23700\n",
    "23494\n",
    "23561\n",
    "24382\n",
    "24367\n",
    "23471\n",
    "24622\n",
    "24378\n",
    "24388\n",
    "23484\n",
    "24611\n",
    "24751\n",
    "24798\n",
    "24664\n",
    "24679\n",
    "24110\n",
    "23586\n",
    "24569\n",
    "23533\n",
    "24674\n",
    "24639\n",
    "23906\n",
    "24728\n",
    "24830\n",
    "24746\n",
    "23621\n",
    "19022\n",
    "24673\n",
    "23681\n",
    "23698\n",
    "23699\n",
    "23705\n",
    "23713\n",
    "23734\n",
    "23736\n",
    "23741\n",
    "23673\n",
    "23749\n",
    "23640\n",
    "23643\n",
    "19752\n",
    "23585\n",
    "24631\n",
    "24117\n",
    "24823\n",
    "23805\n",
    "24868\n",
    "24274\n",
    "23486\n",
    "24765\n",
    "24136\n",
    "24176\n",
    "24230\n",
    "23641\n",
    "24842\n",
    "24627\n",
    "23865\n",
    "24734\n",
    "21234\n",
    "24243\n",
    "24739\n",
    "24876\n",
    "24206\n",
    "23819\n",
    "23847\n",
    "24799\n",
    "24254\n",
    "23667\n",
    "23683\n",
    "23685\n",
    "24809\n",
    "23924\n",
    "23800\n",
    "24621\n",
    "23596\n",
    "24648\n",
    "23555\n",
    "24116\n",
    "24187\n",
    "24608\n",
    "23890\n",
    "24819\n",
    "23824\n",
    "24640\n",
    "24651\n",
    "24574\n",
    "24745\n",
    "23988\n",
    "24593\n",
    "24088\n",
    "23776\n",
    "24132\n",
    "23472\n",
    "24587\n",
    "24642\n",
    "24662\n",
    "24783\n",
    "24785\n",
    "23597\n",
    "23649\n",
    "23622\n",
    "23632\n",
    "23473\n",
    "23474\n",
    "23968\n",
    "23436\n",
    "24794\n",
    "24162\n",
    "24632\n",
    "24167\n",
    "24288\n",
    "24375\n",
    "24680\"\"\".split('\\n')"
   ]
  },
  {
   "cell_type": "code",
   "execution_count": 42,
   "metadata": {},
   "outputs": [
    {
     "name": "stdout",
     "output_type": "stream",
     "text": [
      "База данных создана и успешно подключена к SQLite\n",
      "Соединение с SQLite закрыто\n"
     ]
    }
   ],
   "source": [
    "sqlite_insert_query = f\"\"\"\n",
    "UPDATE crm_questionanswerlog set it_finaly=0, it_interim=1, it_last_message_in_dialog=0 where id = ?\n",
    "\"\"\"\n",
    "# sqlite_insert_query = f\"\"\"\n",
    "# DELETE FROM crm_questionanswerlog where id = ?\n",
    "# \"\"\"\n",
    "\n",
    "try:\n",
    "    sqlite_connection = sqlite3.connect(addr_base)\n",
    "    cursor = sqlite_connection.cursor()\n",
    "    print(\"База данных создана и успешно подключена к SQLite\")\n",
    "\n",
    "    for i in list_of_user:\n",
    "        data = (i,)\n",
    "        cursor.execute(sqlite_insert_query, data)\n",
    "        sqlite_connection.commit()\n",
    "    cursor.close()\n",
    "\n",
    "except sqlite3.Error as error:\n",
    "    print(\"Ошибка при подключении к sqlite\", error)\n",
    "finally:\n",
    "    if (sqlite_connection):\n",
    "        sqlite_connection.close()\n",
    "        print(\"Соединение с SQLite закрыто\")"
   ]
  },
  {
   "attachments": {},
   "cell_type": "markdown",
   "metadata": {},
   "source": [
    "# Сравниваем с файлами"
   ]
  },
  {
   "attachments": {},
   "cell_type": "markdown",
   "metadata": {},
   "source": [
    "## Тема № 1"
   ]
  },
  {
   "cell_type": "code",
   "execution_count": 3,
   "metadata": {},
   "outputs": [],
   "source": [
    "them_n = 20\n",
    "n_them = 22-them_n"
   ]
  },
  {
   "cell_type": "code",
   "execution_count": 4,
   "metadata": {},
   "outputs": [],
   "source": [
    "def sql_base():\n",
    "\n",
    "    global addr_base, them_n\n",
    "\n",
    "    sqlite_query = f\"\"\"\n",
    "    SELECT question, answer_text, id FROM crm_questionanswerlog WHERE not it_test and category_id={them_n} and id_message > 0\n",
    "    \"\"\"\n",
    "\n",
    "    count = 0\n",
    "    count_row = 0\n",
    "    count_id = 0\n",
    "    list_answer = []\n",
    "    list_not_answer = []\n",
    "    try:\n",
    "        sqlite_connection = sqlite3.connect(addr_base)\n",
    "        cursor = sqlite_connection.cursor()\n",
    "        print(\"База данных создана и успешно подключена к SQLite\")\n",
    "\n",
    "        # for i in df_stat_file.index:\n",
    "            \n",
    "            # cursor.execute(sqlite_insert_query, (f'%{df_stat_file.loc[i, \"question\"].replace(\"_x000D_\", \"\").strip()}%',))\n",
    "        cursor.execute(sqlite_query)\n",
    "        records = cursor.fetchall()\n",
    "        count += len(records)\n",
    "        for row in records:\n",
    "            list_not_answer.append(row)\n",
    "            \n",
    "            \n",
    "        cursor.close()\n",
    "\n",
    "    except sqlite3.Error as error:\n",
    "        print(\"Ошибка при подключении к sqlite\", error)\n",
    "    finally:\n",
    "        if (sqlite_connection):\n",
    "            sqlite_connection.close()\n",
    "            print(\"Соединение с SQLite закрыто\")\n",
    "            print(len(list_not_answer))\n",
    "\n",
    "            return list_not_answer\n"
   ]
  },
  {
   "cell_type": "code",
   "execution_count": 5,
   "metadata": {},
   "outputs": [],
   "source": [
    "def func_pred(x):\n",
    "\n",
    "    if pd.isna(x):\n",
    "        return ''\n",
    "    else:\n",
    "        return str(x).replace('_x000D_', '').strip()"
   ]
  },
  {
   "cell_type": "code",
   "execution_count": 6,
   "metadata": {},
   "outputs": [],
   "source": [
    "def func_pred2(x):\n",
    "\n",
    "    if pd.isna(x):\n",
    "        return ''\n",
    "    else:\n",
    "        return str(x).replace('_x000D_', '').replace('\\n', '').replace(' ', '').strip()"
   ]
  },
  {
   "cell_type": "code",
   "execution_count": 7,
   "metadata": {},
   "outputs": [
    {
     "data": {
      "text/plain": [
       "['№ п/п',\n",
       " 'Вопрос',\n",
       " 'Дата и время поступления вопроса',\n",
       " 'Ответ',\n",
       " 'Дата и время публикации ответа',\n",
       " 'Количество лайков',\n",
       " 'Количество дизлайков']"
      ]
     },
     "execution_count": 7,
     "metadata": {},
     "output_type": "execute_result"
    }
   ],
   "source": [
    "columns = \"\"\"№ п/п\tВопрос\tДата и время поступления вопроса\tОтвет\tДата и время публикации ответа\tКоличество лайков\tКоличество дизлайков\"\"\".split('\t')\n",
    "columns"
   ]
  },
  {
   "cell_type": "code",
   "execution_count": 8,
   "metadata": {},
   "outputs": [],
   "source": [
    "def get_sheet_to_pandas(number_theme):\n",
    "\n",
    "    excel_file = 'Статистика ЕНС на 26.05.2023.xlsx' \n",
    "    wb = load_workbook(excel_file, data_only = True)\n",
    "    ws = wb[f'Тема_{number_theme}']\n",
    "\n",
    "    data = []\n",
    "    data_inner = []\n",
    "    count = 1\n",
    "    for row in ws.rows:\n",
    "        if count < 6:\n",
    "            count += 1\n",
    "            continue\n",
    "        count += 1\n",
    "        row_cells = []\n",
    "        for cell in row:\n",
    "            if type(cell) != openpyxl.cell.cell.MergedCell and cell.col_idx > 10:\n",
    "                break\n",
    "\n",
    "            cell_value = cell.value\n",
    "\n",
    "            if type(cell) != openpyxl.cell.cell.MergedCell and cell.col_idx == 5:\n",
    "                if cell.fill.fgColor.rgb == 'FFFFFF00':\n",
    "                    data_inner.append(1)\n",
    "                elif cell.fill.fgColor.rgb != '00000000' and cell.fill.fgColor.rgb != 'FFFFFFFF':\n",
    "                    data_inner.append(2)\n",
    "                else:\n",
    "                    data_inner.append(0)\n",
    "            row_cells.append(cell_value)\n",
    "        data.append(row_cells)\n",
    "\n",
    "    df_1 = pd.DataFrame(data[1:], columns=data[0])[columns]\n",
    "    df_1['answer_option'] = data_inner[1:]\n",
    "    df_1 = df_1[:-2]\n",
    "    df_1 = df_1[df_1['answer_option']!=2]\n",
    "    df_1 = df_1.reset_index(drop=True)\n",
    "    return df_1"
   ]
  },
  {
   "cell_type": "code",
   "execution_count": 259,
   "metadata": {},
   "outputs": [
    {
     "data": {
      "text/plain": [
       "(403, 11)"
      ]
     },
     "execution_count": 259,
     "metadata": {},
     "output_type": "execute_result"
    }
   ],
   "source": [
    "df_theme = pd.read_excel(f'statistica/Тема № {n_them}.xlsx')\n",
    "df_theme['Вопрос'] = df_theme['Вопрос'].apply(func_pred)\n",
    "df_theme['Ответ'] = df_theme['Ответ'].apply(func_pred)\n",
    "df_theme['question'] = df_theme['Вопрос'].copy()\n",
    "df_theme['answer_text'] = df_theme['Ответ'].copy()\n",
    "df_theme['Вопрос'] = df_theme['Вопрос'].apply(func_pred2)\n",
    "df_theme['Ответ'] = df_theme['Ответ'].apply(func_pred2)\n",
    "df_theme = df_theme.loc[df_theme['Перенаправление']!=1]\n",
    "df_theme.shape"
   ]
  },
  {
   "cell_type": "code",
   "execution_count": 9,
   "metadata": {},
   "outputs": [],
   "source": [
    "def get_dataset():\n",
    "    global n_them\n",
    "    df_theme = get_sheet_to_pandas(n_them)\n",
    "    df_theme['Вопрос'] = df_theme['Вопрос'].apply(func_pred)\n",
    "    df_theme['Ответ'] = df_theme['Ответ'].apply(func_pred)\n",
    "    df_theme['question'] = df_theme['Вопрос'].copy()\n",
    "    df_theme['answer_text'] = df_theme['Ответ'].copy()\n",
    "    df_theme['Вопрос'] = df_theme['Вопрос'].apply(func_pred2)\n",
    "    df_theme['Ответ'] = df_theme['Ответ'].apply(func_pred2)\n",
    "    df_theme['Промежуточный'] = df_theme['answer_option']\n",
    "    print(df_theme.shape)\n",
    "    return df_theme"
   ]
  },
  {
   "cell_type": "code",
   "execution_count": 40,
   "metadata": {},
   "outputs": [],
   "source": [
    "def similarity(a,b):\n",
    "    seq = SequenceMatcher(a=a, b=b)\n",
    "    return seq.ratio()"
   ]
  },
  {
   "cell_type": "code",
   "execution_count": 68,
   "metadata": {},
   "outputs": [],
   "source": [
    "l1 = str('бопа'.lower())"
   ]
  },
  {
   "cell_type": "code",
   "execution_count": 70,
   "metadata": {},
   "outputs": [
    {
     "data": {
      "text/plain": [
       "'бопа'"
      ]
     },
     "execution_count": 70,
     "metadata": {},
     "output_type": "execute_result"
    }
   ],
   "source": [
    "l1"
   ]
  },
  {
   "cell_type": "code",
   "execution_count": 74,
   "metadata": {},
   "outputs": [
    {
     "data": {
      "text/plain": [
       "0.32558139534883723"
      ]
     },
     "execution_count": 74,
     "metadata": {},
     "output_type": "execute_result"
    }
   ],
   "source": [
    "similarity('спасибо', 'Здравствуйте! Спасибо за информацию.')"
   ]
  },
  {
   "cell_type": "code",
   "execution_count": 11,
   "metadata": {},
   "outputs": [],
   "source": [
    "def get_data():\n",
    "\n",
    "    global list_not_answer, df_theme\n",
    "\n",
    "    list_theme_add = []\n",
    "    list_theme_delete = []\n",
    "    list_theme_update = []\n",
    "    id_delete = []\n",
    "    list_another = []\n",
    "\n",
    "    for row in list_not_answer:\n",
    "\n",
    "        question = row[0].replace('_x000D_', '').replace('\\n', '').replace(' ', '').strip()\n",
    "        # Ищем вопрос из базы в файле по подстроке\n",
    "        find_rows = df_theme[df_theme['Вопрос'].str.contains(question, regex=False)].copy()\n",
    "\n",
    "        # Если не нашли, запишем в лист и удалять пока не будет\n",
    "        if len(find_rows) == 0:\n",
    "            list_index_rows = []\n",
    "            for rows_df in df_theme.index:\n",
    "                df_them_row = df_theme.loc[rows_df]\n",
    "                prec = similarity(df_them_row['Вопрос'], question)\n",
    "                # print('тут')\n",
    "                if prec >= 0.85:\n",
    "                    list_index_rows.append(rows_df)\n",
    "            if len(list_index_rows) != 1:\n",
    "                list_theme_delete.append(row[2])\n",
    "                continue\n",
    "                find_row.loc[list_index_rows[0]]\n",
    "        elif len(find_rows) > 1:\n",
    "            # Если нашли больше одного, то попробуем ещё искать с овтетом\n",
    "            find_row_answer = find_rows[find_rows['Ответ'].str.contains(str(row[1]).replace('_x000D_', '').replace('\\n', '').replace(' ', '').strip(), regex=False) ].copy()\n",
    "            if len(find_row_answer) == 0:\n",
    "                list_theme_delete.append(row[2])    \n",
    "                continue\n",
    "            elif len(find_row_answer) > 2:\n",
    "                list_theme_delete.append(row[2])\n",
    "                print(row)\n",
    "                continue\n",
    "            fund_rows = find_row_answer.copy()\n",
    "\n",
    "        for indx in find_rows.index:\n",
    "            find_row = df_theme.loc[indx]\n",
    "\n",
    "            id_delete.append(indx)\n",
    "\n",
    "        if row[1] == None and pd.isna(find_row['Ответ']):\n",
    "            continue\n",
    "\n",
    "        like = 0\n",
    "        if not pd.isna(find_row['Количество лайков']):\n",
    "            like = int(find_row['Количество лайков'])\n",
    "\n",
    "        dislike = 0\n",
    "        if not pd.isna(find_row['Количество дизлайков']):\n",
    "            dislike = int(find_row['Количество дизлайков'])\n",
    "\n",
    "        try:\n",
    "            dt_question = pd.to_datetime(find_row['Дата и время поступления вопроса'], format='%d.%m.%Y, %H.%M')\n",
    "            if pd.isnull(dt_question):\n",
    "                dt_question = None\n",
    "        except:\n",
    "            dt_question = datetime.datetime.now()\n",
    "\n",
    "        try:\n",
    "            dt_answer = pd.to_datetime(find_row['Дата и время публикации ответа'], format='%d.%m.%Y, %H.%M')\n",
    "            if pd.isnull(dt_answer):\n",
    "                dt_answer = None\n",
    "        except:\n",
    "            dt_answer = datetime.datetime.now()\n",
    "\n",
    "        inner = 0\n",
    "        if not pd.isna(find_row['Промежуточный']):\n",
    "            inner = int(find_row['Промежуточный'])\n",
    "\n",
    "        if (find_row['Ответ'] == '') or \\\n",
    "            (row[1] == None and find_row['Ответ'] != '') or \\\n",
    "            (row[1] != None and find_row['Вопрос'] != '' and row[1].replace('_x000D_', '').replace('\\n', '').replace(' ', '').strip() == find_row['Ответ']):\n",
    "            list_theme_update.append({'question': find_row['question'], \n",
    "                                    'answer_text': find_row['answer_text'], \n",
    "                                    'id': row[2], 'like': like, 'dislike': dislike,\n",
    "                                    'datetime': dt_answer, 'datetime_question': dt_question, 'inner': inner})\n",
    "        else:\n",
    "            list_another.append(row)\n",
    "\n",
    "    if len(id_delete) > 0:\n",
    "        for i in df_theme.drop(index=id_delete).index:\n",
    "\n",
    "            row_theme = df_theme.loc[i]\n",
    "\n",
    "            like = 0\n",
    "            if not pd.isna(row_theme['Количество лайков']):\n",
    "                like = int(row_theme['Количество лайков'])\n",
    "\n",
    "            dislike = 0\n",
    "            if not pd.isna(row_theme['Количество дизлайков']):\n",
    "                dislike = int(row_theme['Количество дизлайков'])\n",
    "\n",
    "            try:\n",
    "                dt_question = pd.to_datetime(row_theme['Дата и время поступления вопроса'], format='%d.%m.%Y, %H.%M')\n",
    "            except:\n",
    "                dt_question = datetime.datetime.now()\n",
    "\n",
    "            try:\n",
    "                dt_answer = pd.to_datetime(row_theme['Дата и время публикации ответа'], format='%d.%m.%Y, %H.%M')\n",
    "            except:\n",
    "                dt_answer = datetime.datetime.now()\n",
    "\n",
    "            inner = 0\n",
    "            if not pd.isna(row_theme['Промежуточный']):\n",
    "                inner = int(row_theme['Промежуточный'])\n",
    "\n",
    "            list_theme_add.append({'question': row_theme['question'], \n",
    "                                'answer_text': row_theme['answer_text'], \n",
    "                                'id': None, 'like': like, 'dislike': dislike,\n",
    "                                'datetime': dt_answer, 'datetime_question': dt_question, 'inner': inner})\n",
    "\n",
    "            \n",
    "\n",
    "\n",
    "    print('Удалить:',len(list_theme_delete))\n",
    "    print('Обновить:',len(list_theme_update))\n",
    "    print('Добавить:',len(list_theme_add))\n",
    "    print('Без действий:',len(list_another))\n",
    "\n",
    "    return list_theme_add, list_theme_update"
   ]
  },
  {
   "cell_type": "code",
   "execution_count": 15,
   "metadata": {},
   "outputs": [
    {
     "name": "stdout",
     "output_type": "stream",
     "text": [
      "18\n",
      "0\n",
      "502\n"
     ]
    }
   ],
   "source": [
    "count_f = 0\n",
    "count_not = 0\n",
    "for i in list_theme_update:\n",
    "    if i['inner']:\n",
    "        count_f+=1\n",
    "    if i['answer_text'] == None:\n",
    "        count_not+=1\n",
    "print(count_f)\n",
    "print(count_not)\n",
    "print(len(list_theme_update)-count_f+len(list_another))\n"
   ]
  },
  {
   "cell_type": "code",
   "execution_count": 16,
   "metadata": {},
   "outputs": [
    {
     "data": {
      "text/plain": [
       "'\\nINSERT INTO crm_questionanswerlog VALUES(?,?,?,?,?,?,?,?,?,?,?,?,?,?,?,?,?,?,?,?,?,?,?)\\n'"
      ]
     },
     "execution_count": 16,
     "metadata": {},
     "output_type": "execute_result"
    }
   ],
   "source": [
    "sqlite_insert_query = f\"\"\"\n",
    "INSERT INTO crm_questionanswerlog VALUES({','.join(['?']*23)})\n",
    "\"\"\"\n",
    "sqlite_insert_query"
   ]
  },
  {
   "cell_type": "code",
   "execution_count": 12,
   "metadata": {},
   "outputs": [],
   "source": [
    "# ДОБАВЛЕНИЕ\n",
    "def add_data():\n",
    "\n",
    "    global list_theme_add, n_them, addr_base\n",
    "\n",
    "    sqlite_insert_query = f\"\"\"\n",
    "    INSERT INTO crm_questionanswerlog VALUES({','.join(['?']*23)})\n",
    "    \"\"\"\n",
    "\n",
    "    try:\n",
    "        sqlite_connection = sqlite3.connect(addr_base)\n",
    "        cursor = sqlite_connection.cursor()\n",
    "        print(\"База данных создана и успешно подключена к SQLite\")\n",
    "\n",
    "        for i in list_theme_add:\n",
    "            query = [None, ] * 23\n",
    "            query[0] = None\n",
    "            query[1] = 1\n",
    "            query[2] = i['question']\n",
    "            query[3] = str(i['datetime'])\n",
    "            query[4] = str(i['datetime_question'])\n",
    "            query[6] = i['answer_text']\n",
    "            query[7] = 0\n",
    "            query[8] = them_n #Категория\n",
    "            query[12] = 0\n",
    "            query[13] = i['like'] #ДизЛайк\n",
    "            query[14] = i['dislike'] #Лайк\n",
    "            query[17] = int(not i['inner'])\n",
    "            query[18] = 0\n",
    "            query[20] = 1\n",
    "            query[21] = i['inner']\n",
    "            cursor.executemany(sqlite_insert_query, [tuple(query)])\n",
    "            sqlite_connection.commit()\n",
    "        cursor.close()\n",
    "\n",
    "    except sqlite3.Error as error:\n",
    "        print(\"Ошибка при подключении к sqlite\", error)\n",
    "    finally:\n",
    "        if (sqlite_connection):\n",
    "            sqlite_connection.close()\n",
    "            print(\"Соединение с SQLite закрыто\")"
   ]
  },
  {
   "cell_type": "code",
   "execution_count": 13,
   "metadata": {},
   "outputs": [],
   "source": [
    "# ОБНОВЛЕНИЕ\n",
    "def update_data():\n",
    "    \n",
    "    global list_theme_update, addr_base\n",
    "\n",
    "    try:\n",
    "        sqlite_connection = sqlite3.connect(addr_base)\n",
    "        cursor = sqlite_connection.cursor()\n",
    "        print(\"База данных создана и успешно подключена к SQLite\")\n",
    "\n",
    "        for i in list_theme_update:\n",
    "            \n",
    "            data = (i['like'],\n",
    "                    i['dislike'],\n",
    "                    i['inner'],\n",
    "                    int(not i['inner']),\n",
    "                    str(i['datetime']),\n",
    "                    str(i['datetime_question']),\n",
    "                    i['id'])\n",
    "\n",
    "            if i['datetime'] == None:\n",
    "                sqlite_insert_query = f\"\"\"\n",
    "        UPDATE crm_questionanswerlog set like={i['like']}, dislike={i['dislike']}, it_interim={i['inner']}, it_finaly={int(not i['inner'])}, datetime=null, datetime_question='{str(i['datetime_question'])}', answer_text=null where id = {i['id']}\n",
    "        \"\"\"\n",
    "            else:\n",
    "                sqlite_insert_query = f\"\"\"\n",
    "        UPDATE crm_questionanswerlog set like={i['like']}, dislike={i['dislike']}, it_interim={i['inner']}, it_finaly={int(not i['inner'])}, datetime='{str(i['datetime'])}', datetime_question='{str(i['datetime_question'])}', answer_text='{i['answer_text']}' where id = {i['id']}\n",
    "        \"\"\"\n",
    "            \n",
    "            cursor.execute(sqlite_insert_query)\n",
    "            sqlite_connection.commit()\n",
    "        cursor.close()\n",
    "\n",
    "    except sqlite3.Error as error:\n",
    "        print(\"Ошибка при подключении к sqlite\", error)\n",
    "    finally:\n",
    "        if (sqlite_connection):\n",
    "            sqlite_connection.close()\n",
    "            print(\"Соединение с SQLite закрыто\")"
   ]
  },
  {
   "cell_type": "code",
   "execution_count": 174,
   "metadata": {},
   "outputs": [
    {
     "name": "stdout",
     "output_type": "stream",
     "text": [
      "База данных создана и успешно подключена к SQLite\n",
      "Соединение с SQLite закрыто\n"
     ]
    }
   ],
   "source": [
    "# УДАЛЕНИЕ\n",
    "sqlite_insert_query = f\"\"\"\n",
    "DELETE FROM crm_questionanswerlog where id = ?\n",
    "\"\"\"\n",
    "\n",
    "try:\n",
    "    sqlite_connection = sqlite3.connect(addr_base)\n",
    "    cursor = sqlite_connection.cursor()\n",
    "    print(\"База данных создана и успешно подключена к SQLite\")\n",
    "\n",
    "    for i in list_theme_delete:\n",
    "        data = (i,)\n",
    "        cursor.execute(sqlite_insert_query, data)\n",
    "        sqlite_connection.commit()\n",
    "    cursor.close()\n",
    "\n",
    "except sqlite3.Error as error:\n",
    "    print(\"Ошибка при подключении к sqlite\", error)\n",
    "finally:\n",
    "    if (sqlite_connection):\n",
    "        sqlite_connection.close()\n",
    "        print(\"Соединение с SQLite закрыто\")"
   ]
  },
  {
   "cell_type": "code",
   "execution_count": null,
   "metadata": {},
   "outputs": [],
   "source": [
    "#11"
   ]
  },
  {
   "cell_type": "code",
   "execution_count": 15,
   "metadata": {},
   "outputs": [
    {
     "name": "stdout",
     "output_type": "stream",
     "text": [
      "База данных создана и успешно подключена к SQLite\n",
      "Соединение с SQLite закрыто\n",
      "320\n",
      "(316, 11)\n",
      "Удалить: 7\n",
      "Обновить: 308\n",
      "Добавить: 4\n",
      "Без действий: 5\n"
     ]
    }
   ],
   "source": [
    "#ПОЛУЧИМ ДАННЫЕ\n",
    "them_n = 11\n",
    "n_them = 22-them_n\n",
    "\n",
    "list_not_answer = sql_base()\n",
    "df_theme = get_dataset()\n",
    "list_theme_add, list_theme_update = get_data()"
   ]
  },
  {
   "cell_type": "code",
   "execution_count": 16,
   "metadata": {},
   "outputs": [
    {
     "name": "stdout",
     "output_type": "stream",
     "text": [
      "База данных создана и успешно подключена к SQLite\n",
      "Соединение с SQLite закрыто\n",
      "База данных создана и успешно подключена к SQLite\n",
      "Соединение с SQLite закрыто\n"
     ]
    }
   ],
   "source": [
    "add_data()\n",
    "update_data()"
   ]
  },
  {
   "cell_type": "code",
   "execution_count": null,
   "metadata": {},
   "outputs": [],
   "source": []
  },
  {
   "cell_type": "code",
   "execution_count": null,
   "metadata": {},
   "outputs": [],
   "source": []
  },
  {
   "attachments": {},
   "cell_type": "markdown",
   "metadata": {},
   "source": [
    "# Восстановление сообщений"
   ]
  },
  {
   "cell_type": "code",
   "execution_count": 34,
   "metadata": {},
   "outputs": [
    {
     "name": "stdout",
     "output_type": "stream",
     "text": [
      "400\n",
      "48\n"
     ]
    }
   ],
   "source": [
    "list_messages_add = []\n",
    "list_messages = await my_app_telegram_prog.get_chat_history_tg(400)\n",
    "\n",
    "for message in list_messages:\n",
    "\n",
    "    if  message.reply_to_message_id == None or message.reply_to_message_id == 33132 or message.text == None:\n",
    "        continue\n",
    "\n",
    "    sqlite_query = f\"\"\"\n",
    "    SELECT question, answer_text, id FROM crm_questionanswerlog WHERE not it_test and (question like'%{message.text[:50]}%' or answer_text like '%{message.text[:50]}%')\n",
    "    \"\"\"\n",
    "\n",
    "    count = 0\n",
    "    count_row = 0\n",
    "    count_id = 0\n",
    "    list_answer = []\n",
    "    list_not_answer = []\n",
    "    try:\n",
    "        sqlite_connection = sqlite3.connect(addr_base)\n",
    "        cursor = sqlite_connection.cursor()\n",
    "        # print(\"База данных создана и успешно подключена к SQLite\")\n",
    "\n",
    "        # for i in df_stat_file.index:\n",
    "            \n",
    "            # cursor.execute(sqlite_insert_query, (f'%{df_stat_file.loc[i, \"question\"].replace(\"_x000D_\", \"\").strip()}%',))\n",
    "        cursor.execute(sqlite_query)\n",
    "        records = cursor.fetchall()\n",
    "        if len(records) == 0 and message.text != 'Спасибо)':\n",
    "            list_messages_add.append(message)            \n",
    "            \n",
    "        cursor.close()\n",
    "\n",
    "    except sqlite3.Error as error:\n",
    "        print(\"Ошибка при подключении к sqlite\", error)\n",
    "    finally:\n",
    "        if (sqlite_connection):\n",
    "            sqlite_connection.close()\n",
    "\n",
    "\n",
    "print(len(list_messages))\n",
    "print(len(list_messages_add))\n",
    "#message.reply_to_top_message_id == None or"
   ]
  },
  {
   "cell_type": "code",
   "execution_count": 28,
   "metadata": {},
   "outputs": [
    {
     "name": "stdout",
     "output_type": "stream",
     "text": [
      "---------------\n",
      "Дата: 2023-05-29 10:10:34\n",
      "Сообщение: Данные уведомления в ветке 101.2 сторнированы, нет сторно в ОКНО. Можно написать заявку на СТП\n",
      "Пост: 14008\n",
      "Ответ: 32789\n",
      "id_message: 32803\n",
      "Пользователь: BabaevaTA\n",
      "---------------\n",
      "Дата: 2023-05-29 10:34:54\n",
      "Сообщение: Здравствуйте, подскажите пожалуйста, Плательщик написал заявление о зачёте третьему лицу, при обработке заявления возникли ошибки \"заявление имеет ошибки\". Плательщик очень проблемный. Помогите провести зачёты третьему лицу. СПАСИБО 🙏\n",
      "Пост: None\n",
      "Ответ: 26454\n",
      "id_message: 32807\n",
      "Пользователь: None\n",
      "---------------\n",
      "Дата: 2023-05-29 10:38:13\n",
      "Сообщение: Данный вопрос не относится к методологии ЕНС. Рабочие вопросы решайте со своим руководством.\n",
      "Пост: 11297\n",
      "Ответ: 32796\n",
      "id_message: 32808\n",
      "Пользователь: Marysia2089\n",
      "---------------\n",
      "Дата: 2023-05-29 12:24:43\n",
      "Сообщение: Осуществить корректировку пени после 01.01.23 возможно с помощью журнала льгот.\n",
      "Пост: 11295\n",
      "Ответ: 32799\n",
      "id_message: 32824\n",
      "Пользователь: Какой то засранец под админом\n",
      "---------------\n",
      "Дата: 2023-05-29 14:02:14\n",
      "Сообщение: Спасибо большое 😊\n",
      "Пост: None\n",
      "Ответ: 11272\n",
      "id_message: 32832\n",
      "Пользователь: KTV1809\n",
      "---------------\n",
      "Дата: 2023-05-29 15:07:36\n",
      "Сообщение: НО-6910 Белякова Е. А.. Здравствуйте подскажите пожалуйста судебные приставы взыскивают налоги с физ.лиц, но при перечислении ставили КБК 18211705010016000180- прочие неналоговые доходы федерального бюджета. Они находятся в ЖНД -ll раздела. А надо было на НДФЛ. Теперь мы не можем уточнить платеж и соответственно у налогоплательщика остаётся долг. Как можно решить данный вопрос.Подскажите в какую тему можно задать этот вопрос.\n",
      "Пост: None\n",
      "Ответ: 12742\n",
      "id_message: 32851\n",
      "Пользователь: None\n",
      "---------------\n",
      "Дата: 2023-05-29 15:55:17\n",
      "Сообщение: Наталья, добрый день. Получила сообщение для вас, что таких режимов в АИС нет\n",
      "Пост: 12742\n",
      "Ответ: 32677\n",
      "id_message: 32855\n",
      "Пользователь: KriEkaterina\n",
      "---------------\n",
      "Дата: 2023-05-29 16:03:45\n",
      "Сообщение: Алгоритм работы АисНалог3\n",
      "Пост: 11295\n",
      "Ответ: 32229\n",
      "id_message: 32856\n",
      "Пользователь: Какой то засранец под админом\n",
      "---------------\n",
      "Дата: 2023-05-29 16:11:58\n",
      "Сообщение: Осуществить корректировку неправомерно начисленной пени возможно с помощью журнала льгот\n",
      "Пост: 11295\n",
      "Ответ: 32040\n",
      "id_message: 32857\n",
      "Пользователь: Какой то засранец под админом\n",
      "---------------\n",
      "Дата: 2023-05-29 16:21:19\n",
      "Сообщение: Ошибка. Обратитесь с заявкой на стп\n",
      "Пост: 11295\n",
      "Ответ: 32740\n",
      "id_message: 32859\n",
      "Пользователь: Какой то засранец под админом\n",
      "---------------\n",
      "Дата: 2023-05-29 16:45:43\n",
      "Сообщение: Здравствуйте! НО 1200\n",
      "В 29 сентябре 2022 НО 7713 после разделения ошибочно слитых ФЛ ИНН 771318222730 - перешла задолженность транспортного налога на ИНН 120400402327 с ОКТМО 45346000. \n",
      "Что можно предпринять с данной задолженностью, обращение НП.\n",
      "Пост: None\n",
      "Ответ: 12742\n",
      "id_message: 32863\n",
      "Пользователь: None\n",
      "---------------\n",
      "Дата: 2023-05-29 16:58:26\n",
      "Сообщение: У данного НП (ИНН120400402327) зачлась не правомерно сумма, которая подтверждена КНП к уменьшению по 3-НДФЛ.\n",
      "Пост: 12742\n",
      "Ответ: 32863\n",
      "id_message: 32864\n",
      "Пользователь: None\n",
      "---------------\n",
      "Дата: 2023-05-29 17:40:34\n",
      "Сообщение: В настоящее время проводится доработка ПО.\n",
      "Пост: 11297\n",
      "Ответ: 32792\n",
      "id_message: 32868\n",
      "Пользователь: Lius_Anna\n",
      "---------------\n",
      "Дата: 2023-05-29 17:54:26\n",
      "Сообщение: Марина, здравствуйте. У вас получился по одному плательщику неправомерный зачет, а по другому задолженность?\n",
      "Пост: 12742\n",
      "Ответ: 32864\n",
      "id_message: 32873\n",
      "Пользователь: KriEkaterina\n",
      "---------------\n",
      "Дата: 2023-05-29 17:59:23\n",
      "Сообщение: Нет, все у одного налогоплательщика и задолженность не правомерно и после подтверждения НДФЛ произведен зачёт в счёт погашения задолженности\n",
      "Пост: None\n",
      "Ответ: 12742\n",
      "id_message: 32874\n",
      "Пользователь: None\n",
      "---------------\n",
      "Дата: 2023-05-29 19:00:08\n",
      "Сообщение: Ок, спасибо\n",
      "Пост: 11295\n",
      "Ответ: 32859\n",
      "id_message: 32879\n",
      "Пользователь: None\n",
      "---------------\n",
      "Дата: 2023-05-29 19:56:12\n",
      "Сообщение: Ольга, здравствуйте!\n",
      "\n",
      "В настоящее время наполнение модулей ведётся только на внутреннем контуре Образовательного портала, т.е. учебные материалы доступны только с внутриведомственной сети ФНС (с рабочего места).\n",
      "\n",
      "Скорее всего, размещение материалов на внешнем контуре ОП будет реализовано после наполнения модуля всеми возможными материалами.\n",
      "Пост: 11260\n",
      "Ответ: 32814\n",
      "id_message: 32882\n",
      "Пользователь: KriEkaterina\n",
      "---------------\n",
      "Дата: 2023-05-29 20:08:07\n",
      "Сообщение: До особых распоряжений ФНС ни приставам, ни в банки ничего на взыскание не направляем. Тем более на бумаге. Пока можно только вводить инфу по полученым Судебным актам.\n",
      "Пост: 11297\n",
      "Ответ: 32866\n",
      "id_message: 32885\n",
      "Пользователь: None\n",
      "---------------\n",
      "Дата: 2023-05-30 00:46:54\n",
      "Сообщение: Марина, вам надо собрать этот вопрос в одно сообщение и задать в блоке 3\n",
      "Пост: 12742\n",
      "Ответ: 32874\n",
      "id_message: 32897\n",
      "Пользователь: KriEkaterina\n",
      "---------------\n",
      "Дата: 2023-05-30 09:39:38\n",
      "Сообщение: Здравствуйте. В 9967 . Нужно уточнить сотку (кбк 100117... ) по плательщице 434548805337, платеж от 17.03.2023 и 24.04.2023. Сальдо енс показывает отрицательное, после уточнениея сальдо должно стать положительным.\n",
      "Пост: None\n",
      "Ответ: 11263\n",
      "id_message: 32915\n",
      "Пользователь: None\n",
      "---------------\n",
      "Дата: 2023-05-30 09:44:13\n",
      "Сообщение: Данный вопрос решается в рабочем  порядке и со своим руководством.\n",
      "Пост: 11297\n",
      "Ответ: 32899\n",
      "id_message: 32919\n",
      "Пользователь: Marysia2089\n",
      "---------------\n",
      "Дата: 2023-05-30 10:26:11\n",
      "Сообщение: Добрый день. 2400, ИНН 2450027430, уменьшения по земельному налогу 2023 года не перенеслись в ОПБ. Реестровый период 2013 ( срок уплаты 10.02.2014 - 488 982,00; 10.02.2014 - 383 595,00), 2014 год( срок уплаты 10.02.2015 - 872 577,00).\n",
      "Пост: None\n",
      "Ответ: 11322\n",
      "id_message: 32931\n",
      "Пользователь: None\n",
      "---------------\n",
      "Дата: 2023-05-30 10:38:30\n",
      "Сообщение: Заявление заводите.\n",
      "Пост: 11272\n",
      "Ответ: 32937\n",
      "id_message: 32938\n",
      "Пользователь: marysyaa_sergeevna\n",
      "---------------\n",
      "Дата: 2023-05-30 11:01:23\n",
      "Сообщение: Данный режим не реализован.\n",
      "Рекомендуем посмотреть ВКС от 29.05.2023.\n",
      "Пост: 11272\n",
      "Ответ: 32913\n",
      "id_message: 32941\n",
      "Пользователь: marysyaa_sergeevna\n",
      "---------------\n",
      "Дата: 2023-05-30 11:25:42\n",
      "Сообщение: ИНН 2336023616. По прибыли были зарезервированы суммы.\n",
      "1. Почему прошли начисления по прибыли и они зачлись не из зарезервированных сумм, а из ЕНС?\n",
      "2. Как зачесть всю сумму резерва по прибыли на ЕНС?\n",
      "Пост: None\n",
      "Ответ: 11271\n",
      "id_message: 32948\n",
      "Пользователь: None\n",
      "---------------\n",
      "Дата: 2023-05-30 11:40:39\n",
      "Сообщение: Начисления по решению встанут в Енс по дате вступления в силу решения и пеня будет начисляться в общеустановленном порядке в зависимости от сальдо Енс.\n",
      "Пост: 11295\n",
      "Ответ: 32880\n",
      "id_message: 32956\n",
      "Пользователь: Какой то засранец под админом\n",
      "---------------\n",
      "Дата: 2023-05-30 11:42:30\n",
      "Сообщение: Через журнал льгот\n",
      "Пост: 11295\n",
      "Ответ: 32911\n",
      "id_message: 32957\n",
      "Пользователь: Какой то засранец под админом\n",
      "---------------\n",
      "Дата: 2023-05-30 11:52:26\n",
      "Сообщение: Осуществить корректировку неправомерно начисленной пени, возможно с помощью журнала льгот\n",
      "Пост: 11295\n",
      "Ответ: 30672\n",
      "id_message: 32960\n",
      "Пользователь: Какой то засранец под админом\n",
      "---------------\n",
      "Дата: 2023-05-30 11:54:18\n",
      "Сообщение: Осуществить корректировку неправомерно начисленной пени, возможно с помощью журнала льгот\n",
      "Пост: 11295\n",
      "Ответ: 30504\n",
      "id_message: 32961\n",
      "Пользователь: Какой то засранец под админом\n",
      "---------------\n",
      "Дата: 2023-05-30 12:13:37\n",
      "Сообщение: Проанализируйте крсб и окно. Пеня начисляется за каждый календарный день просрочки исполнения обязанности по уплате налогов, начиная со дня возникновения недоимки  по день исполнения совокупной обязанности по уплате налогов.\n",
      "Пост: 11295\n",
      "Ответ: 27027\n",
      "id_message: 32969\n",
      "Пользователь: Какой то засранец под админом\n",
      "---------------\n",
      "Дата: 2023-05-30 14:25:54\n",
      "Сообщение: Вам необходимо обратиться в отдел РСБ, и там посмотреть в назначении платежа, почему банк вернул денежные средства.\n",
      "Пост: 11272\n",
      "Ответ: 32968\n",
      "id_message: 32994\n",
      "Пользователь: marysyaa_sergeevna\n",
      "---------------\n",
      "Дата: 2023-05-30 14:28:53\n",
      "Сообщение: Ответ на вопрос озвучен методологами ФНС. В данный момент иного алгоритма нет. Зачет платежей осуществляется в соответствии со статьей 45 НК РФ. В данное время согласуется правовая позиция. Решение будет доведено.\n",
      "Пост: 11297\n",
      "Ответ: 32896\n",
      "id_message: 32995\n",
      "Пользователь: Lius_Anna\n",
      "---------------\n",
      "Дата: 2023-05-30 16:30:21\n",
      "Сообщение: Спасибо))\n",
      "Пост: 11272\n",
      "Ответ: 33015\n",
      "id_message: 33024\n",
      "Пользователь: Olga_Nikolaevna_Kulikova\n",
      "---------------\n",
      "Дата: 2023-05-30 20:54:08\n",
      "Сообщение: Здравствуйте! \n",
      "1 вопрос- Организацией была уплата  28 декабря 2022 г по налогу на имущество организаций, при формировании платежного поручения нп ошибся в кпп , Платеж был разнесен 09.01.2023 в енс ( Окно по имуществу организаций ) открылось налоговое обязательство и создано фиктивное уведомление на эти платежи \n",
      "НП попробовал подать уведомление на 0, на это ошибочное кпп \n",
      "Уведомление принято но не требуется перенос в крсб \n",
      "Как сторнировать данное уведомление, чтобы поднять переплату на енп? \n",
      "Инн 7728135260 \n",
      "2 вопрос - в подсистеме 101.2_04 реестр строк фиктивных уведомлений есть неактивная кнопка - сторнировать фиктивное начисление- для кого эта функция активна ?\n",
      "Пост: None\n",
      "Ответ: 14008\n",
      "id_message: 33053\n",
      "Пользователь: None\n",
      "---------------\n",
      "Дата: 2023-05-31 08:38:15\n",
      "Сообщение: Данная иконка в программном комплексе отсутствует. Все фиксы установлены.\n",
      "Пост: 11297\n",
      "Ответ: 32922\n",
      "id_message: 33062\n",
      "Пользователь: None\n",
      "---------------\n",
      "Дата: 2023-05-31 09:48:04\n",
      "Сообщение: У вас получилось? Как открывали окно? Можно ли с Вами связаться? 5007 13-52\n",
      "Пост: 11272\n",
      "Ответ: 33032\n",
      "id_message: 33072\n",
      "Пользователь: None\n",
      "---------------\n",
      "Дата: 2023-05-31 11:02:46\n",
      "Сообщение: Осуществить корректировку неправомерно начисленной пени, возможно с помощью журнала льгот.\n",
      "Пост: 11295\n",
      "Ответ: 32943\n",
      "id_message: 33090\n",
      "Пользователь: Какой то засранец под админом\n",
      "---------------\n",
      "Дата: 2023-05-31 11:04:39\n",
      "Сообщение: Несвоевременное предоставление/не предоставление уведомления об исчисленных суммах  налога не позволит распределить деньги в бюджет, что приведет к начислению пени\n",
      "Пост: 11295\n",
      "Ответ: 33057\n",
      "id_message: 33092\n",
      "Пользователь: Какой то засранец под админом\n",
      "---------------\n",
      "Дата: 2023-05-31 13:05:23\n",
      "Сообщение: Да, будет висеть до момента завершения КНП. После Вы должны будете принять решение утверждать/отклонять.\n",
      "Не будет просрочено.\n",
      "Срок возврат начинает исчисляться после завершения КНП.\n",
      "Рекомендуем ознакомиться с НК РФ.\n",
      "Пост: 11272\n",
      "Ответ: 33102\n",
      "id_message: 33104\n",
      "Пользователь: marysyaa_sergeevna\n",
      "---------------\n",
      "Дата: 2023-05-31 13:42:07\n",
      "Сообщение: Добрый день, у нас тоже налогоплательщик представил уведомление по Усн за 1 квартал 2023, в окно уведомление легло 2 раза, образовалась недоимка, что делать? ИНН 170101691256.\n",
      "Пост: None\n",
      "Ответ: 14008\n",
      "id_message: 33108\n",
      "Пользователь: None\n",
      "---------------\n",
      "Дата: 2023-05-31 14:29:45\n",
      "Сообщение: Мы проанализировали Крсб и ОКНО. У налогоплательщика на каждый срок уплаты 2022 года переплата, которой достаточно для своевременного и полного погашения обязанности. Почему считается пеня?\n",
      "Пост: 11295\n",
      "Ответ: 32969\n",
      "id_message: 33113\n",
      "Пользователь: None\n",
      "---------------\n",
      "Дата: 2023-05-31 14:38:24\n",
      "Сообщение: Отдел РСБ ответили, что такой возможности. ОКНО открывается автоматически по операциям уплаты или начислениями. Подскажите пожалуйста, что дальше делать, как вернуть деньги?\n",
      "Пост: 11272\n",
      "Ответ: 33029\n",
      "id_message: 33114\n",
      "Пользователь: None\n",
      "---------------\n",
      "Дата: 2023-05-31 14:39:08\n",
      "Сообщение: Здравствуйте . Налогоплательщик инн 505601450575 излишне зачел по заявлению сумму по страховым кбк 18210203000010000160. Отмена зачета не проходит . Написали на возврат . Сформировался отказ с текстом: в случае предоставления декларации с целью получения вычета , заявление необходимо представить после завершения комплекса мероприятий . Как вернуть переплату , ошибочно зачтенную на этот кбк ?\n",
      "Пост: None\n",
      "Ответ: 11272\n",
      "id_message: 33115\n",
      "Пользователь: None\n",
      "---------------\n",
      "Дата: 2023-05-31 14:43:17\n",
      "Сообщение: Здравствуйте . Налогоплательщики звонят и пишут , что направляют отмену зачета по кбк 18210203000010000160 в связи с ошибочным зачетом туда денежных средств. Отмена ни у кого не проходит . Или ошибка выпадает или не найдено заявление. Как осуществить отмену зачета с этого кбк? Или это не реализовано ?\n",
      "Пост: None\n",
      "Ответ: 11271\n",
      "id_message: 33116\n",
      "Пользователь: None\n",
      "---------------\n",
      "Дата: 2023-05-31 17:02:50\n",
      "Сообщение: 0.990 0\n",
      "Пост: None\n",
      "Ответ: 26454\n",
      "id_message: 33127\n",
      "Пользователь: None\n",
      "---------------\n",
      "Дата: 2023-05-31 17:56:41\n",
      "Сообщение: Добрый день.  Балыкина Л.А. 6910. Не знаю в какую тему обращаться. \n",
      "Обратился НП по сверки, ИНН 690902790520, по вопросу возврата НДФЛ. Выявлено, что в окно НДФЛ  закрыта сумма 38949.50 и такая же сумма фигурирует в сальдо ЕНС.  Т.е если визуально то переплата у НП это сальдо ЕНС плюс закрытая сумма в окно НДФЛ (38949.50+ 38949.50=77899)\n",
      "Но фактически должно быть только 38949.50. \n",
      "Что это , ошибка визуализации?\n",
      "Пост: None\n",
      "Ответ: 12742\n",
      "id_message: 33132\n",
      "Пользователь: None\n",
      "---------------\n",
      "Дата: 2023-05-31 18:25:08\n",
      "Сообщение: Обратитесь к Вашему ЗАМПОЕНС. \n",
      "Также рекомендуем направить заявку на СТП в блок РСБ, а не УЗ.\n",
      "Пост: 11272\n",
      "Ответ: 33114\n",
      "id_message: 33136\n",
      "Пользователь: marysyaa_sergeevna\n",
      "---------------\n",
      "Дата: 2023-05-31 18:37:55\n",
      "Сообщение: Раз у Вас не получилось отменой зачета поднять переплату, то рекомендуем направить заявку на СТП.\n",
      "Пост: 11272\n",
      "Ответ: 33115\n",
      "id_message: 33140\n",
      "Пользователь: marysyaa_sergeevna\n",
      "---------------\n",
      "Дата: 2023-05-31 20:57:22\n",
      "Сообщение: Отмена зачетов реализована. Если выдает ошибку - заявку на СТП.\n",
      "Пост: 11271\n",
      "Ответ: 33116\n",
      "id_message: 33149\n",
      "Пользователь: None\n",
      "---------------\n",
      "Дата: 2023-06-01 09:21:08\n",
      "Сообщение: Наталья, возвращаемся к Вашему вопросу.\n",
      "Проблема с возвратами по КБК, указанному в заявлении, является массовой.\n",
      "Проблема связана не с тем, что УФК не видят назначение платежа, а в том, что дата платежа отличается от даты сводного.\n",
      "ЦА доведена информация до разработчиков.\n",
      "Планируется доработка, чтобы к заявлению тянулась дата сводного поручения.\n",
      "Ожидаем реализации.\n",
      "Дополнительно сообщаю, что номер строки необходимо указывать во вкладке \"Информация к возврату\" в поле, где номер платежного поручения.\n",
      "Пост: 11272\n",
      "Ответ: 29109\n",
      "id_message: 33166\n",
      "Пользователь: marysyaa_sergeevna\n",
      "---------------\n",
      "Дата: 2023-06-01 10:42:11\n",
      "Сообщение: Уведомление сторнируются уточненным уведомлением. В данном случае если сторнируется сразу два уведомления, то после обнуления начислений по уведомлениям можно подать верное уведомление. Если уведомлением не получится, то можно подать заявку на СТП\n",
      "Пост: 14008\n",
      "Ответ: 33108\n",
      "id_message: 33202\n",
      "Пользователь: BabaevaTA\n"
     ]
    }
   ],
   "source": [
    "for message in list_messages_add[::-1]:\n",
    "\n",
    "    print('---------------')\n",
    "    print('Дата:', message.date)\n",
    "    print('Сообщение:', message.text)\n",
    "    print('Пост:', message.reply_to_top_message_id)\n",
    "    print('Ответ:', message.reply_to_message_id)\n",
    "    print('id_message:', message.id)\n",
    "    if message.from_user != None:\n",
    "        print('Пользователь:', message.from_user.username)\n",
    "    else:\n",
    "        print('Пользователь: Какой то засранец под админом')\n"
   ]
  },
  {
   "cell_type": "code",
   "execution_count": 30,
   "metadata": {},
   "outputs": [
    {
     "data": {
      "text/plain": [
       "2"
      ]
     },
     "execution_count": 30,
     "metadata": {},
     "output_type": "execute_result"
    }
   ],
   "source": [
    "list_mes = [33108, 33202]\n",
    "list_load = []\n",
    "for mes in list_messages_add[::-1]:\n",
    "    if mes.id in list_mes:\n",
    "        list_load.append(mes)\n",
    "len(list_load)"
   ]
  },
  {
   "cell_type": "code",
   "execution_count": 23,
   "metadata": {},
   "outputs": [],
   "source": [
    "list_messages_add = list_messages_add[::-1]"
   ]
  },
  {
   "cell_type": "code",
   "execution_count": 33,
   "metadata": {},
   "outputs": [
    {
     "name": "stdout",
     "output_type": "stream",
     "text": [
      "-------------------------------------------\n",
      "гуид: 4 | 2023-06-01 11:57:39.261569 Получаю вопрос:\n",
      "Добрый день, у нас тоже налогоплательщик представил уведомление по Усн за 1 квартал 2023, в окно уведомление легло 2 раза, образовалась недоимка, что делать? ИНН 170101691256.\n",
      "4 {'succes': False, 'answer': 'Модератор не найден в базе'}\n",
      "гуид: 4 | 2023-06-01 11:57:39.287514 получаю предыдущее сообщение...\n",
      "гуид: 4 | 2023-06-01 11:57:39.356128 получил предыдущее сообщение.\n",
      "гуид: 4 | 2023-06-01 11:57:39.356128 начинаю поиск категории. Ищу пока не упрусь в последнее сообщение...\n",
      "гуид: 4 | 2023-06-01 11:57:39.356128 кончились сообщения.\n",
      "гуид: 4 | 2023-06-01 11:57:39.356128 если предыдущее сообщение не равно первому, то берем репли ту месседж из предыдущего. Для сохранения цепочки сообщений.\n",
      "гуид: 4 | 2023-06-01 11:57:39.356128 получаем автора сообщения...\n",
      "гуид: 4 | 2023-06-01 11:57:39.356128 есть автор. Берем его.\n",
      "гуид: 4 | 2023-06-01 11:57:39.356128 вызываем процедурку отправки запроса...\n",
      "2023-06-01 11:57:39.356128 щас буду выполнять пост запрос...\n",
      "2023-06-01 11:57:40.131717 выполнил пост запрос.\n",
      "гуид: 4 | 2023-06-01 11:57:40.131717 Это вопрос требующий ответа!\n",
      "гуид: 4 | 2023-06-01 11:57:40.131717 Получен пустой ответ. Ответа нет в базе. Создана заявка.\n",
      "-------------------------------------------\n",
      "гуид: 6 | 2023-06-01 11:57:40.710055 Получаю вопрос:\n",
      "Уведомление сторнируются уточненным уведомлением. В данном случае если сторнируется сразу два уведомления, то после обнуления начислений по уведомлениям можно подать верное уведомление. Если уведомлением не получится, то можно подать заявку на СТП\n",
      "6 {'succes': True}\n"
     ]
    }
   ],
   "source": [
    "for message in list_load:\n",
    "    await my_app_telegram_prog.response_message(message)"
   ]
  },
  {
   "cell_type": "code",
   "execution_count": null,
   "metadata": {},
   "outputs": [],
   "source": []
  },
  {
   "cell_type": "code",
   "execution_count": null,
   "metadata": {},
   "outputs": [],
   "source": []
  },
  {
   "cell_type": "code",
   "execution_count": null,
   "metadata": {},
   "outputs": [],
   "source": []
  }
 ],
 "metadata": {
  "kernelspec": {
   "display_name": "AI",
   "language": "python",
   "name": "python3"
  },
  "language_info": {
   "codemirror_mode": {
    "name": "ipython",
    "version": 3
   },
   "file_extension": ".py",
   "mimetype": "text/x-python",
   "name": "python",
   "nbconvert_exporter": "python",
   "pygments_lexer": "ipython3",
   "version": "3.9.10"
  },
  "orig_nbformat": 4
 },
 "nbformat": 4,
 "nbformat_minor": 2
}
