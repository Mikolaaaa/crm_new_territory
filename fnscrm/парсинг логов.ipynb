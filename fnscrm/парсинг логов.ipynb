{
 "cells": [
  {
   "cell_type": "code",
   "execution_count": 108,
   "metadata": {},
   "outputs": [
    {
     "name": "stdout",
     "output_type": "stream",
     "text": [
      "Всего добавить нужно 426\n"
     ]
    }
   ],
   "source": [
    "dict_add = {}\n",
    "arr_delete = []\n",
    "arr_score = []\n",
    "\n",
    "with open('load.log', encoding='utf-8') as f:\n",
    "    \n",
    "    arr_str = f.readlines()\n",
    "    json_str = ''\n",
    "    action = ''\n",
    "    x = None\n",
    "    \n",
    "    for row in arr_str:\n",
    "    \n",
    "        if row[:len('INFO:root:message_obj')] == 'INFO:root:message_obj':\n",
    "            json_str = '{'\n",
    "            if row.find('add') != -1:\n",
    "                action = 'add'\n",
    "            elif row.find('delete') != -1:\n",
    "                action = 'delete'\n",
    "            elif row.find('score') != -1:\n",
    "                action = 'score'\n",
    "        elif row[:4] == 'INFO' and json_str != '':\n",
    "            x = eval(json_str)\n",
    "            if action == 'add':\n",
    "                dict_add[x['id']] = x\n",
    "            elif action == 'delete':\n",
    "                arr_delete.append(x)\n",
    "            elif action == 'score':\n",
    "                arr_score.append(x)\n",
    "            json_str = ''\n",
    "        elif row[:4] != 'INFO' and json_str != '':\n",
    "            json_str += row.replace('\\n', ' ').replace('false', 'False').replace('true', 'True')\n",
    "\n",
    "for i in arr_delete:\n",
    "    try:\n",
    "        del dict_add[i['id']]\n",
    "    except:\n",
    "        pass\n",
    "\n",
    "count = 0\n",
    "print('Всего добавить нужно', len(dict_add))\n",
    "\n",
    "count = 0\n",
    "\n",
    "for i in dict_add:\n",
    "    message = DotMap(dict_add[i])\n",
    "    \n",
    "    no_count = False\n",
    "    if message.forwards == DotMap():\n",
    "        message.forwards = None\n",
    "    if message.from_user == DotMap():\n",
    "        message.from_user = None\n",
    "        no_count = True\n",
    "    if message.text == DotMap():\n",
    "        message.text = None\n",
    "        no_count = True\n",
    "    if message.reply_to_message_id == DotMap():\n",
    "        message.reply_to_message_id = None\n",
    "        no_count = True\n",
    "\n",
    "    if no_count == False:\n",
    "        count += 1    "
   ]
  },
  {
   "cell_type": "code",
   "execution_count": 109,
   "metadata": {},
   "outputs": [
    {
     "name": "stdout",
     "output_type": "stream",
     "text": [
      "417\n"
     ]
    }
   ],
   "source": [
    "print(count)"
   ]
  },
  {
   "cell_type": "code",
   "execution_count": 85,
   "metadata": {},
   "outputs": [
    {
     "name": "stdout",
     "output_type": "stream",
     "text": [
      "426\n"
     ]
    }
   ],
   "source": [
    "print(len(dict_add))"
   ]
  },
  {
   "cell_type": "code",
   "execution_count": 96,
   "metadata": {},
   "outputs": [],
   "source": [
    "d = dict_add[38643]"
   ]
  },
  {
   "cell_type": "code",
   "execution_count": 98,
   "metadata": {},
   "outputs": [
    {
     "data": {
      "text/plain": [
       "{'_': 'Message',\n",
       " 'id': 38643,\n",
       " 'from_user': {'_': 'User',\n",
       "  'id': 902504220,\n",
       "  'is_self': False,\n",
       "  'is_contact': False,\n",
       "  'is_mutual_contact': False,\n",
       "  'is_deleted': False,\n",
       "  'is_bot': False,\n",
       "  'is_verified': False,\n",
       "  'is_restricted': False,\n",
       "  'is_scam': False,\n",
       "  'is_fake': False,\n",
       "  'is_support': False,\n",
       "  'is_premium': False,\n",
       "  'first_name': 'Lana',\n",
       "  'status': 'UserStatus.RECENTLY'},\n",
       " 'date': '2023-08-09 07:37:30',\n",
       " 'chat': {'_': 'Chat',\n",
       "  'id': -1001849793263,\n",
       "  'type': 'ChatType.SUPERGROUP',\n",
       "  'is_verified': False,\n",
       "  'is_restricted': False,\n",
       "  'is_creator': False,\n",
       "  'is_scam': False,\n",
       "  'is_fake': False,\n",
       "  'title': 'ОКНО в ЕНС Общий',\n",
       "  'has_protected_content': False,\n",
       "  'permissions': {'_': 'ChatPermissions',\n",
       "   'can_send_messages': True,\n",
       "   'can_send_media_messages': False,\n",
       "   'can_send_other_messages': False,\n",
       "   'can_send_polls': False,\n",
       "   'can_add_web_page_previews': True,\n",
       "   'can_change_info': False,\n",
       "   'can_invite_users': False,\n",
       "   'can_pin_messages': False}},\n",
       " 'mentioned': False,\n",
       " 'scheduled': False,\n",
       " 'from_scheduled': False,\n",
       " 'has_protected_content': False,\n",
       " 'text': 'На встрече, перезвоню позже.',\n",
       " 'outgoing': False}"
      ]
     },
     "execution_count": 98,
     "metadata": {},
     "output_type": "execute_result"
    }
   ],
   "source": [
    "d"
   ]
  },
  {
   "cell_type": "code",
   "execution_count": 97,
   "metadata": {},
   "outputs": [],
   "source": [
    "ns = DotMap(d)"
   ]
  },
  {
   "cell_type": "code",
   "execution_count": 100,
   "metadata": {},
   "outputs": [],
   "source": [
    "sp = \"\"\"876\n",
    "38524\n",
    "38525\n",
    "38526\n",
    "38527\n",
    "38528\n",
    "38529\n",
    "38530\n",
    "38531\n",
    "38532\n",
    "38533\n",
    "38534\n",
    "38535\n",
    "38536\n",
    "38537\n",
    "38538\n",
    "38539\n",
    "38540\n",
    "38541\n",
    "38542\n",
    "38543\n",
    "38544\n",
    "38545\n",
    "38546\n",
    "38547\n",
    "38548\n",
    "38549\n",
    "38550\n",
    "38551\n",
    "38552\n",
    "38553\n",
    "38554\n",
    "38555\n",
    "38556\n",
    "38557\n",
    "38558\n",
    "38559\n",
    "38560\n",
    "38561\n",
    "38562\n",
    "38563\n",
    "38564\n",
    "38565\n",
    "38566\n",
    "38567\n",
    "38568\n",
    "38569\n",
    "38570\n",
    "38571\n",
    "38572\n",
    "38573\n",
    "38574\n",
    "38575\n",
    "38576\n",
    "38577\n",
    "38578\n",
    "38579\n",
    "38581\n",
    "38582\n",
    "38583\n",
    "38584\n",
    "38585\n",
    "38586\n",
    "38587\n",
    "38588\n",
    "38589\n",
    "38590\n",
    "38591\n",
    "38592\n",
    "38593\n",
    "38594\n",
    "38595\n",
    "38596\n",
    "38597\n",
    "38598\n",
    "38599\n",
    "38600\n",
    "38601\n",
    "38602\n",
    "38603\n",
    "38604\n",
    "38605\n",
    "38606\n",
    "38607\n",
    "38608\n",
    "38609\n",
    "38610\n",
    "38611\n",
    "38612\n",
    "38613\n",
    "38614\n",
    "38615\n",
    "38616\n",
    "38617\n",
    "38618\n",
    "38619\n",
    "38620\n",
    "38621\n",
    "38622\n",
    "38623\n",
    "38624\n",
    "38625\n",
    "38626\n",
    "38627\n",
    "38628\n",
    "38629\n",
    "38630\n",
    "38631\n",
    "38632\n",
    "38633\n",
    "38634\n",
    "38635\n",
    "38636\n",
    "38638\n",
    "38637\n",
    "38639\n",
    "38640\n",
    "38641\n",
    "38642\n",
    "38643\"\"\".split('\\n')"
   ]
  },
  {
   "cell_type": "code",
   "execution_count": 101,
   "metadata": {},
   "outputs": [
    {
     "data": {
      "text/plain": [
       "120"
      ]
     },
     "execution_count": 101,
     "metadata": {},
     "output_type": "execute_result"
    }
   ],
   "source": [
    "len(sp)"
   ]
  },
  {
   "cell_type": "code",
   "execution_count": 95,
   "metadata": {},
   "outputs": [],
   "source": [
    "ns"
   ]
  },
  {
   "cell_type": "code",
   "execution_count": 90,
   "metadata": {},
   "outputs": [
    {
     "data": {
      "text/plain": [
       "False"
      ]
     },
     "execution_count": 90,
     "metadata": {},
     "output_type": "execute_result"
    }
   ],
   "source": [
    "ns == DotMap()"
   ]
  },
  {
   "cell_type": "code",
   "execution_count": 40,
   "metadata": {},
   "outputs": [],
   "source": [
    "for i in dict_add:\n",
    "    message = DotMap(dict_add[i])"
   ]
  }
 ],
 "metadata": {
  "kernelspec": {
   "display_name": "AI",
   "language": "python",
   "name": "python3"
  },
  "language_info": {
   "codemirror_mode": {
    "name": "ipython",
    "version": 3
   },
   "file_extension": ".py",
   "mimetype": "text/x-python",
   "name": "python",
   "nbconvert_exporter": "python",
   "pygments_lexer": "ipython3",
   "version": "3.9.12"
  },
  "orig_nbformat": 4
 },
 "nbformat": 4,
 "nbformat_minor": 2
}
